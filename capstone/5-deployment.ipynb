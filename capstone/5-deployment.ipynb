{
 "cells": [
  {
   "cell_type": "code",
   "execution_count": 4,
   "metadata": {},
   "outputs": [
    {
     "name": "stdout",
     "output_type": "stream",
     "text": [
      " * Serving Flask app \"__main__\" (lazy loading)\n",
      " * Environment: production\n",
      "   WARNING: This is a development server. Do not use it in a production deployment.\n",
      "   Use a production WSGI server instead.\n",
      " * Debug mode: off\n"
     ]
    },
    {
     "name": "stderr",
     "output_type": "stream",
     "text": [
      " * Running on http://127.0.0.1:5000/ (Press CTRL+C to quit)\n",
      "127.0.0.1 - - [09/Mar/2020 13:35:20] \"\u001b[37mGET / HTTP/1.1\u001b[0m\" 200 -\n",
      "127.0.0.1 - - [09/Mar/2020 13:35:20] \"\u001b[33mGET /favicon.ico HTTP/1.1\u001b[0m\" 404 -\n",
      "127.0.0.1 - - [09/Mar/2020 13:36:13] \"\u001b[37mGET / HTTP/1.1\u001b[0m\" 200 -\n"
     ]
    }
   ],
   "source": [
    "# app.py\n",
    "from flask import Flask, request, jsonify\n",
    "app = Flask(__name__)\n",
    "\n",
    "@app.route('/getmsg/', methods=['GET'])\n",
    "def respond():\n",
    "    # Retrieve the name from url parameter\n",
    "    name = request.args.get(\"name\", None)\n",
    "\n",
    "    # For debugging\n",
    "    print(f\"got name {name}\")\n",
    "\n",
    "    response = {}\n",
    "\n",
    "    # Check if user sent a name at all\n",
    "    if not name:\n",
    "        response[\"ERROR\"] = \"no name found, please send a name.\"\n",
    "    # Check if the user entered a number not a name\n",
    "    elif str(name).isdigit():\n",
    "        response[\"ERROR\"] = \"name can't be numeric.\"\n",
    "    # Now the user entered a valid name\n",
    "    else:\n",
    "        response[\"MESSAGE\"] = f\"Welcome {name} to our awesome platform!!\"\n",
    "\n",
    "    # Return the response in json format\n",
    "    return jsonify(response)\n",
    "\n",
    "@app.route('/post/', methods=['POST'])\n",
    "def post_something():\n",
    "    param = request.form.get('name')\n",
    "    print(param)\n",
    "    # You can add the test cases you made in the previous function, but in our case here you are just testing the POST functionality\n",
    "    if param:\n",
    "        return jsonify({\n",
    "            \"Message\": f\"Welcome {name} to our awesome platform!!\",\n",
    "            # Add this option to distinct the POST request\n",
    "            \"METHOD\" : \"POST\"\n",
    "        })\n",
    "    else:\n",
    "        return jsonify({\n",
    "            \"ERROR\": \"no name found, please send a name.\"\n",
    "        })\n",
    "\n",
    "# A welcome message to test our server\n",
    "@app.route('/')\n",
    "def index():\n",
    "    return \"<h1>Welcome to our server !!</h1>\"\n",
    "\n",
    "if __name__ == '__main__':\n",
    "    # Threaded option to enable multiple instances for multiple user access support\n",
    "    app.run(threaded=True, port=5000)"
   ]
  },
  {
   "cell_type": "code",
   "execution_count": null,
   "metadata": {},
   "outputs": [],
   "source": []
  },
  {
   "cell_type": "code",
   "execution_count": null,
   "metadata": {},
   "outputs": [],
   "source": []
  }
 ],
 "metadata": {
  "kernelspec": {
   "display_name": "Python 3",
   "language": "python",
   "name": "python3"
  },
  "language_info": {
   "codemirror_mode": {
    "name": "ipython",
    "version": 3
   },
   "file_extension": ".py",
   "mimetype": "text/x-python",
   "name": "python",
   "nbconvert_exporter": "python",
   "pygments_lexer": "ipython3",
   "version": "3.7.4"
  }
 },
 "nbformat": 4,
 "nbformat_minor": 2
}

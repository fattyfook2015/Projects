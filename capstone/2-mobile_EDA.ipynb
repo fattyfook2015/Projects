{
 "cells": [
  {
   "cell_type": "markdown",
   "metadata": {},
   "source": [
    "# Problem Statement(?)\n",
    "----\n",
    "Original Challenge:\n",
    "Shopee National Data Science Challenge 2019 - Advanced\n",
    "To build an automatic solution to extract product related information from large volume of images and free text data.\n",
    "\n",
    "I will be looking at the mobile data (text and image) specifically to fill in as many columns as possible. I will be essentially doing a downsized version of the challenge which allows me to use make use of both text and image data to tackle a data science problem. \n",
    "\n",
    "Problem Statement:\n",
    "How to extract mobile product related information using images and free text data?"
   ]
  },
  {
   "cell_type": "markdown",
   "metadata": {},
   "source": [
    "# Mobile Data (Text)\n",
    "----\n",
    "We will first do some EDA on the raw mobile data set to see how we can 'Divide-and-Conquer' the problem."
   ]
  },
  {
   "cell_type": "markdown",
   "metadata": {},
   "source": [
    "## Imports"
   ]
  },
  {
   "cell_type": "code",
   "execution_count": 1,
   "metadata": {},
   "outputs": [],
   "source": [
    "import pandas as pd"
   ]
  },
  {
   "cell_type": "markdown",
   "metadata": {},
   "source": [
    "## Loading the Data"
   ]
  },
  {
   "cell_type": "code",
   "execution_count": 2,
   "metadata": {},
   "outputs": [],
   "source": [
    "mobile = pd.read_csv('mobile_data_info_train_competition.csv')"
   ]
  },
  {
   "cell_type": "code",
   "execution_count": 3,
   "metadata": {},
   "outputs": [
    {
     "data": {
      "text/plain": [
       "(160330, 14)"
      ]
     },
     "execution_count": 3,
     "metadata": {},
     "output_type": "execute_result"
    }
   ],
   "source": [
    "# checking the shape of the data set\n",
    "mobile.shape"
   ]
  },
  {
   "cell_type": "code",
   "execution_count": 4,
   "metadata": {},
   "outputs": [
    {
     "data": {
      "text/plain": [
       "<bound method DataFrame.info of             itemid                                              title  \\\n",
       "0          2346660  apple iphone 4s back glass spare part original...   \n",
       "1          2816338                               iphone 4s 64gb white   \n",
       "2          2847602                    samsung sm b310e piton dual sim   \n",
       "3          3116949      samsung caramel gt e1272 dual sim 32 mb putih   \n",
       "4          3794648                 garskin sony experia z z1 z2 ultra   \n",
       "...            ...                                                ...   \n",
       "160325  1510771637  beli 2 gratis 1 xiaomi mi mix black 6 64 rom g...   \n",
       "160326  1515822742  android i phone x real 4g 16gb free wireless c...   \n",
       "160327  1516747666                     xiaomi mia1 ram 4gb 64gb black   \n",
       "160328  1517270941                   khusus hari ini samsung j2 prime   \n",
       "160329  1518889125            oppo a83 2 gb new garansi resmi 1 tahun   \n",
       "\n",
       "                                               image_path  Operating System  \\\n",
       "0       mobile_image/a9c8f0fdd6587deed197634066cf7eee.jpg               NaN   \n",
       "1       mobile_image/3b9a11608551b11b9330268e0d055e01.jpg               NaN   \n",
       "2       mobile_image/1d719e936841a83c165da620f927de68.jpg               NaN   \n",
       "3       mobile_image/1d35a74d90df6cf4a02e6a5df9e9ff29.jpg               NaN   \n",
       "4       mobile_image/5556577b09539a9c0db0d00e0f171e2d.jpg               6.0   \n",
       "...                                                   ...               ...   \n",
       "160325  mobile_image/70e0d8ddd69692b0f134498efbddf4e1.jpg               NaN   \n",
       "160326  mobile_image/d58393fe029ba62160d2a5d1fa6638a1.jpg               6.0   \n",
       "160327  mobile_image/bfacb3c9af2f6a597008e57fb2d34609.jpg               6.0   \n",
       "160328  mobile_image/42d74ab8212a24720d42e84c649ab488.jpg               6.0   \n",
       "160329  mobile_image/0b10f33a67ccb4ee3e1240d44c2ee0ef.jpg               6.0   \n",
       "\n",
       "        Features  Network Connections  Memory RAM  Brand  Warranty Period  \\\n",
       "0            NaN                  NaN         NaN    2.0              NaN   \n",
       "1            NaN                  NaN         NaN    2.0              NaN   \n",
       "2            NaN                  NaN         NaN   43.0             13.0   \n",
       "3            NaN                  NaN         NaN   43.0             13.0   \n",
       "4            NaN                  0.0         NaN   38.0              NaN   \n",
       "...          ...                  ...         ...    ...              ...   \n",
       "160325       NaN                  NaN         NaN   33.0              NaN   \n",
       "160326       NaN                  0.0         9.0    2.0              NaN   \n",
       "160327       NaN                  NaN         5.0   33.0              NaN   \n",
       "160328       0.0                  NaN         NaN   43.0              NaN   \n",
       "160329       NaN                  NaN         NaN   55.0             13.0   \n",
       "\n",
       "        Storage Capacity  Color Family  Phone Model  Camera  Phone Screen Size  \n",
       "0                    NaN          12.0       1526.0     NaN                NaN  \n",
       "1                    3.0          12.0          NaN     NaN                NaN  \n",
       "2                    NaN          12.0          NaN     NaN                NaN  \n",
       "3                    NaN          12.0          NaN     NaN                NaN  \n",
       "4                    NaN           NaN          NaN     NaN                NaN  \n",
       "...                  ...           ...          ...     ...                ...  \n",
       "160325               NaN          10.0       1532.0     NaN                NaN  \n",
       "160326               NaN          10.0          NaN     NaN                2.0  \n",
       "160327               3.0          10.0          NaN     NaN                5.0  \n",
       "160328               NaN           NaN          NaN     6.0                0.0  \n",
       "160329               NaN          13.0        832.0     NaN                2.0  \n",
       "\n",
       "[160330 rows x 14 columns]>"
      ]
     },
     "execution_count": 4,
     "metadata": {},
     "output_type": "execute_result"
    }
   ],
   "source": [
    "mobile.info"
   ]
  },
  {
   "cell_type": "code",
   "execution_count": 5,
   "metadata": {},
   "outputs": [
    {
     "data": {
      "text/html": [
       "<div>\n",
       "<style scoped>\n",
       "    .dataframe tbody tr th:only-of-type {\n",
       "        vertical-align: middle;\n",
       "    }\n",
       "\n",
       "    .dataframe tbody tr th {\n",
       "        vertical-align: top;\n",
       "    }\n",
       "\n",
       "    .dataframe thead th {\n",
       "        text-align: right;\n",
       "    }\n",
       "</style>\n",
       "<table border=\"1\" class=\"dataframe\">\n",
       "  <thead>\n",
       "    <tr style=\"text-align: right;\">\n",
       "      <th></th>\n",
       "      <th>itemid</th>\n",
       "      <th>title</th>\n",
       "      <th>image_path</th>\n",
       "      <th>Operating System</th>\n",
       "      <th>Features</th>\n",
       "      <th>Network Connections</th>\n",
       "      <th>Memory RAM</th>\n",
       "      <th>Brand</th>\n",
       "      <th>Warranty Period</th>\n",
       "      <th>Storage Capacity</th>\n",
       "      <th>Color Family</th>\n",
       "      <th>Phone Model</th>\n",
       "      <th>Camera</th>\n",
       "      <th>Phone Screen Size</th>\n",
       "    </tr>\n",
       "  </thead>\n",
       "  <tbody>\n",
       "    <tr>\n",
       "      <td>0</td>\n",
       "      <td>2346660</td>\n",
       "      <td>apple iphone 4s back glass spare part original...</td>\n",
       "      <td>mobile_image/a9c8f0fdd6587deed197634066cf7eee.jpg</td>\n",
       "      <td>NaN</td>\n",
       "      <td>NaN</td>\n",
       "      <td>NaN</td>\n",
       "      <td>NaN</td>\n",
       "      <td>2.0</td>\n",
       "      <td>NaN</td>\n",
       "      <td>NaN</td>\n",
       "      <td>12.0</td>\n",
       "      <td>1526.0</td>\n",
       "      <td>NaN</td>\n",
       "      <td>NaN</td>\n",
       "    </tr>\n",
       "    <tr>\n",
       "      <td>1</td>\n",
       "      <td>2816338</td>\n",
       "      <td>iphone 4s 64gb white</td>\n",
       "      <td>mobile_image/3b9a11608551b11b9330268e0d055e01.jpg</td>\n",
       "      <td>NaN</td>\n",
       "      <td>NaN</td>\n",
       "      <td>NaN</td>\n",
       "      <td>NaN</td>\n",
       "      <td>2.0</td>\n",
       "      <td>NaN</td>\n",
       "      <td>3.0</td>\n",
       "      <td>12.0</td>\n",
       "      <td>NaN</td>\n",
       "      <td>NaN</td>\n",
       "      <td>NaN</td>\n",
       "    </tr>\n",
       "    <tr>\n",
       "      <td>2</td>\n",
       "      <td>2847602</td>\n",
       "      <td>samsung sm b310e piton dual sim</td>\n",
       "      <td>mobile_image/1d719e936841a83c165da620f927de68.jpg</td>\n",
       "      <td>NaN</td>\n",
       "      <td>NaN</td>\n",
       "      <td>NaN</td>\n",
       "      <td>NaN</td>\n",
       "      <td>43.0</td>\n",
       "      <td>13.0</td>\n",
       "      <td>NaN</td>\n",
       "      <td>12.0</td>\n",
       "      <td>NaN</td>\n",
       "      <td>NaN</td>\n",
       "      <td>NaN</td>\n",
       "    </tr>\n",
       "    <tr>\n",
       "      <td>3</td>\n",
       "      <td>3116949</td>\n",
       "      <td>samsung caramel gt e1272 dual sim 32 mb putih</td>\n",
       "      <td>mobile_image/1d35a74d90df6cf4a02e6a5df9e9ff29.jpg</td>\n",
       "      <td>NaN</td>\n",
       "      <td>NaN</td>\n",
       "      <td>NaN</td>\n",
       "      <td>NaN</td>\n",
       "      <td>43.0</td>\n",
       "      <td>13.0</td>\n",
       "      <td>NaN</td>\n",
       "      <td>12.0</td>\n",
       "      <td>NaN</td>\n",
       "      <td>NaN</td>\n",
       "      <td>NaN</td>\n",
       "    </tr>\n",
       "    <tr>\n",
       "      <td>4</td>\n",
       "      <td>3794648</td>\n",
       "      <td>garskin sony experia z z1 z2 ultra</td>\n",
       "      <td>mobile_image/5556577b09539a9c0db0d00e0f171e2d.jpg</td>\n",
       "      <td>6.0</td>\n",
       "      <td>NaN</td>\n",
       "      <td>0.0</td>\n",
       "      <td>NaN</td>\n",
       "      <td>38.0</td>\n",
       "      <td>NaN</td>\n",
       "      <td>NaN</td>\n",
       "      <td>NaN</td>\n",
       "      <td>NaN</td>\n",
       "      <td>NaN</td>\n",
       "      <td>NaN</td>\n",
       "    </tr>\n",
       "  </tbody>\n",
       "</table>\n",
       "</div>"
      ],
      "text/plain": [
       "    itemid                                              title  \\\n",
       "0  2346660  apple iphone 4s back glass spare part original...   \n",
       "1  2816338                               iphone 4s 64gb white   \n",
       "2  2847602                    samsung sm b310e piton dual sim   \n",
       "3  3116949      samsung caramel gt e1272 dual sim 32 mb putih   \n",
       "4  3794648                 garskin sony experia z z1 z2 ultra   \n",
       "\n",
       "                                          image_path  Operating System  \\\n",
       "0  mobile_image/a9c8f0fdd6587deed197634066cf7eee.jpg               NaN   \n",
       "1  mobile_image/3b9a11608551b11b9330268e0d055e01.jpg               NaN   \n",
       "2  mobile_image/1d719e936841a83c165da620f927de68.jpg               NaN   \n",
       "3  mobile_image/1d35a74d90df6cf4a02e6a5df9e9ff29.jpg               NaN   \n",
       "4  mobile_image/5556577b09539a9c0db0d00e0f171e2d.jpg               6.0   \n",
       "\n",
       "   Features  Network Connections  Memory RAM  Brand  Warranty Period  \\\n",
       "0       NaN                  NaN         NaN    2.0              NaN   \n",
       "1       NaN                  NaN         NaN    2.0              NaN   \n",
       "2       NaN                  NaN         NaN   43.0             13.0   \n",
       "3       NaN                  NaN         NaN   43.0             13.0   \n",
       "4       NaN                  0.0         NaN   38.0              NaN   \n",
       "\n",
       "   Storage Capacity  Color Family  Phone Model  Camera  Phone Screen Size  \n",
       "0               NaN          12.0       1526.0     NaN                NaN  \n",
       "1               3.0          12.0          NaN     NaN                NaN  \n",
       "2               NaN          12.0          NaN     NaN                NaN  \n",
       "3               NaN          12.0          NaN     NaN                NaN  \n",
       "4               NaN           NaN          NaN     NaN                NaN  "
      ]
     },
     "execution_count": 5,
     "metadata": {},
     "output_type": "execute_result"
    }
   ],
   "source": [
    "# looking at the data set\n",
    "mobile.head()"
   ]
  },
  {
   "cell_type": "code",
   "execution_count": 6,
   "metadata": {},
   "outputs": [
    {
     "data": {
      "text/html": [
       "<div>\n",
       "<style scoped>\n",
       "    .dataframe tbody tr th:only-of-type {\n",
       "        vertical-align: middle;\n",
       "    }\n",
       "\n",
       "    .dataframe tbody tr th {\n",
       "        vertical-align: top;\n",
       "    }\n",
       "\n",
       "    .dataframe thead th {\n",
       "        text-align: right;\n",
       "    }\n",
       "</style>\n",
       "<table border=\"1\" class=\"dataframe\">\n",
       "  <thead>\n",
       "    <tr style=\"text-align: right;\">\n",
       "      <th></th>\n",
       "      <th>itemid</th>\n",
       "      <th>title</th>\n",
       "      <th>image_path</th>\n",
       "      <th>Operating System</th>\n",
       "      <th>Features</th>\n",
       "      <th>Network Connections</th>\n",
       "      <th>Memory RAM</th>\n",
       "      <th>Brand</th>\n",
       "      <th>Warranty Period</th>\n",
       "      <th>Storage Capacity</th>\n",
       "      <th>Color Family</th>\n",
       "      <th>Phone Model</th>\n",
       "      <th>Camera</th>\n",
       "      <th>Phone Screen Size</th>\n",
       "    </tr>\n",
       "  </thead>\n",
       "  <tbody>\n",
       "  </tbody>\n",
       "</table>\n",
       "</div>"
      ],
      "text/plain": [
       "Empty DataFrame\n",
       "Columns: [itemid, title, image_path, Operating System, Features, Network Connections, Memory RAM, Brand, Warranty Period, Storage Capacity, Color Family, Phone Model, Camera, Phone Screen Size]\n",
       "Index: []"
      ]
     },
     "execution_count": 6,
     "metadata": {},
     "output_type": "execute_result"
    }
   ],
   "source": [
    "# dropping rows with empty cells\n",
    "mobile.dropna()"
   ]
  },
  {
   "cell_type": "markdown",
   "metadata": {},
   "source": [
    "It seems that every row has at least 1 missing value, as such I will start the classification problem with the columm which has the least number of missing values. "
   ]
  },
  {
   "cell_type": "code",
   "execution_count": 7,
   "metadata": {
    "scrolled": true
   },
   "outputs": [
    {
     "data": {
      "text/plain": [
       "itemid                      0\n",
       "title                       0\n",
       "image_path                  0\n",
       "Brand                    5292\n",
       "Color Family            75499\n",
       "Phone Model             75821\n",
       "Storage Capacity        97180\n",
       "Memory RAM             103293\n",
       "Warranty Period        112257\n",
       "Operating System       115052\n",
       "Features               120985\n",
       "Phone Screen Size      127636\n",
       "Camera                 135740\n",
       "Network Connections    136906\n",
       "dtype: int64"
      ]
     },
     "execution_count": 7,
     "metadata": {},
     "output_type": "execute_result"
    }
   ],
   "source": [
    "# looking at the nulls in each column\n",
    "mobile.isnull().sum().sort_values(ascending=True)"
   ]
  },
  {
   "cell_type": "markdown",
   "metadata": {},
   "source": [
    "## Mobile Data (Images)"
   ]
  },
  {
   "cell_type": "markdown",
   "metadata": {},
   "source": [
    "### Imports"
   ]
  },
  {
   "cell_type": "code",
   "execution_count": 9,
   "metadata": {},
   "outputs": [],
   "source": [
    "import matplotlib.pyplot as plt\n",
    "import cv2"
   ]
  },
  {
   "cell_type": "code",
   "execution_count": 14,
   "metadata": {},
   "outputs": [
    {
     "data": {
      "image/png": "[encoded data removed]",
      "text/plain": [
       "<Figure size 432x288 with 1 Axes>"
      ]
     },
     "metadata": {
      "needs_background": "light"
     },
     "output_type": "display_data"
    }
   ],
   "source": [
    "# displaying the first image\n",
    "for img in mobile['image_path']:\n",
    "    plt.imshow(cv2.imread(img))\n",
    "    plt.show()\n",
    "    break"
   ]
  },
  {
   "cell_type": "code",
   "execution_count": 15,
   "metadata": {},
   "outputs": [
    {
     "data": {
      "text/plain": [
       "array([[[255, 255, 255],\n",
       "        [255, 255, 255],\n",
       "        [255, 255, 255],\n",
       "        ...,\n",
       "        [255, 255, 255],\n",
       "        [255, 255, 255],\n",
       "        [255, 255, 255]],\n",
       "\n",
       "       [[255, 255, 255],\n",
       "        [255, 255, 255],\n",
       "        [255, 255, 255],\n",
       "        ...,\n",
       "        [255, 255, 255],\n",
       "        [255, 255, 255],\n",
       "        [255, 255, 255]],\n",
       "\n",
       "       [[255, 255, 255],\n",
       "        [255, 255, 255],\n",
       "        [255, 255, 255],\n",
       "        ...,\n",
       "        [255, 255, 255],\n",
       "        [255, 255, 255],\n",
       "        [255, 255, 255]],\n",
       "\n",
       "       ...,\n",
       "\n",
       "       [[255, 255, 255],\n",
       "        [255, 255, 255],\n",
       "        [255, 255, 255],\n",
       "        ...,\n",
       "        [255, 255, 255],\n",
       "        [255, 255, 255],\n",
       "        [255, 255, 255]],\n",
       "\n",
       "       [[255, 255, 255],\n",
       "        [255, 255, 255],\n",
       "        [255, 255, 255],\n",
       "        ...,\n",
       "        [255, 255, 255],\n",
       "        [255, 255, 255],\n",
       "        [255, 255, 255]],\n",
       "\n",
       "       [[255, 255, 255],\n",
       "        [255, 255, 255],\n",
       "        [255, 255, 255],\n",
       "        ...,\n",
       "        [255, 255, 255],\n",
       "        [255, 255, 255],\n",
       "        [255, 255, 255]]], dtype=uint8)"
      ]
     },
     "execution_count": 15,
     "metadata": {},
     "output_type": "execute_result"
    }
   ],
   "source": [
    "# displaying the image array\n",
    "cv2.imread(mobile['image_path'][0])"
   ]
  }
 ],
 "metadata": {
  "kernelspec": {
   "display_name": "Python 3",
   "language": "python",
   "name": "python3"
  },
  "language_info": {
   "codemirror_mode": {
    "name": "ipython",
    "version": 3
   },
   "file_extension": ".py",
   "mimetype": "text/x-python",
   "name": "python",
   "nbconvert_exporter": "python",
   "pygments_lexer": "ipython3",
   "version": "3.7.4"
  }
 },
 "nbformat": 4,
 "nbformat_minor": 2
}

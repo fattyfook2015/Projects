{
 "cells": [
  {
   "cell_type": "markdown",
   "metadata": {
    "colab_type": "text",
    "id": "SNg7AR-1dly5"
   },
   "source": [
    "# Mobile Color Family"
   ]
  },
  {
   "cell_type": "markdown",
   "metadata": {
    "colab_type": "text",
    "id": "-H6LX_zRd7qy"
   },
   "source": [
    "In this notebook, I will attempt to use the product images to determine the color of each mobile device. "
   ]
  },
  {
   "cell_type": "markdown",
   "metadata": {
    "colab_type": "text",
    "id": "h8ScrOQ1kp0v"
   },
   "source": [
    "## Imports"
   ]
  },
  {
   "cell_type": "code",
   "execution_count": 1,
   "metadata": {
    "colab": {},
    "colab_type": "code",
    "id": "8NiTMoWhc9_2"
   },
   "outputs": [
    {
     "name": "stderr",
     "output_type": "stream",
     "text": [
      "Using TensorFlow backend.\n"
     ]
    }
   ],
   "source": [
    "import pandas as pd \n",
    "import numpy as np\n",
    "import matplotlib.pyplot as plt\n",
    "import seaborn as sns\n",
    "import cv2\n",
    "from sklearn.model_selection import train_test_split\n",
    "from keras.layers import Dense, GlobalAveragePooling2D\n",
    "from keras.utils import np_utils\n",
    "\n",
    "from keras.applications.vgg16 import VGG16\n",
    "from keras.utils.vis_utils import plot_model\n",
    "from keras.models import Model\n",
    "from keras.preprocessing.image import load_img\n",
    "from keras.preprocessing.image import img_to_array\n",
    "from keras.applications.vgg16 import preprocess_input\n",
    "from keras.applications.vgg16 import decode_predictions\n",
    "from keras.applications.vgg16 import VGG16\n",
    "\n",
    "%matplotlib inline\n",
    "pd.options.mode.chained_assignment = None"
   ]
  },
  {
   "cell_type": "code",
   "execution_count": 2,
   "metadata": {
    "colab": {
     "base_uri": "https://localhost:8080/",
     "height": 34
    },
    "colab_type": "code",
    "id": "KuRNRg3dbLrg",
    "outputId": "fba34381-c952-4a00-8ebd-568c0288937f"
   },
   "outputs": [],
   "source": [
    "# from google.colab import drive\n",
    "# drive.mount('/content/drive')"
   ]
  },
  {
   "cell_type": "markdown",
   "metadata": {
    "colab_type": "text",
    "id": "wL2mwnl_OtD1"
   },
   "source": [
    "## Loading the data sets"
   ]
  },
  {
   "cell_type": "code",
   "execution_count": 3,
   "metadata": {
    "colab": {},
    "colab_type": "code",
    "id": "AmfZFr-ZN898"
   },
   "outputs": [],
   "source": [
    "# mobile = pd.read_csv('/content/drive/My Drive/Colab Notebooks/Capstone/mobile_data_info_train_competition.csv')\n",
    "# tags = pd.read_csv('/content/drive/My Drive/Colab Notebooks/Capstone/tags.csv')\n",
    "mobile = pd.read_csv('mobile_data_info_train_competition.csv')\n",
    "tags = pd.read_csv('tags.csv')"
   ]
  },
  {
   "cell_type": "code",
   "execution_count": 4,
   "metadata": {
    "colab": {
     "base_uri": "https://localhost:8080/",
     "height": 204
    },
    "colab_type": "code",
    "id": "3Vn_mMBMOLGs",
    "outputId": "683a95c4-c422-4ad9-9a9a-6eaca4d5534a"
   },
   "outputs": [
    {
     "data": {
      "text/html": [
       "<div>\n",
       "<style scoped>\n",
       "    .dataframe tbody tr th:only-of-type {\n",
       "        vertical-align: middle;\n",
       "    }\n",
       "\n",
       "    .dataframe tbody tr th {\n",
       "        vertical-align: top;\n",
       "    }\n",
       "\n",
       "    .dataframe thead th {\n",
       "        text-align: right;\n",
       "    }\n",
       "</style>\n",
       "<table border=\"1\" class=\"dataframe\">\n",
       "  <thead>\n",
       "    <tr style=\"text-align: right;\">\n",
       "      <th></th>\n",
       "      <th>itemid</th>\n",
       "      <th>image_path</th>\n",
       "      <th>Color Family</th>\n",
       "    </tr>\n",
       "  </thead>\n",
       "  <tbody>\n",
       "    <tr>\n",
       "      <td>0</td>\n",
       "      <td>2346660</td>\n",
       "      <td>mobile_image/a9c8f0fdd6587deed197634066cf7eee.jpg</td>\n",
       "      <td>12.0</td>\n",
       "    </tr>\n",
       "    <tr>\n",
       "      <td>1</td>\n",
       "      <td>2816338</td>\n",
       "      <td>mobile_image/3b9a11608551b11b9330268e0d055e01.jpg</td>\n",
       "      <td>12.0</td>\n",
       "    </tr>\n",
       "    <tr>\n",
       "      <td>2</td>\n",
       "      <td>2847602</td>\n",
       "      <td>mobile_image/1d719e936841a83c165da620f927de68.jpg</td>\n",
       "      <td>12.0</td>\n",
       "    </tr>\n",
       "    <tr>\n",
       "      <td>3</td>\n",
       "      <td>3116949</td>\n",
       "      <td>mobile_image/1d35a74d90df6cf4a02e6a5df9e9ff29.jpg</td>\n",
       "      <td>12.0</td>\n",
       "    </tr>\n",
       "    <tr>\n",
       "      <td>4</td>\n",
       "      <td>3794648</td>\n",
       "      <td>mobile_image/5556577b09539a9c0db0d00e0f171e2d.jpg</td>\n",
       "      <td>NaN</td>\n",
       "    </tr>\n",
       "  </tbody>\n",
       "</table>\n",
       "</div>"
      ],
      "text/plain": [
       "    itemid                                         image_path  Color Family\n",
       "0  2346660  mobile_image/a9c8f0fdd6587deed197634066cf7eee.jpg          12.0\n",
       "1  2816338  mobile_image/3b9a11608551b11b9330268e0d055e01.jpg          12.0\n",
       "2  2847602  mobile_image/1d719e936841a83c165da620f927de68.jpg          12.0\n",
       "3  3116949  mobile_image/1d35a74d90df6cf4a02e6a5df9e9ff29.jpg          12.0\n",
       "4  3794648  mobile_image/5556577b09539a9c0db0d00e0f171e2d.jpg           NaN"
      ]
     },
     "execution_count": 4,
     "metadata": {},
     "output_type": "execute_result"
    }
   ],
   "source": [
    "mobile_color = mobile[['itemid', 'image_path', 'Color Family']]\n",
    "mobile_color.head()"
   ]
  },
  {
   "cell_type": "code",
   "execution_count": 5,
   "metadata": {
    "colab": {
     "base_uri": "https://localhost:8080/",
     "height": 85
    },
    "colab_type": "code",
    "id": "bunfuiwrOQ7x",
    "outputId": "29ae1bf9-7390-4a99-a4c7-2ccecfde60e3"
   },
   "outputs": [
    {
     "data": {
      "text/plain": [
       "itemid              0\n",
       "image_path          0\n",
       "Color Family    75499\n",
       "dtype: int64"
      ]
     },
     "execution_count": 5,
     "metadata": {},
     "output_type": "execute_result"
    }
   ],
   "source": [
    "mobile_color.isnull().sum()"
   ]
  },
  {
   "cell_type": "code",
   "execution_count": 6,
   "metadata": {
    "colab": {
     "base_uri": "https://localhost:8080/",
     "height": 855
    },
    "colab_type": "code",
    "id": "P9naMaH-OZ-k",
    "outputId": "e711dadf-5b19-481e-b922-2a8b1de4fd29"
   },
   "outputs": [
    {
     "data": {
      "text/html": [
       "<div>\n",
       "<style scoped>\n",
       "    .dataframe tbody tr th:only-of-type {\n",
       "        vertical-align: middle;\n",
       "    }\n",
       "\n",
       "    .dataframe tbody tr th {\n",
       "        vertical-align: top;\n",
       "    }\n",
       "\n",
       "    .dataframe thead th {\n",
       "        text-align: right;\n",
       "    }\n",
       "</style>\n",
       "<table border=\"1\" class=\"dataframe\">\n",
       "  <thead>\n",
       "    <tr style=\"text-align: right;\">\n",
       "      <th></th>\n",
       "      <th>color</th>\n",
       "      <th>color_val</th>\n",
       "    </tr>\n",
       "  </thead>\n",
       "  <tbody>\n",
       "    <tr>\n",
       "      <td>0</td>\n",
       "      <td>blue</td>\n",
       "      <td>4.0</td>\n",
       "    </tr>\n",
       "    <tr>\n",
       "      <td>1</td>\n",
       "      <td>gold</td>\n",
       "      <td>0.0</td>\n",
       "    </tr>\n",
       "    <tr>\n",
       "      <td>2</td>\n",
       "      <td>brown</td>\n",
       "      <td>14.0</td>\n",
       "    </tr>\n",
       "    <tr>\n",
       "      <td>3</td>\n",
       "      <td>navy blue</td>\n",
       "      <td>15.0</td>\n",
       "    </tr>\n",
       "    <tr>\n",
       "      <td>4</td>\n",
       "      <td>yellow</td>\n",
       "      <td>1.0</td>\n",
       "    </tr>\n",
       "    <tr>\n",
       "      <td>5</td>\n",
       "      <td>neutral</td>\n",
       "      <td>16.0</td>\n",
       "    </tr>\n",
       "    <tr>\n",
       "      <td>6</td>\n",
       "      <td>rose gold</td>\n",
       "      <td>17.0</td>\n",
       "    </tr>\n",
       "    <tr>\n",
       "      <td>7</td>\n",
       "      <td>light blue</td>\n",
       "      <td>3.0</td>\n",
       "    </tr>\n",
       "    <tr>\n",
       "      <td>8</td>\n",
       "      <td>dark grey</td>\n",
       "      <td>18.0</td>\n",
       "    </tr>\n",
       "    <tr>\n",
       "      <td>9</td>\n",
       "      <td>silver</td>\n",
       "      <td>19.0</td>\n",
       "    </tr>\n",
       "    <tr>\n",
       "      <td>10</td>\n",
       "      <td>pink</td>\n",
       "      <td>2.0</td>\n",
       "    </tr>\n",
       "    <tr>\n",
       "      <td>11</td>\n",
       "      <td>gray</td>\n",
       "      <td>20.0</td>\n",
       "    </tr>\n",
       "    <tr>\n",
       "      <td>12</td>\n",
       "      <td>army green</td>\n",
       "      <td>21.0</td>\n",
       "    </tr>\n",
       "    <tr>\n",
       "      <td>13</td>\n",
       "      <td>deep blue</td>\n",
       "      <td>5.0</td>\n",
       "    </tr>\n",
       "    <tr>\n",
       "      <td>14</td>\n",
       "      <td>purple</td>\n",
       "      <td>6.0</td>\n",
       "    </tr>\n",
       "    <tr>\n",
       "      <td>15</td>\n",
       "      <td>rose</td>\n",
       "      <td>7.0</td>\n",
       "    </tr>\n",
       "    <tr>\n",
       "      <td>16</td>\n",
       "      <td>light grey</td>\n",
       "      <td>22.0</td>\n",
       "    </tr>\n",
       "    <tr>\n",
       "      <td>17</td>\n",
       "      <td>deep black</td>\n",
       "      <td>8.0</td>\n",
       "    </tr>\n",
       "    <tr>\n",
       "      <td>18</td>\n",
       "      <td>off white</td>\n",
       "      <td>9.0</td>\n",
       "    </tr>\n",
       "    <tr>\n",
       "      <td>19</td>\n",
       "      <td>multicolor</td>\n",
       "      <td>24.0</td>\n",
       "    </tr>\n",
       "    <tr>\n",
       "      <td>20</td>\n",
       "      <td>black</td>\n",
       "      <td>10.0</td>\n",
       "    </tr>\n",
       "    <tr>\n",
       "      <td>21</td>\n",
       "      <td>apricot</td>\n",
       "      <td>23.0</td>\n",
       "    </tr>\n",
       "    <tr>\n",
       "      <td>22</td>\n",
       "      <td>orange</td>\n",
       "      <td>11.0</td>\n",
       "    </tr>\n",
       "    <tr>\n",
       "      <td>23</td>\n",
       "      <td>green</td>\n",
       "      <td>25.0</td>\n",
       "    </tr>\n",
       "    <tr>\n",
       "      <td>24</td>\n",
       "      <td>white</td>\n",
       "      <td>12.0</td>\n",
       "    </tr>\n",
       "    <tr>\n",
       "      <td>25</td>\n",
       "      <td>red</td>\n",
       "      <td>13.0</td>\n",
       "    </tr>\n",
       "  </tbody>\n",
       "</table>\n",
       "</div>"
      ],
      "text/plain": [
       "         color  color_val\n",
       "0         blue        4.0\n",
       "1         gold        0.0\n",
       "2        brown       14.0\n",
       "3    navy blue       15.0\n",
       "4       yellow        1.0\n",
       "5      neutral       16.0\n",
       "6    rose gold       17.0\n",
       "7   light blue        3.0\n",
       "8    dark grey       18.0\n",
       "9       silver       19.0\n",
       "10        pink        2.0\n",
       "11        gray       20.0\n",
       "12  army green       21.0\n",
       "13   deep blue        5.0\n",
       "14      purple        6.0\n",
       "15        rose        7.0\n",
       "16  light grey       22.0\n",
       "17  deep black        8.0\n",
       "18   off white        9.0\n",
       "19  multicolor       24.0\n",
       "20       black       10.0\n",
       "21     apricot       23.0\n",
       "22      orange       11.0\n",
       "23       green       25.0\n",
       "24       white       12.0\n",
       "25         red       13.0"
      ]
     },
     "execution_count": 6,
     "metadata": {},
     "output_type": "execute_result"
    }
   ],
   "source": [
    "tags_color = tags[['color', 'color_val']].dropna()\n",
    "tags_color"
   ]
  },
  {
   "cell_type": "markdown",
   "metadata": {
    "colab_type": "text",
    "id": "EzNrwus3aIDB"
   },
   "source": [
    "## More EDA and Cleaning"
   ]
  },
  {
   "cell_type": "code",
   "execution_count": 7,
   "metadata": {
    "colab": {},
    "colab_type": "code",
    "id": "UyOFTvfAaI3Q"
   },
   "outputs": [],
   "source": [
    "mobile_color_filled = mobile_color.dropna()"
   ]
  },
  {
   "cell_type": "code",
   "execution_count": 8,
   "metadata": {
    "colab": {
     "base_uri": "https://localhost:8080/",
     "height": 391
    },
    "colab_type": "code",
    "id": "PsBw7RCAaNb-",
    "outputId": "17672797-f3cb-4590-d031-f821aed80c5f"
   },
   "outputs": [
    {
     "data": {
      "text/plain": [
       "10.0    37350\n",
       "0.0     17162\n",
       "12.0     7883\n",
       "13.0     6999\n",
       "19.0     5596\n",
       "4.0      3917\n",
       "20.0     2359\n",
       "6.0       848\n",
       "2.0       671\n",
       "25.0      594\n",
       "7.0       384\n",
       "14.0      373\n",
       "1.0       327\n",
       "11.0      196\n",
       "18.0       79\n",
       "16.0       63\n",
       "17.0       23\n",
       "22.0        4\n",
       "3.0         1\n",
       "24.0        1\n",
       "23.0        1\n",
       "Name: Color Family, dtype: int64"
      ]
     },
     "execution_count": 8,
     "metadata": {},
     "output_type": "execute_result"
    }
   ],
   "source": [
    "mobile_color_filled['Color Family'].value_counts()"
   ]
  },
  {
   "cell_type": "code",
   "execution_count": 9,
   "metadata": {
    "colab": {
     "base_uri": "https://localhost:8080/",
     "height": 204
    },
    "colab_type": "code",
    "id": "Sy6Ig-oLaTmD",
    "outputId": "3f242fc7-a043-4d75-972f-6f84d1dedbf6"
   },
   "outputs": [
    {
     "data": {
      "text/html": [
       "<div>\n",
       "<style scoped>\n",
       "    .dataframe tbody tr th:only-of-type {\n",
       "        vertical-align: middle;\n",
       "    }\n",
       "\n",
       "    .dataframe tbody tr th {\n",
       "        vertical-align: top;\n",
       "    }\n",
       "\n",
       "    .dataframe thead th {\n",
       "        text-align: right;\n",
       "    }\n",
       "</style>\n",
       "<table border=\"1\" class=\"dataframe\">\n",
       "  <thead>\n",
       "    <tr style=\"text-align: right;\">\n",
       "      <th></th>\n",
       "      <th>color_val</th>\n",
       "      <th>frequency</th>\n",
       "    </tr>\n",
       "  </thead>\n",
       "  <tbody>\n",
       "    <tr>\n",
       "      <td>0</td>\n",
       "      <td>10.0</td>\n",
       "      <td>37350</td>\n",
       "    </tr>\n",
       "    <tr>\n",
       "      <td>1</td>\n",
       "      <td>0.0</td>\n",
       "      <td>17162</td>\n",
       "    </tr>\n",
       "    <tr>\n",
       "      <td>2</td>\n",
       "      <td>12.0</td>\n",
       "      <td>7883</td>\n",
       "    </tr>\n",
       "    <tr>\n",
       "      <td>3</td>\n",
       "      <td>13.0</td>\n",
       "      <td>6999</td>\n",
       "    </tr>\n",
       "    <tr>\n",
       "      <td>4</td>\n",
       "      <td>19.0</td>\n",
       "      <td>5596</td>\n",
       "    </tr>\n",
       "  </tbody>\n",
       "</table>\n",
       "</div>"
      ],
      "text/plain": [
       "   color_val  frequency\n",
       "0       10.0      37350\n",
       "1        0.0      17162\n",
       "2       12.0       7883\n",
       "3       13.0       6999\n",
       "4       19.0       5596"
      ]
     },
     "execution_count": 9,
     "metadata": {},
     "output_type": "execute_result"
    }
   ],
   "source": [
    "# putting the value counts into a dataframe\n",
    "mobile_value_counts = {k:mobile_color_filled['Color Family'].value_counts()[k] for k in mobile_color_filled['Color Family'].value_counts().keys()}\n",
    "mobile_value_counts = pd.DataFrame(mobile_value_counts.items()).rename(columns = {0:'color_val', 1:\"frequency\"})\n",
    "mobile_value_counts.head()"
   ]
  },
  {
   "cell_type": "code",
   "execution_count": 10,
   "metadata": {
    "colab": {
     "base_uri": "https://localhost:8080/",
     "height": 204
    },
    "colab_type": "code",
    "id": "ZaZWR7c8ay3n",
    "outputId": "951a536b-ec0d-451f-cf3f-241e62286914"
   },
   "outputs": [
    {
     "data": {
      "text/html": [
       "<div>\n",
       "<style scoped>\n",
       "    .dataframe tbody tr th:only-of-type {\n",
       "        vertical-align: middle;\n",
       "    }\n",
       "\n",
       "    .dataframe tbody tr th {\n",
       "        vertical-align: top;\n",
       "    }\n",
       "\n",
       "    .dataframe thead th {\n",
       "        text-align: right;\n",
       "    }\n",
       "</style>\n",
       "<table border=\"1\" class=\"dataframe\">\n",
       "  <thead>\n",
       "    <tr style=\"text-align: right;\">\n",
       "      <th></th>\n",
       "      <th>color_val</th>\n",
       "      <th>frequency</th>\n",
       "      <th>color</th>\n",
       "    </tr>\n",
       "  </thead>\n",
       "  <tbody>\n",
       "    <tr>\n",
       "      <td>0</td>\n",
       "      <td>10.0</td>\n",
       "      <td>37350</td>\n",
       "      <td>black</td>\n",
       "    </tr>\n",
       "    <tr>\n",
       "      <td>1</td>\n",
       "      <td>0.0</td>\n",
       "      <td>17162</td>\n",
       "      <td>gold</td>\n",
       "    </tr>\n",
       "    <tr>\n",
       "      <td>2</td>\n",
       "      <td>12.0</td>\n",
       "      <td>7883</td>\n",
       "      <td>white</td>\n",
       "    </tr>\n",
       "    <tr>\n",
       "      <td>3</td>\n",
       "      <td>13.0</td>\n",
       "      <td>6999</td>\n",
       "      <td>red</td>\n",
       "    </tr>\n",
       "    <tr>\n",
       "      <td>4</td>\n",
       "      <td>19.0</td>\n",
       "      <td>5596</td>\n",
       "      <td>silver</td>\n",
       "    </tr>\n",
       "  </tbody>\n",
       "</table>\n",
       "</div>"
      ],
      "text/plain": [
       "   color_val  frequency   color\n",
       "0       10.0      37350   black\n",
       "1        0.0      17162    gold\n",
       "2       12.0       7883   white\n",
       "3       13.0       6999     red\n",
       "4       19.0       5596  silver"
      ]
     },
     "execution_count": 10,
     "metadata": {},
     "output_type": "execute_result"
    }
   ],
   "source": [
    "# merging with the colors\n",
    "mobile_value_counts = mobile_value_counts.merge(tags_color, on=\"color_val\" )\n",
    "mobile_value_counts.head()"
   ]
  },
  {
   "cell_type": "code",
   "execution_count": 11,
   "metadata": {
    "colab": {
     "base_uri": "https://localhost:8080/",
     "height": 1000
    },
    "colab_type": "code",
    "id": "bzloQvuGa_3w",
    "outputId": "c7edef31-2e85-45a2-dca4-e37dbfb69183"
   },
   "outputs": [
    {
     "data": {
      "text/plain": [
       "<matplotlib.axes._subplots.AxesSubplot at 0x111dab690>"
      ]
     },
     "execution_count": 11,
     "metadata": {},
     "output_type": "execute_result"
    },
    {
     "data": {
      "image/png": "[encoded data removed]",
      "text/plain": [
       "<Figure size 576x1296 with 1 Axes>"
      ]
     },
     "metadata": {
      "needs_background": "light"
     },
     "output_type": "display_data"
    }
   ],
   "source": [
    "# visualizing the spread of the data\n",
    "plt.figure(figsize=(8, 18))\n",
    "ax_hist = plt.axes()\n",
    "ax_hist.set_title(label =\"Number of Products listed for each Color\")\n",
    "sns.barplot(x='frequency', y='color', data=mobile_value_counts, orient='h', color='steelblue')"
   ]
  },
  {
   "cell_type": "markdown",
   "metadata": {
    "colab": {},
    "colab_type": "code",
    "id": "jZOwprjwbN-5"
   },
   "source": [
    "From the histogram alone, we see that there are 7 main colours which the products belong to. I will be classifying the rest under 'others' for a total of 8 different classes for the model. "
   ]
  },
  {
   "cell_type": "markdown",
   "metadata": {},
   "source": [
    "## Feature Engineering"
   ]
  },
  {
   "cell_type": "code",
   "execution_count": 12,
   "metadata": {},
   "outputs": [
    {
     "data": {
      "text/plain": [
       "3565"
      ]
     },
     "execution_count": 12,
     "metadata": {},
     "output_type": "execute_result"
    }
   ],
   "source": [
    "# summing up others\n",
    "mobile_value_counts['frequency'][7:].sum()"
   ]
  },
  {
   "cell_type": "code",
   "execution_count": 13,
   "metadata": {},
   "outputs": [
    {
     "data": {
      "text/html": [
       "<div>\n",
       "<style scoped>\n",
       "    .dataframe tbody tr th:only-of-type {\n",
       "        vertical-align: middle;\n",
       "    }\n",
       "\n",
       "    .dataframe tbody tr th {\n",
       "        vertical-align: top;\n",
       "    }\n",
       "\n",
       "    .dataframe thead th {\n",
       "        text-align: right;\n",
       "    }\n",
       "</style>\n",
       "<table border=\"1\" class=\"dataframe\">\n",
       "  <thead>\n",
       "    <tr style=\"text-align: right;\">\n",
       "      <th></th>\n",
       "      <th>color_val</th>\n",
       "      <th>frequency</th>\n",
       "      <th>color</th>\n",
       "    </tr>\n",
       "  </thead>\n",
       "  <tbody>\n",
       "    <tr>\n",
       "      <td>0</td>\n",
       "      <td>10.0</td>\n",
       "      <td>37350</td>\n",
       "      <td>black</td>\n",
       "    </tr>\n",
       "    <tr>\n",
       "      <td>1</td>\n",
       "      <td>0.0</td>\n",
       "      <td>17162</td>\n",
       "      <td>gold</td>\n",
       "    </tr>\n",
       "    <tr>\n",
       "      <td>2</td>\n",
       "      <td>12.0</td>\n",
       "      <td>7883</td>\n",
       "      <td>white</td>\n",
       "    </tr>\n",
       "    <tr>\n",
       "      <td>3</td>\n",
       "      <td>13.0</td>\n",
       "      <td>6999</td>\n",
       "      <td>red</td>\n",
       "    </tr>\n",
       "    <tr>\n",
       "      <td>4</td>\n",
       "      <td>19.0</td>\n",
       "      <td>5596</td>\n",
       "      <td>silver</td>\n",
       "    </tr>\n",
       "    <tr>\n",
       "      <td>5</td>\n",
       "      <td>4.0</td>\n",
       "      <td>3917</td>\n",
       "      <td>blue</td>\n",
       "    </tr>\n",
       "    <tr>\n",
       "      <td>6</td>\n",
       "      <td>20.0</td>\n",
       "      <td>2359</td>\n",
       "      <td>gray</td>\n",
       "    </tr>\n",
       "  </tbody>\n",
       "</table>\n",
       "</div>"
      ],
      "text/plain": [
       "   color_val  frequency   color\n",
       "0       10.0      37350   black\n",
       "1        0.0      17162    gold\n",
       "2       12.0       7883   white\n",
       "3       13.0       6999     red\n",
       "4       19.0       5596  silver\n",
       "5        4.0       3917    blue\n",
       "6       20.0       2359    gray"
      ]
     },
     "execution_count": 13,
     "metadata": {},
     "output_type": "execute_result"
    }
   ],
   "source": [
    "# extracting the top 7 colors\n",
    "mobile_value_counts = mobile_value_counts.head(7)\n",
    "mobile_value_counts"
   ]
  },
  {
   "cell_type": "code",
   "execution_count": 14,
   "metadata": {},
   "outputs": [
    {
     "name": "stdout",
     "output_type": "stream",
     "text": [
      "{10.0: 0, 0.0: 1, 12.0: 2, 13.0: 3, 19.0: 4, 4.0: 5, 20.0: 6, 100.0: 7}\n"
     ]
    }
   ],
   "source": [
    "# extracting the color_val\n",
    "mobile_top7 = {mobile_value_counts.at[i, \"color_val\"]:i for i in mobile_value_counts.index}\n",
    "mobile_top7[100.0] = 7\n",
    "mobile_top8 = mobile_top7\n",
    "print(mobile_top8)"
   ]
  },
  {
   "cell_type": "code",
   "execution_count": 15,
   "metadata": {},
   "outputs": [],
   "source": [
    "# assiging the 8th class 'others'\n",
    "mobile_value_counts.loc[8] = [100, 3565, 'others']"
   ]
  },
  {
   "cell_type": "code",
   "execution_count": 16,
   "metadata": {},
   "outputs": [
    {
     "data": {
      "text/html": [
       "<div>\n",
       "<style scoped>\n",
       "    .dataframe tbody tr th:only-of-type {\n",
       "        vertical-align: middle;\n",
       "    }\n",
       "\n",
       "    .dataframe tbody tr th {\n",
       "        vertical-align: top;\n",
       "    }\n",
       "\n",
       "    .dataframe thead th {\n",
       "        text-align: right;\n",
       "    }\n",
       "</style>\n",
       "<table border=\"1\" class=\"dataframe\">\n",
       "  <thead>\n",
       "    <tr style=\"text-align: right;\">\n",
       "      <th></th>\n",
       "      <th>itemid</th>\n",
       "      <th>image_path</th>\n",
       "      <th>Color Family</th>\n",
       "    </tr>\n",
       "  </thead>\n",
       "  <tbody>\n",
       "    <tr>\n",
       "      <td>0</td>\n",
       "      <td>2346660</td>\n",
       "      <td>mobile_image/a9c8f0fdd6587deed197634066cf7eee.jpg</td>\n",
       "      <td>12.0</td>\n",
       "    </tr>\n",
       "    <tr>\n",
       "      <td>1</td>\n",
       "      <td>2816338</td>\n",
       "      <td>mobile_image/3b9a11608551b11b9330268e0d055e01.jpg</td>\n",
       "      <td>12.0</td>\n",
       "    </tr>\n",
       "    <tr>\n",
       "      <td>2</td>\n",
       "      <td>2847602</td>\n",
       "      <td>mobile_image/1d719e936841a83c165da620f927de68.jpg</td>\n",
       "      <td>12.0</td>\n",
       "    </tr>\n",
       "    <tr>\n",
       "      <td>3</td>\n",
       "      <td>3116949</td>\n",
       "      <td>mobile_image/1d35a74d90df6cf4a02e6a5df9e9ff29.jpg</td>\n",
       "      <td>12.0</td>\n",
       "    </tr>\n",
       "    <tr>\n",
       "      <td>6</td>\n",
       "      <td>5769008</td>\n",
       "      <td>mobile_image/e088ca5ebb1ab5ba90a8cff8f9c4f791.jpg</td>\n",
       "      <td>10.0</td>\n",
       "    </tr>\n",
       "    <tr>\n",
       "      <td>...</td>\n",
       "      <td>...</td>\n",
       "      <td>...</td>\n",
       "      <td>...</td>\n",
       "    </tr>\n",
       "    <tr>\n",
       "      <td>160323</td>\n",
       "      <td>1510035980</td>\n",
       "      <td>mobile_image/4bd23a85f190ca5d416904a709274b1e.jpg</td>\n",
       "      <td>13.0</td>\n",
       "    </tr>\n",
       "    <tr>\n",
       "      <td>160325</td>\n",
       "      <td>1510771637</td>\n",
       "      <td>mobile_image/70e0d8ddd69692b0f134498efbddf4e1.jpg</td>\n",
       "      <td>10.0</td>\n",
       "    </tr>\n",
       "    <tr>\n",
       "      <td>160326</td>\n",
       "      <td>1515822742</td>\n",
       "      <td>mobile_image/d58393fe029ba62160d2a5d1fa6638a1.jpg</td>\n",
       "      <td>10.0</td>\n",
       "    </tr>\n",
       "    <tr>\n",
       "      <td>160327</td>\n",
       "      <td>1516747666</td>\n",
       "      <td>mobile_image/bfacb3c9af2f6a597008e57fb2d34609.jpg</td>\n",
       "      <td>10.0</td>\n",
       "    </tr>\n",
       "    <tr>\n",
       "      <td>160329</td>\n",
       "      <td>1518889125</td>\n",
       "      <td>mobile_image/0b10f33a67ccb4ee3e1240d44c2ee0ef.jpg</td>\n",
       "      <td>13.0</td>\n",
       "    </tr>\n",
       "  </tbody>\n",
       "</table>\n",
       "<p>84831 rows × 3 columns</p>\n",
       "</div>"
      ],
      "text/plain": [
       "            itemid                                         image_path  \\\n",
       "0          2346660  mobile_image/a9c8f0fdd6587deed197634066cf7eee.jpg   \n",
       "1          2816338  mobile_image/3b9a11608551b11b9330268e0d055e01.jpg   \n",
       "2          2847602  mobile_image/1d719e936841a83c165da620f927de68.jpg   \n",
       "3          3116949  mobile_image/1d35a74d90df6cf4a02e6a5df9e9ff29.jpg   \n",
       "6          5769008  mobile_image/e088ca5ebb1ab5ba90a8cff8f9c4f791.jpg   \n",
       "...            ...                                                ...   \n",
       "160323  1510035980  mobile_image/4bd23a85f190ca5d416904a709274b1e.jpg   \n",
       "160325  1510771637  mobile_image/70e0d8ddd69692b0f134498efbddf4e1.jpg   \n",
       "160326  1515822742  mobile_image/d58393fe029ba62160d2a5d1fa6638a1.jpg   \n",
       "160327  1516747666  mobile_image/bfacb3c9af2f6a597008e57fb2d34609.jpg   \n",
       "160329  1518889125  mobile_image/0b10f33a67ccb4ee3e1240d44c2ee0ef.jpg   \n",
       "\n",
       "        Color Family  \n",
       "0               12.0  \n",
       "1               12.0  \n",
       "2               12.0  \n",
       "3               12.0  \n",
       "6               10.0  \n",
       "...              ...  \n",
       "160323          13.0  \n",
       "160325          10.0  \n",
       "160326          10.0  \n",
       "160327          10.0  \n",
       "160329          13.0  \n",
       "\n",
       "[84831 rows x 3 columns]"
      ]
     },
     "execution_count": 16,
     "metadata": {},
     "output_type": "execute_result"
    }
   ],
   "source": [
    "mobile_color_filled"
   ]
  },
  {
   "cell_type": "code",
   "execution_count": 17,
   "metadata": {},
   "outputs": [
    {
     "data": {
      "text/html": [
       "<div>\n",
       "<style scoped>\n",
       "    .dataframe tbody tr th:only-of-type {\n",
       "        vertical-align: middle;\n",
       "    }\n",
       "\n",
       "    .dataframe tbody tr th {\n",
       "        vertical-align: top;\n",
       "    }\n",
       "\n",
       "    .dataframe thead th {\n",
       "        text-align: right;\n",
       "    }\n",
       "</style>\n",
       "<table border=\"1\" class=\"dataframe\">\n",
       "  <thead>\n",
       "    <tr style=\"text-align: right;\">\n",
       "      <th></th>\n",
       "      <th>itemid</th>\n",
       "      <th>image_path</th>\n",
       "      <th>color_val</th>\n",
       "      <th>new_color_val</th>\n",
       "    </tr>\n",
       "  </thead>\n",
       "  <tbody>\n",
       "    <tr>\n",
       "      <td>0</td>\n",
       "      <td>2346660</td>\n",
       "      <td>mobile_image/a9c8f0fdd6587deed197634066cf7eee.jpg</td>\n",
       "      <td>12.0</td>\n",
       "      <td>12.0</td>\n",
       "    </tr>\n",
       "    <tr>\n",
       "      <td>1</td>\n",
       "      <td>2816338</td>\n",
       "      <td>mobile_image/3b9a11608551b11b9330268e0d055e01.jpg</td>\n",
       "      <td>12.0</td>\n",
       "      <td>12.0</td>\n",
       "    </tr>\n",
       "    <tr>\n",
       "      <td>2</td>\n",
       "      <td>2847602</td>\n",
       "      <td>mobile_image/1d719e936841a83c165da620f927de68.jpg</td>\n",
       "      <td>12.0</td>\n",
       "      <td>12.0</td>\n",
       "    </tr>\n",
       "    <tr>\n",
       "      <td>3</td>\n",
       "      <td>3116949</td>\n",
       "      <td>mobile_image/1d35a74d90df6cf4a02e6a5df9e9ff29.jpg</td>\n",
       "      <td>12.0</td>\n",
       "      <td>12.0</td>\n",
       "    </tr>\n",
       "    <tr>\n",
       "      <td>6</td>\n",
       "      <td>5769008</td>\n",
       "      <td>mobile_image/e088ca5ebb1ab5ba90a8cff8f9c4f791.jpg</td>\n",
       "      <td>10.0</td>\n",
       "      <td>10.0</td>\n",
       "    </tr>\n",
       "  </tbody>\n",
       "</table>\n",
       "</div>"
      ],
      "text/plain": [
       "    itemid                                         image_path  color_val  \\\n",
       "0  2346660  mobile_image/a9c8f0fdd6587deed197634066cf7eee.jpg       12.0   \n",
       "1  2816338  mobile_image/3b9a11608551b11b9330268e0d055e01.jpg       12.0   \n",
       "2  2847602  mobile_image/1d719e936841a83c165da620f927de68.jpg       12.0   \n",
       "3  3116949  mobile_image/1d35a74d90df6cf4a02e6a5df9e9ff29.jpg       12.0   \n",
       "6  5769008  mobile_image/e088ca5ebb1ab5ba90a8cff8f9c4f791.jpg       10.0   \n",
       "\n",
       "   new_color_val  \n",
       "0           12.0  \n",
       "1           12.0  \n",
       "2           12.0  \n",
       "3           12.0  \n",
       "6           10.0  "
      ]
     },
     "execution_count": 17,
     "metadata": {},
     "output_type": "execute_result"
    }
   ],
   "source": [
    "mobile_color_filled.rename(columns={'Color Family':'color_val'}, inplace=True)\n",
    "mobile_color_filled['new_color_val'] = mobile_color_filled['color_val'].apply(lambda x : x if x in mobile_top8.keys() else 100)\n",
    "mobile_color_filled.head()"
   ]
  },
  {
   "cell_type": "code",
   "execution_count": 18,
   "metadata": {},
   "outputs": [],
   "source": [
    "# reassigning the color values\n",
    "mobile_color_filled['new_color_val'] = mobile_color_filled['new_color_val'].map(mobile_top8)"
   ]
  },
  {
   "cell_type": "code",
   "execution_count": 19,
   "metadata": {},
   "outputs": [
    {
     "data": {
      "text/plain": [
       "0    37350\n",
       "1    17162\n",
       "2     7883\n",
       "3     6999\n",
       "4     5596\n",
       "5     3917\n",
       "7     3565\n",
       "6     2359\n",
       "Name: new_color_val, dtype: int64"
      ]
     },
     "execution_count": 19,
     "metadata": {},
     "output_type": "execute_result"
    }
   ],
   "source": [
    "# verifying the change\n",
    "mobile_color_filled['new_color_val'].value_counts()"
   ]
  },
  {
   "cell_type": "markdown",
   "metadata": {},
   "source": [
    "I will be using a sample of the images (20000) to train the model for color classification."
   ]
  },
  {
   "cell_type": "code",
   "execution_count": 20,
   "metadata": {},
   "outputs": [
    {
     "data": {
      "text/plain": [
       "0    8879\n",
       "1    3936\n",
       "2    1918\n",
       "3    1635\n",
       "4    1323\n",
       "5     933\n",
       "7     853\n",
       "6     523\n",
       "Name: new_color_val, dtype: int64"
      ]
     },
     "execution_count": 20,
     "metadata": {},
     "output_type": "execute_result"
    }
   ],
   "source": [
    "# checking the spread of the sample\n",
    "mobile_color_filled.sample(20000, random_state=42)['new_color_val'].value_counts()"
   ]
  },
  {
   "cell_type": "code",
   "execution_count": 21,
   "metadata": {},
   "outputs": [
    {
     "data": {
      "text/html": [
       "<div>\n",
       "<style scoped>\n",
       "    .dataframe tbody tr th:only-of-type {\n",
       "        vertical-align: middle;\n",
       "    }\n",
       "\n",
       "    .dataframe tbody tr th {\n",
       "        vertical-align: top;\n",
       "    }\n",
       "\n",
       "    .dataframe thead th {\n",
       "        text-align: right;\n",
       "    }\n",
       "</style>\n",
       "<table border=\"1\" class=\"dataframe\">\n",
       "  <thead>\n",
       "    <tr style=\"text-align: right;\">\n",
       "      <th></th>\n",
       "      <th>itemid</th>\n",
       "      <th>image_path</th>\n",
       "      <th>new_color_val</th>\n",
       "    </tr>\n",
       "  </thead>\n",
       "  <tbody>\n",
       "    <tr>\n",
       "      <td>81169</td>\n",
       "      <td>130210286</td>\n",
       "      <td>mobile_image/5d67fea085b0245017628ffaaaa69540.jpg</td>\n",
       "      <td>2</td>\n",
       "    </tr>\n",
       "    <tr>\n",
       "      <td>146137</td>\n",
       "      <td>1409643243</td>\n",
       "      <td>mobile_image/4c8a119145b1dff426e34d9dd96bf096.jpg</td>\n",
       "      <td>6</td>\n",
       "    </tr>\n",
       "    <tr>\n",
       "      <td>69161</td>\n",
       "      <td>28210135</td>\n",
       "      <td>mobile_image/88c16e22a817ff738114e66203f0ef21.jpg</td>\n",
       "      <td>6</td>\n",
       "    </tr>\n",
       "    <tr>\n",
       "      <td>40555</td>\n",
       "      <td>989045608</td>\n",
       "      <td>mobile_image/ad899f2641693e3524fab59252b37029.jpg</td>\n",
       "      <td>1</td>\n",
       "    </tr>\n",
       "    <tr>\n",
       "      <td>142503</td>\n",
       "      <td>1847080890</td>\n",
       "      <td>mobile_image/40727fe4d654c9156edaf85243b765b5.jpg</td>\n",
       "      <td>0</td>\n",
       "    </tr>\n",
       "    <tr>\n",
       "      <td>...</td>\n",
       "      <td>...</td>\n",
       "      <td>...</td>\n",
       "      <td>...</td>\n",
       "    </tr>\n",
       "    <tr>\n",
       "      <td>28162</td>\n",
       "      <td>720786312</td>\n",
       "      <td>mobile_image/dfd529f88b45d595c167ee94913a6898.jpg</td>\n",
       "      <td>3</td>\n",
       "    </tr>\n",
       "    <tr>\n",
       "      <td>5901</td>\n",
       "      <td>1626144320</td>\n",
       "      <td>mobile_image/acce0c60f3e6f38e8194af0ef2b22573.jpg</td>\n",
       "      <td>1</td>\n",
       "    </tr>\n",
       "    <tr>\n",
       "      <td>117765</td>\n",
       "      <td>745300770</td>\n",
       "      <td>mobile_image/177726f9e51e1f888f48f3c374219905.jpg</td>\n",
       "      <td>1</td>\n",
       "    </tr>\n",
       "    <tr>\n",
       "      <td>1398</td>\n",
       "      <td>937985922</td>\n",
       "      <td>mobile_image/c4944f775553cb7d410b1e441d350faa.jpg</td>\n",
       "      <td>0</td>\n",
       "    </tr>\n",
       "    <tr>\n",
       "      <td>54911</td>\n",
       "      <td>1427776015</td>\n",
       "      <td>mobile_image/a21292159f79c1214a0e5b911b74e347.jpg</td>\n",
       "      <td>0</td>\n",
       "    </tr>\n",
       "  </tbody>\n",
       "</table>\n",
       "<p>20000 rows × 3 columns</p>\n",
       "</div>"
      ],
      "text/plain": [
       "            itemid                                         image_path  \\\n",
       "81169    130210286  mobile_image/5d67fea085b0245017628ffaaaa69540.jpg   \n",
       "146137  1409643243  mobile_image/4c8a119145b1dff426e34d9dd96bf096.jpg   \n",
       "69161     28210135  mobile_image/88c16e22a817ff738114e66203f0ef21.jpg   \n",
       "40555    989045608  mobile_image/ad899f2641693e3524fab59252b37029.jpg   \n",
       "142503  1847080890  mobile_image/40727fe4d654c9156edaf85243b765b5.jpg   \n",
       "...            ...                                                ...   \n",
       "28162    720786312  mobile_image/dfd529f88b45d595c167ee94913a6898.jpg   \n",
       "5901    1626144320  mobile_image/acce0c60f3e6f38e8194af0ef2b22573.jpg   \n",
       "117765   745300770  mobile_image/177726f9e51e1f888f48f3c374219905.jpg   \n",
       "1398     937985922  mobile_image/c4944f775553cb7d410b1e441d350faa.jpg   \n",
       "54911   1427776015  mobile_image/a21292159f79c1214a0e5b911b74e347.jpg   \n",
       "\n",
       "        new_color_val  \n",
       "81169               2  \n",
       "146137              6  \n",
       "69161               6  \n",
       "40555               1  \n",
       "142503              0  \n",
       "...               ...  \n",
       "28162               3  \n",
       "5901                1  \n",
       "117765              1  \n",
       "1398                0  \n",
       "54911               0  \n",
       "\n",
       "[20000 rows x 3 columns]"
      ]
     },
     "execution_count": 21,
     "metadata": {},
     "output_type": "execute_result"
    }
   ],
   "source": [
    "mobile_color_filled_sample = mobile_color_filled.sample(20000, random_state=42)\n",
    "mobile_color_filled_sample = mobile_color_filled_sample[['itemid', 'image_path', 'new_color_val']]\n",
    "mobile_color_filled_sample"
   ]
  },
  {
   "cell_type": "markdown",
   "metadata": {},
   "source": [
    "## Preprocessing"
   ]
  },
  {
   "cell_type": "markdown",
   "metadata": {},
   "source": [
    "We will be doing train test split on our known data (mobile_color_filled) to train our model."
   ]
  },
  {
   "cell_type": "code",
   "execution_count": 22,
   "metadata": {},
   "outputs": [],
   "source": [
    "X = [load_img(i, target_size=(224, 224)) for i in mobile_color_filled_sample['image_path']]\n",
    "X = [img_to_array(i) for i in X]\n",
    "X = [i.reshape(( i.shape[0], i.shape[1], i.shape[2])) for i in X]\n",
    "X = np.array([preprocess_input(i) for i in X])\n",
    "\n",
    "y = np_utils.to_categorical(np.array(mobile_color_filled_sample['new_color_val']))"
   ]
  },
  {
   "cell_type": "code",
   "execution_count": 23,
   "metadata": {},
   "outputs": [
    {
     "data": {
      "text/plain": [
       "(20000, 224, 224, 3)"
      ]
     },
     "execution_count": 23,
     "metadata": {},
     "output_type": "execute_result"
    }
   ],
   "source": [
    "X.shape"
   ]
  },
  {
   "cell_type": "code",
   "execution_count": 24,
   "metadata": {},
   "outputs": [],
   "source": [
    "X_train, X_test, y_train, y_test = train_test_split(X, y, stratify=y, random_state = 42)"
   ]
  },
  {
   "cell_type": "code",
   "execution_count": 25,
   "metadata": {},
   "outputs": [
    {
     "data": {
      "text/plain": [
       "(15000, 224, 224, 3)"
      ]
     },
     "execution_count": 25,
     "metadata": {},
     "output_type": "execute_result"
    }
   ],
   "source": [
    "X_train.shape"
   ]
  },
  {
   "cell_type": "code",
   "execution_count": 26,
   "metadata": {},
   "outputs": [
    {
     "data": {
      "text/plain": [
       "array([[[151.061  , 138.22101, 131.32   ],\n",
       "        [151.061  , 138.22101, 131.32   ],\n",
       "        [151.061  , 138.22101, 131.32   ],\n",
       "        ...,\n",
       "        [151.061  , 138.22101, 131.32   ],\n",
       "        [151.061  , 138.22101, 131.32   ],\n",
       "        [151.061  , 138.22101, 131.32   ]],\n",
       "\n",
       "       [[151.061  , 138.22101, 131.32   ],\n",
       "        [151.061  , 138.22101, 131.32   ],\n",
       "        [151.061  , 138.22101, 131.32   ],\n",
       "        ...,\n",
       "        [151.061  , 138.22101, 131.32   ],\n",
       "        [151.061  , 138.22101, 131.32   ],\n",
       "        [151.061  , 138.22101, 131.32   ]],\n",
       "\n",
       "       [[151.061  , 138.22101, 131.32   ],\n",
       "        [151.061  , 138.22101, 131.32   ],\n",
       "        [151.061  , 138.22101, 131.32   ],\n",
       "        ...,\n",
       "        [151.061  , 138.22101, 131.32   ],\n",
       "        [151.061  , 138.22101, 131.32   ],\n",
       "        [151.061  , 138.22101, 131.32   ]],\n",
       "\n",
       "       ...,\n",
       "\n",
       "       [[151.061  , 138.22101, 131.32   ],\n",
       "        [151.061  , 138.22101, 131.32   ],\n",
       "        [151.061  , 138.22101, 131.32   ],\n",
       "        ...,\n",
       "        [151.061  , 138.22101, 131.32   ],\n",
       "        [151.061  , 138.22101, 131.32   ],\n",
       "        [151.061  , 138.22101, 131.32   ]],\n",
       "\n",
       "       [[151.061  , 138.22101, 131.32   ],\n",
       "        [151.061  , 138.22101, 131.32   ],\n",
       "        [151.061  , 138.22101, 131.32   ],\n",
       "        ...,\n",
       "        [151.061  , 138.22101, 131.32   ],\n",
       "        [151.061  , 138.22101, 131.32   ],\n",
       "        [151.061  , 138.22101, 131.32   ]],\n",
       "\n",
       "       [[151.061  , 138.22101, 131.32   ],\n",
       "        [151.061  , 138.22101, 131.32   ],\n",
       "        [151.061  , 138.22101, 131.32   ],\n",
       "        ...,\n",
       "        [151.061  , 138.22101, 131.32   ],\n",
       "        [151.061  , 138.22101, 131.32   ],\n",
       "        [151.061  , 138.22101, 131.32   ]]], dtype=float32)"
      ]
     },
     "execution_count": 26,
     "metadata": {},
     "output_type": "execute_result"
    }
   ],
   "source": [
    "X_train[0]"
   ]
  },
  {
   "cell_type": "code",
   "execution_count": 27,
   "metadata": {},
   "outputs": [
    {
     "data": {
      "text/plain": [
       "array([[[151.061  , 138.22101, 131.32   ],\n",
       "        [151.061  , 138.22101, 131.32   ],\n",
       "        [151.061  , 138.22101, 131.32   ],\n",
       "        ...,\n",
       "        [151.061  , 138.22101, 131.32   ],\n",
       "        [151.061  , 138.22101, 131.32   ],\n",
       "        [151.061  , 138.22101, 131.32   ]],\n",
       "\n",
       "       [[151.061  , 138.22101, 131.32   ],\n",
       "        [151.061  , 138.22101, 131.32   ],\n",
       "        [151.061  , 138.22101, 131.32   ],\n",
       "        ...,\n",
       "        [151.061  , 138.22101, 131.32   ],\n",
       "        [151.061  , 138.22101, 131.32   ],\n",
       "        [151.061  , 138.22101, 131.32   ]],\n",
       "\n",
       "       [[151.061  , 138.22101, 131.32   ],\n",
       "        [151.061  , 138.22101, 131.32   ],\n",
       "        [151.061  , 138.22101, 131.32   ],\n",
       "        ...,\n",
       "        [151.061  , 138.22101, 131.32   ],\n",
       "        [151.061  , 138.22101, 131.32   ],\n",
       "        [151.061  , 138.22101, 131.32   ]],\n",
       "\n",
       "       ...,\n",
       "\n",
       "       [[151.061  , 138.22101, 131.32   ],\n",
       "        [151.061  , 138.22101, 131.32   ],\n",
       "        [151.061  , 138.22101, 131.32   ],\n",
       "        ...,\n",
       "        [151.061  , 138.22101, 131.32   ],\n",
       "        [151.061  , 138.22101, 131.32   ],\n",
       "        [151.061  , 138.22101, 131.32   ]],\n",
       "\n",
       "       [[151.061  , 138.22101, 131.32   ],\n",
       "        [151.061  , 138.22101, 131.32   ],\n",
       "        [151.061  , 138.22101, 131.32   ],\n",
       "        ...,\n",
       "        [151.061  , 138.22101, 131.32   ],\n",
       "        [151.061  , 138.22101, 131.32   ],\n",
       "        [151.061  , 138.22101, 131.32   ]],\n",
       "\n",
       "       [[151.061  , 138.22101, 131.32   ],\n",
       "        [151.061  , 138.22101, 131.32   ],\n",
       "        [151.061  , 138.22101, 131.32   ],\n",
       "        ...,\n",
       "        [151.061  , 138.22101, 131.32   ],\n",
       "        [151.061  , 138.22101, 131.32   ],\n",
       "        [151.061  , 138.22101, 131.32   ]]], dtype=float32)"
      ]
     },
     "execution_count": 27,
     "metadata": {},
     "output_type": "execute_result"
    }
   ],
   "source": [
    "X_test[0]"
   ]
  },
  {
   "cell_type": "markdown",
   "metadata": {},
   "source": [
    "## Modelling"
   ]
  },
  {
   "cell_type": "markdown",
   "metadata": {},
   "source": [
    "### VGG16"
   ]
  },
  {
   "cell_type": "markdown",
   "metadata": {},
   "source": [
    "I will be using the VGG16 model to do transfer learning for the classification problem. This is due to the high performance of the VGG16 model and the fact that it is easily accessible. "
   ]
  },
  {
   "cell_type": "code",
   "execution_count": 28,
   "metadata": {},
   "outputs": [],
   "source": [
    "# load model without classifier layers\n",
    "model = VGG16(include_top=False, input_shape=(224, 224, 3))"
   ]
  },
  {
   "cell_type": "code",
   "execution_count": 29,
   "metadata": {},
   "outputs": [],
   "source": [
    "# freezing the training layers\n",
    "for layer in model.layers:\n",
    "    layer.trainable = False"
   ]
  },
  {
   "cell_type": "code",
   "execution_count": 30,
   "metadata": {},
   "outputs": [],
   "source": [
    "# add new classifier layers\n",
    "flat1 = GlobalAveragePooling2D()(model.output)\n",
    "# class1 = Dense(128, activation='relu')(flat1)\n",
    "output = Dense(8, activation='softmax')(flat1)\n",
    "# define new model\n",
    "model = Model(inputs=model.inputs, outputs=output)"
   ]
  },
  {
   "cell_type": "code",
   "execution_count": 31,
   "metadata": {},
   "outputs": [
    {
     "name": "stdout",
     "output_type": "stream",
     "text": [
      "Model: \"model_1\"\n",
      "_________________________________________________________________\n",
      "Layer (type)                 Output Shape              Param #   \n",
      "=================================================================\n",
      "input_1 (InputLayer)         (None, 224, 224, 3)       0         \n",
      "_________________________________________________________________\n",
      "block1_conv1 (Conv2D)        (None, 224, 224, 64)      1792      \n",
      "_________________________________________________________________\n",
      "block1_conv2 (Conv2D)        (None, 224, 224, 64)      36928     \n",
      "_________________________________________________________________\n",
      "block1_pool (MaxPooling2D)   (None, 112, 112, 64)      0         \n",
      "_________________________________________________________________\n",
      "block2_conv1 (Conv2D)        (None, 112, 112, 128)     73856     \n",
      "_________________________________________________________________\n",
      "block2_conv2 (Conv2D)        (None, 112, 112, 128)     147584    \n",
      "_________________________________________________________________\n",
      "block2_pool (MaxPooling2D)   (None, 56, 56, 128)       0         \n",
      "_________________________________________________________________\n",
      "block3_conv1 (Conv2D)        (None, 56, 56, 256)       295168    \n",
      "_________________________________________________________________\n",
      "block3_conv2 (Conv2D)        (None, 56, 56, 256)       590080    \n",
      "_________________________________________________________________\n",
      "block3_conv3 (Conv2D)        (None, 56, 56, 256)       590080    \n",
      "_________________________________________________________________\n",
      "block3_pool (MaxPooling2D)   (None, 28, 28, 256)       0         \n",
      "_________________________________________________________________\n",
      "block4_conv1 (Conv2D)        (None, 28, 28, 512)       1180160   \n",
      "_________________________________________________________________\n",
      "block4_conv2 (Conv2D)        (None, 28, 28, 512)       2359808   \n",
      "_________________________________________________________________\n",
      "block4_conv3 (Conv2D)        (None, 28, 28, 512)       2359808   \n",
      "_________________________________________________________________\n",
      "block4_pool (MaxPooling2D)   (None, 14, 14, 512)       0         \n",
      "_________________________________________________________________\n",
      "block5_conv1 (Conv2D)        (None, 14, 14, 512)       2359808   \n",
      "_________________________________________________________________\n",
      "block5_conv2 (Conv2D)        (None, 14, 14, 512)       2359808   \n",
      "_________________________________________________________________\n",
      "block5_conv3 (Conv2D)        (None, 14, 14, 512)       2359808   \n",
      "_________________________________________________________________\n",
      "block5_pool (MaxPooling2D)   (None, 7, 7, 512)         0         \n",
      "_________________________________________________________________\n",
      "global_average_pooling2d_1 ( (None, 512)               0         \n",
      "_________________________________________________________________\n",
      "dense_1 (Dense)              (None, 8)                 4104      \n",
      "=================================================================\n",
      "Total params: 14,718,792\n",
      "Trainable params: 4,104\n",
      "Non-trainable params: 14,714,688\n",
      "_________________________________________________________________\n"
     ]
    }
   ],
   "source": [
    "model.summary()"
   ]
  },
  {
   "cell_type": "code",
   "execution_count": 32,
   "metadata": {},
   "outputs": [],
   "source": [
    "# compiling the model\n",
    "model.compile(loss='categorical_crossentropy', optimizer='adam', metrics=['accuracy'])"
   ]
  },
  {
   "cell_type": "code",
   "execution_count": 33,
   "metadata": {},
   "outputs": [
    {
     "name": "stdout",
     "output_type": "stream",
     "text": [
      "Train on 15000 samples, validate on 5000 samples\n",
      "Epoch 1/10\n",
      "15000/15000 [==============================] - 3040s 203ms/step - loss: 4.6317 - accuracy: 0.2871 - val_loss: 3.3489 - val_accuracy: 0.3370\n",
      "Epoch 2/10\n",
      "15000/15000 [==============================] - 1207s 80ms/step - loss: 2.8446 - accuracy: 0.3869 - val_loss: 2.6471 - val_accuracy: 0.3946\n",
      "Epoch 3/10\n",
      "15000/15000 [==============================] - 1202s 80ms/step - loss: 2.3156 - accuracy: 0.4231 - val_loss: 2.3163 - val_accuracy: 0.4010\n",
      "Epoch 4/10\n",
      "15000/15000 [==============================] - 1524s 102ms/step - loss: 2.0176 - accuracy: 0.4543 - val_loss: 2.0945 - val_accuracy: 0.4538\n",
      "Epoch 5/10\n",
      "15000/15000 [==============================] - 1231s 82ms/step - loss: 1.8228 - accuracy: 0.4747 - val_loss: 1.9324 - val_accuracy: 0.4600\n",
      "Epoch 6/10\n",
      "15000/15000 [==============================] - 1256s 84ms/step - loss: 1.6783 - accuracy: 0.4923 - val_loss: 1.8451 - val_accuracy: 0.4628\n",
      "Epoch 7/10\n",
      "15000/15000 [==============================] - 1239s 83ms/step - loss: 1.5840 - accuracy: 0.5075 - val_loss: 1.7487 - val_accuracy: 0.4780\n",
      "Epoch 8/10\n",
      "15000/15000 [==============================] - 1202s 80ms/step - loss: 1.5034 - accuracy: 0.5203 - val_loss: 1.7136 - val_accuracy: 0.4670\n",
      "Epoch 9/10\n",
      "15000/15000 [==============================] - 1245s 83ms/step - loss: 1.4479 - accuracy: 0.5307 - val_loss: 1.6576 - val_accuracy: 0.5012\n",
      "Epoch 10/10\n",
      "15000/15000 [==============================] - 1286s 86ms/step - loss: 1.4141 - accuracy: 0.5389 - val_loss: 1.6059 - val_accuracy: 0.4946\n"
     ]
    }
   ],
   "source": [
    "history = model.fit(X_train,\n",
    "                    y_train, \n",
    "                    batch_size=256,\n",
    "                    validation_data=(X_test, y_test),\n",
    "                    epochs=10,\n",
    "                    verbose=1)"
   ]
  },
  {
   "cell_type": "code",
   "execution_count": 34,
   "metadata": {},
   "outputs": [],
   "source": [
    "# # Check out our train loss and test loss over epochs.\n",
    "# train_loss = history.history['loss']\n",
    "# test_loss = history.history['val_loss']\n",
    "\n",
    "# # Set figure size.\n",
    "# plt.figure(figsize=(12, 8))\n",
    "\n",
    "# # Generate line plot of training, testing loss over epochs.\n",
    "# plt.plot(train_loss, label='Training Loss', color='#185fad')\n",
    "# plt.plot(test_loss, label='Testing Loss', color='orange')\n",
    "\n",
    "# # Set title\n",
    "# plt.title('Training and Testing Loss by Epoch', fontsize = 18)\n",
    "# plt.xlabel('Epoch', fontsize = 18)\n",
    "# plt.ylabel('Categorical Crossentropy', fontsize = 18)\n",
    "# plt.xticks([i for i in range(51)], [i for i in range(51)])\n",
    "\n",
    "# plt.legend(fontsize = 18);"
   ]
  },
  {
   "cell_type": "code",
   "execution_count": 35,
   "metadata": {},
   "outputs": [
    {
     "name": "stdout",
     "output_type": "stream",
     "text": [
      "5000/5000 [==============================] - 9367s 2s/step\n"
     ]
    }
   ],
   "source": [
    "# Evaluate model on test data.\n",
    "score = model.evaluate(X_test,\n",
    "                       y_test,\n",
    "                       verbose=1)\n",
    "\n",
    "labels = model.metrics_names"
   ]
  },
  {
   "cell_type": "code",
   "execution_count": 36,
   "metadata": {},
   "outputs": [
    {
     "name": "stdout",
     "output_type": "stream",
     "text": [
      "loss: 1.6058678037643432\n",
      "accuracy: 0.49459999799728394\n"
     ]
    }
   ],
   "source": [
    "# Show model performance.\n",
    "print(f'{labels[0]}: {score[0]}')\n",
    "print(f'{labels[1]}: {score[1]}')"
   ]
  },
  {
   "cell_type": "code",
   "execution_count": 2,
   "metadata": {},
   "outputs": [
    {
     "ename": "NameError",
     "evalue": "name 'model' is not defined",
     "output_type": "error",
     "traceback": [
      "\u001b[0;31m---------------------------------------------------------------------------\u001b[0m",
      "\u001b[0;31mNameError\u001b[0m                                 Traceback (most recent call last)",
      "\u001b[0;32m<ipython-input-2-72ad9ab62591>\u001b[0m in \u001b[0;36m<module>\u001b[0;34m\u001b[0m\n\u001b[0;32m----> 1\u001b[0;31m \u001b[0mpredictions\u001b[0m \u001b[0;34m=\u001b[0m \u001b[0mmodel\u001b[0m\u001b[0;34m.\u001b[0m\u001b[0mpredict_on_batch\u001b[0m\u001b[0;34m(\u001b[0m\u001b[0mX_test\u001b[0m\u001b[0;34m)\u001b[0m\u001b[0;34m\u001b[0m\u001b[0;34m\u001b[0m\u001b[0m\n\u001b[0m",
      "\u001b[0;31mNameError\u001b[0m: name 'model' is not defined"
     ]
    }
   ],
   "source": [
    "predictions = model.predict_on_batch(X_test)"
   ]
  },
  {
   "cell_type": "code",
   "execution_count": null,
   "metadata": {},
   "outputs": [],
   "source": [
    "predictions[0]"
   ]
  },
  {
   "cell_type": "code",
   "execution_count": null,
   "metadata": {},
   "outputs": [],
   "source": [
    "predictions[50].argmax(axis=-1)"
   ]
  },
  {
   "cell_type": "code",
   "execution_count": null,
   "metadata": {},
   "outputs": [],
   "source": [
    "preds = []\n",
    "for i in predictions:\n",
    "    preds.append(i.argmax(axis = -1))\n"
   ]
  },
  {
   "cell_type": "code",
   "execution_count": null,
   "metadata": {},
   "outputs": [],
   "source": [
    "len(preds)"
   ]
  },
  {
   "cell_type": "code",
   "execution_count": null,
   "metadata": {},
   "outputs": [],
   "source": []
  }
 ],
 "metadata": {
  "colab": {
   "name": "4-mobile_color_family",
   "provenance": []
  },
  "kernelspec": {
   "display_name": "Python 3",
   "language": "python",
   "name": "python3"
  },
  "language_info": {
   "codemirror_mode": {
    "name": "ipython",
    "version": 3
   },
   "file_extension": ".py",
   "mimetype": "text/x-python",
   "name": "python",
   "nbconvert_exporter": "python",
   "pygments_lexer": "ipython3",
   "version": "3.7.4"
  }
 },
 "nbformat": 4,
 "nbformat_minor": 1
}

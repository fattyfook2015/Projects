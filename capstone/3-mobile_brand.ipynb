{
 "cells": [
  {
   "cell_type": "markdown",
   "metadata": {},
   "source": [
    "# Mobile Brand\n",
    "\n",
    "We will start with filling the brand column first as it has the least number of missing values in the data set. "
   ]
  },
  {
   "cell_type": "markdown",
   "metadata": {},
   "source": [
    "## Imports"
   ]
  },
  {
   "cell_type": "code",
   "execution_count": 1,
   "metadata": {},
   "outputs": [],
   "source": [
    "# imports\n",
    "import pandas as pd\n",
    "import numpy as np\n",
    "from sklearn.feature_extraction.text import TfidfVectorizer, CountVectorizer\n",
    "from sklearn.model_selection import train_test_split\n",
    "from sklearn.linear_model import LogisticRegression\n",
    "from sklearn.naive_bayes import MultinomialNB\n",
    "from sklearn.metrics import confusion_matrix\n",
    "import matplotlib.pyplot as plt\n",
    "import seaborn as sns\n",
    "import cv2\n",
    "import pickle\n",
    "\n",
    "%matplotlib inline\n",
    "pd.options.mode.chained_assignment = None"
   ]
  },
  {
   "cell_type": "markdown",
   "metadata": {},
   "source": [
    "## Loading the data sets"
   ]
  },
  {
   "cell_type": "code",
   "execution_count": 2,
   "metadata": {},
   "outputs": [],
   "source": [
    "mobile = pd.read_csv('mobile_data_info_train_competition.csv')\n",
    "tags = pd.read_csv('tags.csv')"
   ]
  },
  {
   "cell_type": "code",
   "execution_count": 3,
   "metadata": {},
   "outputs": [
    {
     "data": {
      "text/html": [
       "<div>\n",
       "<style scoped>\n",
       "    .dataframe tbody tr th:only-of-type {\n",
       "        vertical-align: middle;\n",
       "    }\n",
       "\n",
       "    .dataframe tbody tr th {\n",
       "        vertical-align: top;\n",
       "    }\n",
       "\n",
       "    .dataframe thead th {\n",
       "        text-align: right;\n",
       "    }\n",
       "</style>\n",
       "<table border=\"1\" class=\"dataframe\">\n",
       "  <thead>\n",
       "    <tr style=\"text-align: right;\">\n",
       "      <th></th>\n",
       "      <th>itemid</th>\n",
       "      <th>title</th>\n",
       "      <th>Brand</th>\n",
       "    </tr>\n",
       "  </thead>\n",
       "  <tbody>\n",
       "    <tr>\n",
       "      <td>0</td>\n",
       "      <td>2346660</td>\n",
       "      <td>apple iphone 4s back glass spare part original...</td>\n",
       "      <td>2.0</td>\n",
       "    </tr>\n",
       "    <tr>\n",
       "      <td>1</td>\n",
       "      <td>2816338</td>\n",
       "      <td>iphone 4s 64gb white</td>\n",
       "      <td>2.0</td>\n",
       "    </tr>\n",
       "    <tr>\n",
       "      <td>2</td>\n",
       "      <td>2847602</td>\n",
       "      <td>samsung sm b310e piton dual sim</td>\n",
       "      <td>43.0</td>\n",
       "    </tr>\n",
       "    <tr>\n",
       "      <td>3</td>\n",
       "      <td>3116949</td>\n",
       "      <td>samsung caramel gt e1272 dual sim 32 mb putih</td>\n",
       "      <td>43.0</td>\n",
       "    </tr>\n",
       "    <tr>\n",
       "      <td>4</td>\n",
       "      <td>3794648</td>\n",
       "      <td>garskin sony experia z z1 z2 ultra</td>\n",
       "      <td>38.0</td>\n",
       "    </tr>\n",
       "  </tbody>\n",
       "</table>\n",
       "</div>"
      ],
      "text/plain": [
       "    itemid                                              title  Brand\n",
       "0  2346660  apple iphone 4s back glass spare part original...    2.0\n",
       "1  2816338                               iphone 4s 64gb white    2.0\n",
       "2  2847602                    samsung sm b310e piton dual sim   43.0\n",
       "3  3116949      samsung caramel gt e1272 dual sim 32 mb putih   43.0\n",
       "4  3794648                 garskin sony experia z z1 z2 ultra   38.0"
      ]
     },
     "execution_count": 3,
     "metadata": {},
     "output_type": "execute_result"
    }
   ],
   "source": [
    "mobile_brand = mobile[['itemid', 'title', 'Brand']]\n",
    "mobile_brand.head()"
   ]
  },
  {
   "cell_type": "code",
   "execution_count": 4,
   "metadata": {},
   "outputs": [
    {
     "data": {
      "text/plain": [
       "itemid       0\n",
       "title        0\n",
       "Brand     5292\n",
       "dtype: int64"
      ]
     },
     "execution_count": 4,
     "metadata": {},
     "output_type": "execute_result"
    }
   ],
   "source": [
    "mobile_brand.isnull().sum()"
   ]
  },
  {
   "cell_type": "code",
   "execution_count": 5,
   "metadata": {},
   "outputs": [
    {
     "data": {
      "text/html": [
       "<div>\n",
       "<style scoped>\n",
       "    .dataframe tbody tr th:only-of-type {\n",
       "        vertical-align: middle;\n",
       "    }\n",
       "\n",
       "    .dataframe tbody tr th {\n",
       "        vertical-align: top;\n",
       "    }\n",
       "\n",
       "    .dataframe thead th {\n",
       "        text-align: right;\n",
       "    }\n",
       "</style>\n",
       "<table border=\"1\" class=\"dataframe\">\n",
       "  <thead>\n",
       "    <tr style=\"text-align: right;\">\n",
       "      <th></th>\n",
       "      <th>brand</th>\n",
       "      <th>brand_val</th>\n",
       "    </tr>\n",
       "  </thead>\n",
       "  <tbody>\n",
       "    <tr>\n",
       "      <td>0</td>\n",
       "      <td>google</td>\n",
       "      <td>0.0</td>\n",
       "    </tr>\n",
       "    <tr>\n",
       "      <td>1</td>\n",
       "      <td>htc</td>\n",
       "      <td>1.0</td>\n",
       "    </tr>\n",
       "    <tr>\n",
       "      <td>2</td>\n",
       "      <td>apple</td>\n",
       "      <td>2.0</td>\n",
       "    </tr>\n",
       "    <tr>\n",
       "      <td>3</td>\n",
       "      <td>wiko</td>\n",
       "      <td>3.0</td>\n",
       "    </tr>\n",
       "    <tr>\n",
       "      <td>4</td>\n",
       "      <td>polytron</td>\n",
       "      <td>4.0</td>\n",
       "    </tr>\n",
       "    <tr>\n",
       "      <td>5</td>\n",
       "      <td>huawei</td>\n",
       "      <td>21.0</td>\n",
       "    </tr>\n",
       "    <tr>\n",
       "      <td>6</td>\n",
       "      <td>gionee</td>\n",
       "      <td>5.0</td>\n",
       "    </tr>\n",
       "    <tr>\n",
       "      <td>7</td>\n",
       "      <td>leagoo</td>\n",
       "      <td>6.0</td>\n",
       "    </tr>\n",
       "    <tr>\n",
       "      <td>8</td>\n",
       "      <td>brandcode</td>\n",
       "      <td>7.0</td>\n",
       "    </tr>\n",
       "    <tr>\n",
       "      <td>9</td>\n",
       "      <td>luna</td>\n",
       "      <td>8.0</td>\n",
       "    </tr>\n",
       "    <tr>\n",
       "      <td>10</td>\n",
       "      <td>sharp</td>\n",
       "      <td>10.0</td>\n",
       "    </tr>\n",
       "    <tr>\n",
       "      <td>11</td>\n",
       "      <td>acer</td>\n",
       "      <td>9.0</td>\n",
       "    </tr>\n",
       "    <tr>\n",
       "      <td>12</td>\n",
       "      <td>blackview</td>\n",
       "      <td>11.0</td>\n",
       "    </tr>\n",
       "    <tr>\n",
       "      <td>13</td>\n",
       "      <td>prince</td>\n",
       "      <td>12.0</td>\n",
       "    </tr>\n",
       "    <tr>\n",
       "      <td>14</td>\n",
       "      <td>lg</td>\n",
       "      <td>13.0</td>\n",
       "    </tr>\n",
       "    <tr>\n",
       "      <td>15</td>\n",
       "      <td>spc</td>\n",
       "      <td>14.0</td>\n",
       "    </tr>\n",
       "    <tr>\n",
       "      <td>16</td>\n",
       "      <td>coolpad</td>\n",
       "      <td>15.0</td>\n",
       "    </tr>\n",
       "    <tr>\n",
       "      <td>17</td>\n",
       "      <td>smartfren</td>\n",
       "      <td>16.0</td>\n",
       "    </tr>\n",
       "    <tr>\n",
       "      <td>18</td>\n",
       "      <td>infinix</td>\n",
       "      <td>17.0</td>\n",
       "    </tr>\n",
       "    <tr>\n",
       "      <td>19</td>\n",
       "      <td>blaupunkt</td>\n",
       "      <td>18.0</td>\n",
       "    </tr>\n",
       "    <tr>\n",
       "      <td>20</td>\n",
       "      <td>lava</td>\n",
       "      <td>19.0</td>\n",
       "    </tr>\n",
       "    <tr>\n",
       "      <td>21</td>\n",
       "      <td>aldo</td>\n",
       "      <td>20.0</td>\n",
       "    </tr>\n",
       "    <tr>\n",
       "      <td>22</td>\n",
       "      <td>icherry</td>\n",
       "      <td>32.0</td>\n",
       "    </tr>\n",
       "    <tr>\n",
       "      <td>23</td>\n",
       "      <td>advan</td>\n",
       "      <td>22.0</td>\n",
       "    </tr>\n",
       "    <tr>\n",
       "      <td>24</td>\n",
       "      <td>leeco</td>\n",
       "      <td>23.0</td>\n",
       "    </tr>\n",
       "    <tr>\n",
       "      <td>25</td>\n",
       "      <td>nexcom</td>\n",
       "      <td>24.0</td>\n",
       "    </tr>\n",
       "    <tr>\n",
       "      <td>26</td>\n",
       "      <td>zyrex</td>\n",
       "      <td>25.0</td>\n",
       "    </tr>\n",
       "    <tr>\n",
       "      <td>27</td>\n",
       "      <td>axioo</td>\n",
       "      <td>26.0</td>\n",
       "    </tr>\n",
       "    <tr>\n",
       "      <td>28</td>\n",
       "      <td>elephone</td>\n",
       "      <td>27.0</td>\n",
       "    </tr>\n",
       "    <tr>\n",
       "      <td>29</td>\n",
       "      <td>himax</td>\n",
       "      <td>28.0</td>\n",
       "    </tr>\n",
       "    <tr>\n",
       "      <td>30</td>\n",
       "      <td>hp</td>\n",
       "      <td>29.0</td>\n",
       "    </tr>\n",
       "    <tr>\n",
       "      <td>31</td>\n",
       "      <td>nokia</td>\n",
       "      <td>30.0</td>\n",
       "    </tr>\n",
       "    <tr>\n",
       "      <td>32</td>\n",
       "      <td>nuu mobile</td>\n",
       "      <td>31.0</td>\n",
       "    </tr>\n",
       "    <tr>\n",
       "      <td>33</td>\n",
       "      <td>xiaomi</td>\n",
       "      <td>33.0</td>\n",
       "    </tr>\n",
       "    <tr>\n",
       "      <td>34</td>\n",
       "      <td>pixcom</td>\n",
       "      <td>34.0</td>\n",
       "    </tr>\n",
       "    <tr>\n",
       "      <td>35</td>\n",
       "      <td>mito</td>\n",
       "      <td>35.0</td>\n",
       "    </tr>\n",
       "    <tr>\n",
       "      <td>36</td>\n",
       "      <td>huang mi</td>\n",
       "      <td>36.0</td>\n",
       "    </tr>\n",
       "    <tr>\n",
       "      <td>37</td>\n",
       "      <td>maxtron</td>\n",
       "      <td>37.0</td>\n",
       "    </tr>\n",
       "    <tr>\n",
       "      <td>38</td>\n",
       "      <td>sony</td>\n",
       "      <td>38.0</td>\n",
       "    </tr>\n",
       "    <tr>\n",
       "      <td>39</td>\n",
       "      <td>indosat</td>\n",
       "      <td>39.0</td>\n",
       "    </tr>\n",
       "    <tr>\n",
       "      <td>40</td>\n",
       "      <td>philips</td>\n",
       "      <td>40.0</td>\n",
       "    </tr>\n",
       "    <tr>\n",
       "      <td>41</td>\n",
       "      <td>lenovo</td>\n",
       "      <td>41.0</td>\n",
       "    </tr>\n",
       "    <tr>\n",
       "      <td>42</td>\n",
       "      <td>alcatel</td>\n",
       "      <td>42.0</td>\n",
       "    </tr>\n",
       "    <tr>\n",
       "      <td>43</td>\n",
       "      <td>samsung</td>\n",
       "      <td>43.0</td>\n",
       "    </tr>\n",
       "    <tr>\n",
       "      <td>44</td>\n",
       "      <td>zyo</td>\n",
       "      <td>44.0</td>\n",
       "    </tr>\n",
       "    <tr>\n",
       "      <td>45</td>\n",
       "      <td>doogee</td>\n",
       "      <td>45.0</td>\n",
       "    </tr>\n",
       "    <tr>\n",
       "      <td>46</td>\n",
       "      <td>vivo</td>\n",
       "      <td>46.0</td>\n",
       "    </tr>\n",
       "    <tr>\n",
       "      <td>47</td>\n",
       "      <td>evercoss</td>\n",
       "      <td>47.0</td>\n",
       "    </tr>\n",
       "    <tr>\n",
       "      <td>48</td>\n",
       "      <td>strawberry</td>\n",
       "      <td>48.0</td>\n",
       "    </tr>\n",
       "    <tr>\n",
       "      <td>49</td>\n",
       "      <td>ifone</td>\n",
       "      <td>49.0</td>\n",
       "    </tr>\n",
       "    <tr>\n",
       "      <td>50</td>\n",
       "      <td>fujitsu</td>\n",
       "      <td>50.0</td>\n",
       "    </tr>\n",
       "    <tr>\n",
       "      <td>51</td>\n",
       "      <td>blackberry</td>\n",
       "      <td>51.0</td>\n",
       "    </tr>\n",
       "    <tr>\n",
       "      <td>52</td>\n",
       "      <td>asus</td>\n",
       "      <td>52.0</td>\n",
       "    </tr>\n",
       "    <tr>\n",
       "      <td>53</td>\n",
       "      <td>oneplus</td>\n",
       "      <td>53.0</td>\n",
       "    </tr>\n",
       "    <tr>\n",
       "      <td>54</td>\n",
       "      <td>honor</td>\n",
       "      <td>54.0</td>\n",
       "    </tr>\n",
       "    <tr>\n",
       "      <td>55</td>\n",
       "      <td>oppo</td>\n",
       "      <td>55.0</td>\n",
       "    </tr>\n",
       "  </tbody>\n",
       "</table>\n",
       "</div>"
      ],
      "text/plain": [
       "         brand  brand_val\n",
       "0       google        0.0\n",
       "1          htc        1.0\n",
       "2        apple        2.0\n",
       "3         wiko        3.0\n",
       "4     polytron        4.0\n",
       "5       huawei       21.0\n",
       "6       gionee        5.0\n",
       "7       leagoo        6.0\n",
       "8    brandcode        7.0\n",
       "9         luna        8.0\n",
       "10       sharp       10.0\n",
       "11        acer        9.0\n",
       "12   blackview       11.0\n",
       "13      prince       12.0\n",
       "14          lg       13.0\n",
       "15         spc       14.0\n",
       "16     coolpad       15.0\n",
       "17   smartfren       16.0\n",
       "18     infinix       17.0\n",
       "19   blaupunkt       18.0\n",
       "20        lava       19.0\n",
       "21        aldo       20.0\n",
       "22     icherry       32.0\n",
       "23       advan       22.0\n",
       "24       leeco       23.0\n",
       "25      nexcom       24.0\n",
       "26       zyrex       25.0\n",
       "27       axioo       26.0\n",
       "28    elephone       27.0\n",
       "29       himax       28.0\n",
       "30          hp       29.0\n",
       "31       nokia       30.0\n",
       "32  nuu mobile       31.0\n",
       "33      xiaomi       33.0\n",
       "34      pixcom       34.0\n",
       "35        mito       35.0\n",
       "36    huang mi       36.0\n",
       "37     maxtron       37.0\n",
       "38        sony       38.0\n",
       "39     indosat       39.0\n",
       "40     philips       40.0\n",
       "41      lenovo       41.0\n",
       "42     alcatel       42.0\n",
       "43     samsung       43.0\n",
       "44         zyo       44.0\n",
       "45      doogee       45.0\n",
       "46        vivo       46.0\n",
       "47    evercoss       47.0\n",
       "48  strawberry       48.0\n",
       "49       ifone       49.0\n",
       "50     fujitsu       50.0\n",
       "51  blackberry       51.0\n",
       "52        asus       52.0\n",
       "53     oneplus       53.0\n",
       "54       honor       54.0\n",
       "55        oppo       55.0"
      ]
     },
     "execution_count": 5,
     "metadata": {},
     "output_type": "execute_result"
    }
   ],
   "source": [
    "tags_brand = tags[['brand', 'brand_val']].dropna()\n",
    "tags_brand"
   ]
  },
  {
   "cell_type": "markdown",
   "metadata": {},
   "source": [
    "## More EDA and Cleaning"
   ]
  },
  {
   "cell_type": "code",
   "execution_count": 6,
   "metadata": {},
   "outputs": [],
   "source": [
    "mobile_brand_filled = mobile_brand.dropna()"
   ]
  },
  {
   "cell_type": "code",
   "execution_count": 7,
   "metadata": {
    "scrolled": true
   },
   "outputs": [
    {
     "data": {
      "text/plain": [
       "43.0    33667\n",
       "2.0     30398\n",
       "55.0    21548\n",
       "33.0    14679\n",
       "46.0    11982\n",
       "52.0     8042\n",
       "30.0     5785\n",
       "38.0     5754\n",
       "29.0     2726\n",
       "41.0     2607\n",
       "22.0     2520\n",
       "51.0     1537\n",
       "13.0     1413\n",
       "21.0     1186\n",
       "47.0     1091\n",
       "17.0      907\n",
       "53.0      902\n",
       "0.0       869\n",
       "16.0      840\n",
       "35.0      771\n",
       "10.0      681\n",
       "7.0       669\n",
       "54.0      409\n",
       "50.0      360\n",
       "48.0      350\n",
       "9.0       275\n",
       "4.0       271\n",
       "1.0       266\n",
       "15.0      257\n",
       "12.0      216\n",
       "8.0       215\n",
       "42.0      193\n",
       "11.0      172\n",
       "37.0      161\n",
       "32.0      148\n",
       "14.0      144\n",
       "3.0       117\n",
       "40.0      110\n",
       "19.0      105\n",
       "28.0       96\n",
       "45.0       78\n",
       "20.0       78\n",
       "26.0       74\n",
       "24.0       64\n",
       "39.0       61\n",
       "5.0        54\n",
       "6.0        39\n",
       "25.0       33\n",
       "18.0       32\n",
       "23.0       30\n",
       "27.0       27\n",
       "31.0       15\n",
       "34.0       10\n",
       "36.0        3\n",
       "49.0        1\n",
       "Name: Brand, dtype: int64"
      ]
     },
     "execution_count": 7,
     "metadata": {},
     "output_type": "execute_result"
    }
   ],
   "source": [
    "mobile_brand_filled['Brand'].value_counts()"
   ]
  },
  {
   "cell_type": "markdown",
   "metadata": {},
   "source": [
    "We will look at brands 36 and 49 as they have very few members and may be mislabelled. "
   ]
  },
  {
   "cell_type": "code",
   "execution_count": 8,
   "metadata": {},
   "outputs": [
    {
     "data": {
      "image/png": "[encoded data removed]",
      "text/plain": [
       "<Figure size 432x288 with 1 Axes>"
      ]
     },
     "metadata": {
      "needs_background": "light"
     },
     "output_type": "display_data"
    },
    {
     "data": {
      "image/png": "[encoded data removed]",
      "text/plain": [
       "<Figure size 432x288 with 1 Axes>"
      ]
     },
     "metadata": {
      "needs_background": "light"
     },
     "output_type": "display_data"
    },
    {
     "data": {
      "image/png": "[encoded data removed]",
      "text/plain": [
       "<Figure size 432x288 with 1 Axes>"
      ]
     },
     "metadata": {
      "needs_background": "light"
     },
     "output_type": "display_data"
    }
   ],
   "source": [
    "# looking at phones with brand 36\n",
    "for img in mobile[mobile_brand['Brand'] == 36]['image_path']:\n",
    "        plt.imshow(cv2.imread(img))\n",
    "        plt.show()"
   ]
  },
  {
   "cell_type": "markdown",
   "metadata": {},
   "source": [
    "The 3 phones are correctly labelled. Now that leaves us to check for phone brand labelled 49 (ifone). "
   ]
  },
  {
   "cell_type": "code",
   "execution_count": 9,
   "metadata": {},
   "outputs": [
    {
     "data": {
      "image/png": "[encoded data removed]",
      "text/plain": [
       "<Figure size 432x288 with 1 Axes>"
      ]
     },
     "metadata": {
      "needs_background": "light"
     },
     "output_type": "display_data"
    }
   ],
   "source": [
    "for img in mobile[mobile_brand['Brand'] == 49]['image_path']:\n",
    "        plt.imshow(cv2.imread(img))\n",
    "        plt.show()"
   ]
  },
  {
   "cell_type": "markdown",
   "metadata": {},
   "source": [
    "Just from the image alone, the phone looks like it is from Apple. This suggests that this might have been mislabelled and can be tagged as 2, Apple. "
   ]
  },
  {
   "cell_type": "code",
   "execution_count": 10,
   "metadata": {
    "scrolled": true
   },
   "outputs": [
    {
     "data": {
      "text/html": [
       "<div>\n",
       "<style scoped>\n",
       "    .dataframe tbody tr th:only-of-type {\n",
       "        vertical-align: middle;\n",
       "    }\n",
       "\n",
       "    .dataframe tbody tr th {\n",
       "        vertical-align: top;\n",
       "    }\n",
       "\n",
       "    .dataframe thead th {\n",
       "        text-align: right;\n",
       "    }\n",
       "</style>\n",
       "<table border=\"1\" class=\"dataframe\">\n",
       "  <thead>\n",
       "    <tr style=\"text-align: right;\">\n",
       "      <th></th>\n",
       "      <th>itemid</th>\n",
       "      <th>title</th>\n",
       "      <th>Brand</th>\n",
       "    </tr>\n",
       "  </thead>\n",
       "  <tbody>\n",
       "    <tr>\n",
       "      <td>70343</td>\n",
       "      <td>463779969</td>\n",
       "      <td>ifone 7 plus 128gb</td>\n",
       "      <td>49.0</td>\n",
       "    </tr>\n",
       "  </tbody>\n",
       "</table>\n",
       "</div>"
      ],
      "text/plain": [
       "          itemid               title  Brand\n",
       "70343  463779969  ifone 7 plus 128gb   49.0"
      ]
     },
     "execution_count": 10,
     "metadata": {},
     "output_type": "execute_result"
    }
   ],
   "source": [
    "# we shall label the phone details accordingly before doing our train test split\n",
    "mobile_brand_filled[mobile_brand_filled['Brand'] == 49]"
   ]
  },
  {
   "cell_type": "code",
   "execution_count": 11,
   "metadata": {},
   "outputs": [],
   "source": [
    "# labelling with correct spelling and brand\n",
    "mobile_brand_filled.at[70343, 'title'] = 'iphone 7 plus 128gb'\n",
    "mobile_brand_filled.at[70343, 'Brand'] = 2"
   ]
  },
  {
   "cell_type": "code",
   "execution_count": 12,
   "metadata": {},
   "outputs": [],
   "source": [
    "# dropping mislabel tag\n",
    "tags_brand.drop(axis=1, index=49.0, inplace=True)"
   ]
  },
  {
   "cell_type": "code",
   "execution_count": 13,
   "metadata": {},
   "outputs": [
    {
     "data": {
      "text/html": [
       "<div>\n",
       "<style scoped>\n",
       "    .dataframe tbody tr th:only-of-type {\n",
       "        vertical-align: middle;\n",
       "    }\n",
       "\n",
       "    .dataframe tbody tr th {\n",
       "        vertical-align: top;\n",
       "    }\n",
       "\n",
       "    .dataframe thead th {\n",
       "        text-align: right;\n",
       "    }\n",
       "</style>\n",
       "<table border=\"1\" class=\"dataframe\">\n",
       "  <thead>\n",
       "    <tr style=\"text-align: right;\">\n",
       "      <th></th>\n",
       "      <th>brand</th>\n",
       "      <th>brand_val</th>\n",
       "    </tr>\n",
       "  </thead>\n",
       "  <tbody>\n",
       "    <tr>\n",
       "      <td>45</td>\n",
       "      <td>doogee</td>\n",
       "      <td>45.0</td>\n",
       "    </tr>\n",
       "    <tr>\n",
       "      <td>46</td>\n",
       "      <td>vivo</td>\n",
       "      <td>46.0</td>\n",
       "    </tr>\n",
       "    <tr>\n",
       "      <td>47</td>\n",
       "      <td>evercoss</td>\n",
       "      <td>47.0</td>\n",
       "    </tr>\n",
       "    <tr>\n",
       "      <td>48</td>\n",
       "      <td>strawberry</td>\n",
       "      <td>48.0</td>\n",
       "    </tr>\n",
       "    <tr>\n",
       "      <td>50</td>\n",
       "      <td>fujitsu</td>\n",
       "      <td>50.0</td>\n",
       "    </tr>\n",
       "    <tr>\n",
       "      <td>51</td>\n",
       "      <td>blackberry</td>\n",
       "      <td>51.0</td>\n",
       "    </tr>\n",
       "    <tr>\n",
       "      <td>52</td>\n",
       "      <td>asus</td>\n",
       "      <td>52.0</td>\n",
       "    </tr>\n",
       "    <tr>\n",
       "      <td>53</td>\n",
       "      <td>oneplus</td>\n",
       "      <td>53.0</td>\n",
       "    </tr>\n",
       "    <tr>\n",
       "      <td>54</td>\n",
       "      <td>honor</td>\n",
       "      <td>54.0</td>\n",
       "    </tr>\n",
       "    <tr>\n",
       "      <td>55</td>\n",
       "      <td>oppo</td>\n",
       "      <td>55.0</td>\n",
       "    </tr>\n",
       "  </tbody>\n",
       "</table>\n",
       "</div>"
      ],
      "text/plain": [
       "         brand  brand_val\n",
       "45      doogee       45.0\n",
       "46        vivo       46.0\n",
       "47    evercoss       47.0\n",
       "48  strawberry       48.0\n",
       "50     fujitsu       50.0\n",
       "51  blackberry       51.0\n",
       "52        asus       52.0\n",
       "53     oneplus       53.0\n",
       "54       honor       54.0\n",
       "55        oppo       55.0"
      ]
     },
     "execution_count": 13,
     "metadata": {},
     "output_type": "execute_result"
    }
   ],
   "source": [
    "# verifying the change\n",
    "tags_brand.tail(10)"
   ]
  },
  {
   "cell_type": "markdown",
   "metadata": {},
   "source": [
    "## Feature Engineering"
   ]
  },
  {
   "cell_type": "code",
   "execution_count": 14,
   "metadata": {},
   "outputs": [
    {
     "data": {
      "text/html": [
       "<div>\n",
       "<style scoped>\n",
       "    .dataframe tbody tr th:only-of-type {\n",
       "        vertical-align: middle;\n",
       "    }\n",
       "\n",
       "    .dataframe tbody tr th {\n",
       "        vertical-align: top;\n",
       "    }\n",
       "\n",
       "    .dataframe thead th {\n",
       "        text-align: right;\n",
       "    }\n",
       "</style>\n",
       "<table border=\"1\" class=\"dataframe\">\n",
       "  <thead>\n",
       "    <tr style=\"text-align: right;\">\n",
       "      <th></th>\n",
       "      <th>brand_val</th>\n",
       "      <th>frequency</th>\n",
       "    </tr>\n",
       "  </thead>\n",
       "  <tbody>\n",
       "    <tr>\n",
       "      <td>0</td>\n",
       "      <td>43.0</td>\n",
       "      <td>33667</td>\n",
       "    </tr>\n",
       "    <tr>\n",
       "      <td>1</td>\n",
       "      <td>2.0</td>\n",
       "      <td>30399</td>\n",
       "    </tr>\n",
       "    <tr>\n",
       "      <td>2</td>\n",
       "      <td>55.0</td>\n",
       "      <td>21548</td>\n",
       "    </tr>\n",
       "    <tr>\n",
       "      <td>3</td>\n",
       "      <td>33.0</td>\n",
       "      <td>14679</td>\n",
       "    </tr>\n",
       "    <tr>\n",
       "      <td>4</td>\n",
       "      <td>46.0</td>\n",
       "      <td>11982</td>\n",
       "    </tr>\n",
       "  </tbody>\n",
       "</table>\n",
       "</div>"
      ],
      "text/plain": [
       "   brand_val  frequency\n",
       "0       43.0      33667\n",
       "1        2.0      30399\n",
       "2       55.0      21548\n",
       "3       33.0      14679\n",
       "4       46.0      11982"
      ]
     },
     "execution_count": 14,
     "metadata": {},
     "output_type": "execute_result"
    }
   ],
   "source": [
    "# putting the value counts into a dataframe\n",
    "mobile_value_counts = {k:mobile_brand_filled['Brand'].value_counts()[k] for k in mobile_brand_filled['Brand'].value_counts().keys()}\n",
    "mobile_value_counts = pd.DataFrame(mobile_value_counts.items()).rename(columns = {0:'brand_val', 1:\"frequency\"})\n",
    "mobile_value_counts.head()"
   ]
  },
  {
   "cell_type": "code",
   "execution_count": 15,
   "metadata": {},
   "outputs": [
    {
     "data": {
      "text/html": [
       "<div>\n",
       "<style scoped>\n",
       "    .dataframe tbody tr th:only-of-type {\n",
       "        vertical-align: middle;\n",
       "    }\n",
       "\n",
       "    .dataframe tbody tr th {\n",
       "        vertical-align: top;\n",
       "    }\n",
       "\n",
       "    .dataframe thead th {\n",
       "        text-align: right;\n",
       "    }\n",
       "</style>\n",
       "<table border=\"1\" class=\"dataframe\">\n",
       "  <thead>\n",
       "    <tr style=\"text-align: right;\">\n",
       "      <th></th>\n",
       "      <th>brand_val</th>\n",
       "      <th>frequency</th>\n",
       "      <th>brand</th>\n",
       "    </tr>\n",
       "  </thead>\n",
       "  <tbody>\n",
       "    <tr>\n",
       "      <td>0</td>\n",
       "      <td>43.0</td>\n",
       "      <td>33667</td>\n",
       "      <td>samsung</td>\n",
       "    </tr>\n",
       "    <tr>\n",
       "      <td>1</td>\n",
       "      <td>2.0</td>\n",
       "      <td>30399</td>\n",
       "      <td>apple</td>\n",
       "    </tr>\n",
       "    <tr>\n",
       "      <td>2</td>\n",
       "      <td>55.0</td>\n",
       "      <td>21548</td>\n",
       "      <td>oppo</td>\n",
       "    </tr>\n",
       "    <tr>\n",
       "      <td>3</td>\n",
       "      <td>33.0</td>\n",
       "      <td>14679</td>\n",
       "      <td>xiaomi</td>\n",
       "    </tr>\n",
       "    <tr>\n",
       "      <td>4</td>\n",
       "      <td>46.0</td>\n",
       "      <td>11982</td>\n",
       "      <td>vivo</td>\n",
       "    </tr>\n",
       "  </tbody>\n",
       "</table>\n",
       "</div>"
      ],
      "text/plain": [
       "   brand_val  frequency    brand\n",
       "0       43.0      33667  samsung\n",
       "1        2.0      30399    apple\n",
       "2       55.0      21548     oppo\n",
       "3       33.0      14679   xiaomi\n",
       "4       46.0      11982     vivo"
      ]
     },
     "execution_count": 15,
     "metadata": {},
     "output_type": "execute_result"
    }
   ],
   "source": [
    "# merging with the brands\n",
    "mobile_value_counts = mobile_value_counts.merge(tags_brand, on=\"brand_val\" )\n",
    "mobile_value_counts.head()"
   ]
  },
  {
   "cell_type": "code",
   "execution_count": 16,
   "metadata": {},
   "outputs": [
    {
     "data": {
      "text/plain": [
       "<matplotlib.axes._subplots.AxesSubplot at 0x13ee70250>"
      ]
     },
     "execution_count": 16,
     "metadata": {},
     "output_type": "execute_result"
    },
    {
     "data": {
      "image/png": "[encoded data removed]",
      "text/plain": [
       "<Figure size 576x1296 with 1 Axes>"
      ]
     },
     "metadata": {
      "needs_background": "light"
     },
     "output_type": "display_data"
    }
   ],
   "source": [
    "# visualizing the spread of the data\n",
    "plt.figure(figsize=(8, 18))\n",
    "ax_hist = plt.axes()\n",
    "ax_hist.set_title(label =\"Number of Products listed per Brand\")\n",
    "sns.barplot(x='frequency', y='brand', data=mobile_value_counts, orient='h', color='steelblue')"
   ]
  },
  {
   "cell_type": "markdown",
   "metadata": {},
   "source": [
    "As most of the brands have too few listings, I will keep the top 19 brands and classify the rest under 'others' for a total of 20 different classes for the model. "
   ]
  },
  {
   "cell_type": "code",
   "execution_count": 17,
   "metadata": {},
   "outputs": [
    {
     "data": {
      "text/plain": [
       "6584"
      ]
     },
     "execution_count": 17,
     "metadata": {},
     "output_type": "execute_result"
    }
   ],
   "source": [
    "# summing up others\n",
    "mobile_value_counts['frequency'][19:].sum()"
   ]
  },
  {
   "cell_type": "code",
   "execution_count": 18,
   "metadata": {},
   "outputs": [
    {
     "data": {
      "text/html": [
       "<div>\n",
       "<style scoped>\n",
       "    .dataframe tbody tr th:only-of-type {\n",
       "        vertical-align: middle;\n",
       "    }\n",
       "\n",
       "    .dataframe tbody tr th {\n",
       "        vertical-align: top;\n",
       "    }\n",
       "\n",
       "    .dataframe thead th {\n",
       "        text-align: right;\n",
       "    }\n",
       "</style>\n",
       "<table border=\"1\" class=\"dataframe\">\n",
       "  <thead>\n",
       "    <tr style=\"text-align: right;\">\n",
       "      <th></th>\n",
       "      <th>brand_val</th>\n",
       "      <th>frequency</th>\n",
       "      <th>brand</th>\n",
       "    </tr>\n",
       "  </thead>\n",
       "  <tbody>\n",
       "    <tr>\n",
       "      <td>0</td>\n",
       "      <td>43.0</td>\n",
       "      <td>33667</td>\n",
       "      <td>samsung</td>\n",
       "    </tr>\n",
       "    <tr>\n",
       "      <td>1</td>\n",
       "      <td>2.0</td>\n",
       "      <td>30399</td>\n",
       "      <td>apple</td>\n",
       "    </tr>\n",
       "    <tr>\n",
       "      <td>2</td>\n",
       "      <td>55.0</td>\n",
       "      <td>21548</td>\n",
       "      <td>oppo</td>\n",
       "    </tr>\n",
       "    <tr>\n",
       "      <td>3</td>\n",
       "      <td>33.0</td>\n",
       "      <td>14679</td>\n",
       "      <td>xiaomi</td>\n",
       "    </tr>\n",
       "    <tr>\n",
       "      <td>4</td>\n",
       "      <td>46.0</td>\n",
       "      <td>11982</td>\n",
       "      <td>vivo</td>\n",
       "    </tr>\n",
       "    <tr>\n",
       "      <td>5</td>\n",
       "      <td>52.0</td>\n",
       "      <td>8042</td>\n",
       "      <td>asus</td>\n",
       "    </tr>\n",
       "    <tr>\n",
       "      <td>6</td>\n",
       "      <td>30.0</td>\n",
       "      <td>5785</td>\n",
       "      <td>nokia</td>\n",
       "    </tr>\n",
       "    <tr>\n",
       "      <td>7</td>\n",
       "      <td>38.0</td>\n",
       "      <td>5754</td>\n",
       "      <td>sony</td>\n",
       "    </tr>\n",
       "    <tr>\n",
       "      <td>8</td>\n",
       "      <td>29.0</td>\n",
       "      <td>2726</td>\n",
       "      <td>hp</td>\n",
       "    </tr>\n",
       "    <tr>\n",
       "      <td>9</td>\n",
       "      <td>41.0</td>\n",
       "      <td>2607</td>\n",
       "      <td>lenovo</td>\n",
       "    </tr>\n",
       "    <tr>\n",
       "      <td>10</td>\n",
       "      <td>22.0</td>\n",
       "      <td>2520</td>\n",
       "      <td>advan</td>\n",
       "    </tr>\n",
       "    <tr>\n",
       "      <td>11</td>\n",
       "      <td>51.0</td>\n",
       "      <td>1537</td>\n",
       "      <td>blackberry</td>\n",
       "    </tr>\n",
       "    <tr>\n",
       "      <td>12</td>\n",
       "      <td>13.0</td>\n",
       "      <td>1413</td>\n",
       "      <td>lg</td>\n",
       "    </tr>\n",
       "    <tr>\n",
       "      <td>13</td>\n",
       "      <td>21.0</td>\n",
       "      <td>1186</td>\n",
       "      <td>huawei</td>\n",
       "    </tr>\n",
       "    <tr>\n",
       "      <td>14</td>\n",
       "      <td>47.0</td>\n",
       "      <td>1091</td>\n",
       "      <td>evercoss</td>\n",
       "    </tr>\n",
       "    <tr>\n",
       "      <td>15</td>\n",
       "      <td>17.0</td>\n",
       "      <td>907</td>\n",
       "      <td>infinix</td>\n",
       "    </tr>\n",
       "    <tr>\n",
       "      <td>16</td>\n",
       "      <td>53.0</td>\n",
       "      <td>902</td>\n",
       "      <td>oneplus</td>\n",
       "    </tr>\n",
       "    <tr>\n",
       "      <td>17</td>\n",
       "      <td>0.0</td>\n",
       "      <td>869</td>\n",
       "      <td>google</td>\n",
       "    </tr>\n",
       "    <tr>\n",
       "      <td>18</td>\n",
       "      <td>16.0</td>\n",
       "      <td>840</td>\n",
       "      <td>smartfren</td>\n",
       "    </tr>\n",
       "  </tbody>\n",
       "</table>\n",
       "</div>"
      ],
      "text/plain": [
       "    brand_val  frequency       brand\n",
       "0        43.0      33667     samsung\n",
       "1         2.0      30399       apple\n",
       "2        55.0      21548        oppo\n",
       "3        33.0      14679      xiaomi\n",
       "4        46.0      11982        vivo\n",
       "5        52.0       8042        asus\n",
       "6        30.0       5785       nokia\n",
       "7        38.0       5754        sony\n",
       "8        29.0       2726          hp\n",
       "9        41.0       2607      lenovo\n",
       "10       22.0       2520       advan\n",
       "11       51.0       1537  blackberry\n",
       "12       13.0       1413          lg\n",
       "13       21.0       1186      huawei\n",
       "14       47.0       1091    evercoss\n",
       "15       17.0        907     infinix\n",
       "16       53.0        902     oneplus\n",
       "17        0.0        869      google\n",
       "18       16.0        840   smartfren"
      ]
     },
     "execution_count": 18,
     "metadata": {},
     "output_type": "execute_result"
    }
   ],
   "source": [
    "# extracting the top 19 brands\n",
    "mobile_value_counts = mobile_value_counts.head(19)\n",
    "mobile_value_counts"
   ]
  },
  {
   "cell_type": "code",
   "execution_count": 19,
   "metadata": {},
   "outputs": [
    {
     "name": "stdout",
     "output_type": "stream",
     "text": [
      "{43.0: 0, 2.0: 1, 55.0: 2, 33.0: 3, 46.0: 4, 52.0: 5, 30.0: 6, 38.0: 7, 29.0: 8, 41.0: 9, 22.0: 10, 51.0: 11, 13.0: 12, 21.0: 13, 47.0: 14, 17.0: 15, 53.0: 16, 0.0: 17, 16.0: 18, 100.0: 19}\n"
     ]
    }
   ],
   "source": [
    "# extracting the brand_val\n",
    "mobile_top19 = {mobile_value_counts.at[i, \"brand_val\"]:i for i in mobile_value_counts.index}\n",
    "mobile_top19[100.0] = 19\n",
    "mobile_top20 = mobile_top19\n",
    "print(mobile_top20)"
   ]
  },
  {
   "cell_type": "code",
   "execution_count": 20,
   "metadata": {},
   "outputs": [],
   "source": [
    "# assiging the 20th class 'others'\n",
    "mobile_value_counts.loc[19] = [100, 6584, 'others']"
   ]
  },
  {
   "cell_type": "markdown",
   "metadata": {},
   "source": [
    "Now to do the same for the original data set, we will be looking at the filled rows to train and test our model. "
   ]
  },
  {
   "cell_type": "code",
   "execution_count": 21,
   "metadata": {},
   "outputs": [
    {
     "data": {
      "text/html": [
       "<div>\n",
       "<style scoped>\n",
       "    .dataframe tbody tr th:only-of-type {\n",
       "        vertical-align: middle;\n",
       "    }\n",
       "\n",
       "    .dataframe tbody tr th {\n",
       "        vertical-align: top;\n",
       "    }\n",
       "\n",
       "    .dataframe thead th {\n",
       "        text-align: right;\n",
       "    }\n",
       "</style>\n",
       "<table border=\"1\" class=\"dataframe\">\n",
       "  <thead>\n",
       "    <tr style=\"text-align: right;\">\n",
       "      <th></th>\n",
       "      <th>itemid</th>\n",
       "      <th>title</th>\n",
       "      <th>Brand</th>\n",
       "    </tr>\n",
       "  </thead>\n",
       "  <tbody>\n",
       "    <tr>\n",
       "      <td>0</td>\n",
       "      <td>2346660</td>\n",
       "      <td>apple iphone 4s back glass spare part original...</td>\n",
       "      <td>2.0</td>\n",
       "    </tr>\n",
       "    <tr>\n",
       "      <td>1</td>\n",
       "      <td>2816338</td>\n",
       "      <td>iphone 4s 64gb white</td>\n",
       "      <td>2.0</td>\n",
       "    </tr>\n",
       "    <tr>\n",
       "      <td>2</td>\n",
       "      <td>2847602</td>\n",
       "      <td>samsung sm b310e piton dual sim</td>\n",
       "      <td>43.0</td>\n",
       "    </tr>\n",
       "    <tr>\n",
       "      <td>3</td>\n",
       "      <td>3116949</td>\n",
       "      <td>samsung caramel gt e1272 dual sim 32 mb putih</td>\n",
       "      <td>43.0</td>\n",
       "    </tr>\n",
       "    <tr>\n",
       "      <td>4</td>\n",
       "      <td>3794648</td>\n",
       "      <td>garskin sony experia z z1 z2 ultra</td>\n",
       "      <td>38.0</td>\n",
       "    </tr>\n",
       "    <tr>\n",
       "      <td>...</td>\n",
       "      <td>...</td>\n",
       "      <td>...</td>\n",
       "      <td>...</td>\n",
       "    </tr>\n",
       "    <tr>\n",
       "      <td>160325</td>\n",
       "      <td>1510771637</td>\n",
       "      <td>beli 2 gratis 1 xiaomi mi mix black 6 64 rom g...</td>\n",
       "      <td>33.0</td>\n",
       "    </tr>\n",
       "    <tr>\n",
       "      <td>160326</td>\n",
       "      <td>1515822742</td>\n",
       "      <td>android i phone x real 4g 16gb free wireless c...</td>\n",
       "      <td>2.0</td>\n",
       "    </tr>\n",
       "    <tr>\n",
       "      <td>160327</td>\n",
       "      <td>1516747666</td>\n",
       "      <td>xiaomi mia1 ram 4gb 64gb black</td>\n",
       "      <td>33.0</td>\n",
       "    </tr>\n",
       "    <tr>\n",
       "      <td>160328</td>\n",
       "      <td>1517270941</td>\n",
       "      <td>khusus hari ini samsung j2 prime</td>\n",
       "      <td>43.0</td>\n",
       "    </tr>\n",
       "    <tr>\n",
       "      <td>160329</td>\n",
       "      <td>1518889125</td>\n",
       "      <td>oppo a83 2 gb new garansi resmi 1 tahun</td>\n",
       "      <td>55.0</td>\n",
       "    </tr>\n",
       "  </tbody>\n",
       "</table>\n",
       "<p>155038 rows × 3 columns</p>\n",
       "</div>"
      ],
      "text/plain": [
       "            itemid                                              title  Brand\n",
       "0          2346660  apple iphone 4s back glass spare part original...    2.0\n",
       "1          2816338                               iphone 4s 64gb white    2.0\n",
       "2          2847602                    samsung sm b310e piton dual sim   43.0\n",
       "3          3116949      samsung caramel gt e1272 dual sim 32 mb putih   43.0\n",
       "4          3794648                 garskin sony experia z z1 z2 ultra   38.0\n",
       "...            ...                                                ...    ...\n",
       "160325  1510771637  beli 2 gratis 1 xiaomi mi mix black 6 64 rom g...   33.0\n",
       "160326  1515822742  android i phone x real 4g 16gb free wireless c...    2.0\n",
       "160327  1516747666                     xiaomi mia1 ram 4gb 64gb black   33.0\n",
       "160328  1517270941                   khusus hari ini samsung j2 prime   43.0\n",
       "160329  1518889125            oppo a83 2 gb new garansi resmi 1 tahun   55.0\n",
       "\n",
       "[155038 rows x 3 columns]"
      ]
     },
     "execution_count": 21,
     "metadata": {},
     "output_type": "execute_result"
    }
   ],
   "source": [
    "mobile_brand_filled"
   ]
  },
  {
   "cell_type": "code",
   "execution_count": 22,
   "metadata": {},
   "outputs": [
    {
     "data": {
      "text/html": [
       "<div>\n",
       "<style scoped>\n",
       "    .dataframe tbody tr th:only-of-type {\n",
       "        vertical-align: middle;\n",
       "    }\n",
       "\n",
       "    .dataframe tbody tr th {\n",
       "        vertical-align: top;\n",
       "    }\n",
       "\n",
       "    .dataframe thead th {\n",
       "        text-align: right;\n",
       "    }\n",
       "</style>\n",
       "<table border=\"1\" class=\"dataframe\">\n",
       "  <thead>\n",
       "    <tr style=\"text-align: right;\">\n",
       "      <th></th>\n",
       "      <th>itemid</th>\n",
       "      <th>title</th>\n",
       "      <th>brand_val</th>\n",
       "      <th>new_brand_val</th>\n",
       "    </tr>\n",
       "  </thead>\n",
       "  <tbody>\n",
       "    <tr>\n",
       "      <td>0</td>\n",
       "      <td>2346660</td>\n",
       "      <td>apple iphone 4s back glass spare part original...</td>\n",
       "      <td>2.0</td>\n",
       "      <td>2.0</td>\n",
       "    </tr>\n",
       "    <tr>\n",
       "      <td>1</td>\n",
       "      <td>2816338</td>\n",
       "      <td>iphone 4s 64gb white</td>\n",
       "      <td>2.0</td>\n",
       "      <td>2.0</td>\n",
       "    </tr>\n",
       "    <tr>\n",
       "      <td>2</td>\n",
       "      <td>2847602</td>\n",
       "      <td>samsung sm b310e piton dual sim</td>\n",
       "      <td>43.0</td>\n",
       "      <td>43.0</td>\n",
       "    </tr>\n",
       "    <tr>\n",
       "      <td>3</td>\n",
       "      <td>3116949</td>\n",
       "      <td>samsung caramel gt e1272 dual sim 32 mb putih</td>\n",
       "      <td>43.0</td>\n",
       "      <td>43.0</td>\n",
       "    </tr>\n",
       "    <tr>\n",
       "      <td>4</td>\n",
       "      <td>3794648</td>\n",
       "      <td>garskin sony experia z z1 z2 ultra</td>\n",
       "      <td>38.0</td>\n",
       "      <td>38.0</td>\n",
       "    </tr>\n",
       "  </tbody>\n",
       "</table>\n",
       "</div>"
      ],
      "text/plain": [
       "    itemid                                              title  brand_val  \\\n",
       "0  2346660  apple iphone 4s back glass spare part original...        2.0   \n",
       "1  2816338                               iphone 4s 64gb white        2.0   \n",
       "2  2847602                    samsung sm b310e piton dual sim       43.0   \n",
       "3  3116949      samsung caramel gt e1272 dual sim 32 mb putih       43.0   \n",
       "4  3794648                 garskin sony experia z z1 z2 ultra       38.0   \n",
       "\n",
       "   new_brand_val  \n",
       "0            2.0  \n",
       "1            2.0  \n",
       "2           43.0  \n",
       "3           43.0  \n",
       "4           38.0  "
      ]
     },
     "execution_count": 22,
     "metadata": {},
     "output_type": "execute_result"
    }
   ],
   "source": [
    "mobile_brand_filled.rename(columns={'Brand':'brand_val'}, inplace=True)\n",
    "mobile_brand_filled['new_brand_val'] = mobile_brand_filled['brand_val'].apply(lambda x : x if x in mobile_top20.keys() else 100)\n",
    "mobile_brand_filled.head()"
   ]
  },
  {
   "cell_type": "code",
   "execution_count": 23,
   "metadata": {},
   "outputs": [],
   "source": [
    "# reassigning the brand values\n",
    "mobile_brand_filled['new_brand_val'] = mobile_brand_filled['new_brand_val'].map(mobile_top20)"
   ]
  },
  {
   "cell_type": "code",
   "execution_count": 24,
   "metadata": {},
   "outputs": [
    {
     "data": {
      "text/plain": [
       "0     33667\n",
       "1     30399\n",
       "2     21548\n",
       "3     14679\n",
       "4     11982\n",
       "5      8042\n",
       "19     6584\n",
       "6      5785\n",
       "7      5754\n",
       "8      2726\n",
       "9      2607\n",
       "10     2520\n",
       "11     1537\n",
       "12     1413\n",
       "13     1186\n",
       "14     1091\n",
       "15      907\n",
       "16      902\n",
       "17      869\n",
       "18      840\n",
       "Name: new_brand_val, dtype: int64"
      ]
     },
     "execution_count": 24,
     "metadata": {},
     "output_type": "execute_result"
    }
   ],
   "source": [
    "# verifying the change\n",
    "mobile_brand_filled['new_brand_val'].value_counts()"
   ]
  },
  {
   "cell_type": "markdown",
   "metadata": {},
   "source": [
    "## Preprocessing"
   ]
  },
  {
   "cell_type": "markdown",
   "metadata": {},
   "source": [
    "We will be doing train test split on our known data (mobile_brand_filled) to train our model."
   ]
  },
  {
   "cell_type": "markdown",
   "metadata": {},
   "source": [
    "### Using the Tfidf Vectorizer"
   ]
  },
  {
   "cell_type": "markdown",
   "metadata": {},
   "source": [
    "We will be using the Tfidf Vectorizer to first vectorize our texts for the machine to process."
   ]
  },
  {
   "cell_type": "code",
   "execution_count": 25,
   "metadata": {},
   "outputs": [],
   "source": [
    "# initiating the vectorizer \n",
    "vectorizer = TfidfVectorizer(ngram_range={1,2})"
   ]
  },
  {
   "cell_type": "code",
   "execution_count": 26,
   "metadata": {},
   "outputs": [
    {
     "data": {
      "text/plain": [
       "TfidfVectorizer(analyzer='word', binary=False, decode_error='strict',\n",
       "                dtype=<class 'numpy.float64'>, encoding='utf-8',\n",
       "                input='content', lowercase=True, max_df=1.0, max_features=None,\n",
       "                min_df=1, ngram_range={1, 2}, norm='l2', preprocessor=None,\n",
       "                smooth_idf=True, stop_words=None, strip_accents=None,\n",
       "                sublinear_tf=False, token_pattern='(?u)\\\\b\\\\w\\\\w+\\\\b',\n",
       "                tokenizer=None, use_idf=True, vocabulary=None)"
      ]
     },
     "execution_count": 26,
     "metadata": {},
     "output_type": "execute_result"
    }
   ],
   "source": [
    "# fitting the text to be used as features\n",
    "vectorizer.fit(mobile_brand_filled['title'])"
   ]
  },
  {
   "cell_type": "code",
   "execution_count": 27,
   "metadata": {},
   "outputs": [],
   "source": [
    "X = vectorizer.transform(mobile_brand_filled['title'])\n",
    "y = mobile_brand_filled['new_brand_val']"
   ]
  },
  {
   "cell_type": "code",
   "execution_count": 28,
   "metadata": {},
   "outputs": [],
   "source": [
    "# train test split \n",
    "X_train, X_test, y_train, y_test = train_test_split(X, y, stratify=y, random_state=42)"
   ]
  },
  {
   "cell_type": "markdown",
   "metadata": {},
   "source": [
    "## Modelling: Logistic Regression"
   ]
  },
  {
   "cell_type": "code",
   "execution_count": 29,
   "metadata": {
    "scrolled": true
   },
   "outputs": [
    {
     "name": "stderr",
     "output_type": "stream",
     "text": [
      "/Users/russ1337/anaconda3/lib/python3.7/site-packages/sklearn/linear_model/_logistic.py:940: ConvergenceWarning: lbfgs failed to converge (status=1):\n",
      "STOP: TOTAL NO. of ITERATIONS REACHED LIMIT.\n",
      "\n",
      "Increase the number of iterations (max_iter) or scale the data as shown in:\n",
      "    https://scikit-learn.org/stable/modules/preprocessing.html\n",
      "Please also refer to the documentation for alternative solver options:\n",
      "    https://scikit-learn.org/stable/modules/linear_model.html#logistic-regression\n",
      "  extra_warning_msg=_LOGISTIC_SOLVER_CONVERGENCE_MSG)\n"
     ]
    },
    {
     "data": {
      "text/plain": [
       "array([5, 1, 1, ..., 1, 6, 2])"
      ]
     },
     "execution_count": 29,
     "metadata": {},
     "output_type": "execute_result"
    }
   ],
   "source": [
    "# initiating the logistic model, fitting the training set and then predicting on the test set \n",
    "lr = LogisticRegression()\n",
    "lr.fit(X_train,y_train)\n",
    "y_pred = lr.predict(X_test)\n",
    "y_pred"
   ]
  },
  {
   "cell_type": "code",
   "execution_count": 30,
   "metadata": {},
   "outputs": [
    {
     "data": {
      "text/plain": [
       "0.991245119455099"
      ]
     },
     "execution_count": 30,
     "metadata": {},
     "output_type": "execute_result"
    }
   ],
   "source": [
    "# baseline accruacy \n",
    "lr.score(X_train, y_train)"
   ]
  },
  {
   "cell_type": "markdown",
   "metadata": {},
   "source": [
    "The score on the training set has an accuracy on 99.1%."
   ]
  },
  {
   "cell_type": "code",
   "execution_count": 31,
   "metadata": {},
   "outputs": [
    {
     "data": {
      "text/plain": [
       "0.9856553147574819"
      ]
     },
     "execution_count": 31,
     "metadata": {},
     "output_type": "execute_result"
    }
   ],
   "source": [
    "# test set accuracy\n",
    "lr.score(X_test, y_test)"
   ]
  },
  {
   "cell_type": "markdown",
   "metadata": {},
   "source": [
    "The score on the testing set has an accuracy of 98.6% which is not too far from the training set. \n",
    "\n",
    "This indicates that the model is not overfitted on the training set. "
   ]
  },
  {
   "cell_type": "markdown",
   "metadata": {},
   "source": [
    "## Misclassified Devices"
   ]
  },
  {
   "cell_type": "markdown",
   "metadata": {},
   "source": [
    "We will look through the misclassified devices to see if we can identity any trends to further improve our model. "
   ]
  },
  {
   "cell_type": "code",
   "execution_count": 32,
   "metadata": {},
   "outputs": [],
   "source": [
    "mobile_mis = mobile_brand_filled.loc[y_test.index][['title', 'new_brand_val']]\n",
    "mobile_mis['pred'] = list(y_pred)"
   ]
  },
  {
   "cell_type": "code",
   "execution_count": 33,
   "metadata": {},
   "outputs": [
    {
     "data": {
      "text/plain": [
       "160318    gratis ongkir mi max 2 series 4 64 global new ...\n",
       "37042                      asuz zenfon live l1 ram 3gb 32gb\n",
       "109573    promo microsd maestro16gb class10 packing berk...\n",
       "49107     on salee lonwalk k108 tablet 10 inch 4g fdd lt...\n",
       "5238      nomu s30 ip68 waterproof 5.5inch fhd mtk6755 2...\n",
       "                                ...                        \n",
       "60336                                            axio venge\n",
       "13798               diskon 50 redmi 5 plus ram 4gb rom 64gb\n",
       "1712                                        promo zenmax m1\n",
       "22122     pple ipad mini 2 with retina display wifi cell...\n",
       "111717    promo lighter splitter 2 socket with usb 5v 2....\n",
       "Name: title, Length: 556, dtype: object"
      ]
     },
     "execution_count": 33,
     "metadata": {},
     "output_type": "execute_result"
    }
   ],
   "source": [
    "mobile_mis[mobile_mis['new_brand_val'] != mobile_mis['pred']]['title']"
   ]
  },
  {
   "cell_type": "code",
   "execution_count": 34,
   "metadata": {},
   "outputs": [],
   "source": [
    "vectorizer_false = CountVectorizer(ngram_range={1,2})"
   ]
  },
  {
   "cell_type": "code",
   "execution_count": 35,
   "metadata": {},
   "outputs": [
    {
     "data": {
      "text/html": [
       "<div>\n",
       "<style scoped>\n",
       "    .dataframe tbody tr th:only-of-type {\n",
       "        vertical-align: middle;\n",
       "    }\n",
       "\n",
       "    .dataframe tbody tr th {\n",
       "        vertical-align: top;\n",
       "    }\n",
       "\n",
       "    .dataframe thead th {\n",
       "        text-align: right;\n",
       "    }\n",
       "</style>\n",
       "<table border=\"1\" class=\"dataframe\">\n",
       "  <thead>\n",
       "    <tr style=\"text-align: right;\">\n",
       "      <th></th>\n",
       "      <th>0157</th>\n",
       "      <th>015au</th>\n",
       "      <th>015au amd</th>\n",
       "      <th>03</th>\n",
       "      <th>03 ram</th>\n",
       "      <th>03 samsung</th>\n",
       "      <th>032g</th>\n",
       "      <th>032g bq35</th>\n",
       "      <th>05e</th>\n",
       "      <th>064g</th>\n",
       "      <th>...</th>\n",
       "      <th>zoom lens</th>\n",
       "      <th>zr</th>\n",
       "      <th>zr docomo</th>\n",
       "      <th>zte</th>\n",
       "      <th>zte blade</th>\n",
       "      <th>zte nubia</th>\n",
       "      <th>zte z17</th>\n",
       "      <th>ztoss</th>\n",
       "      <th>ztoss courier</th>\n",
       "      <th>zuk</th>\n",
       "    </tr>\n",
       "  </thead>\n",
       "  <tbody>\n",
       "    <tr>\n",
       "      <td>0</td>\n",
       "      <td>0</td>\n",
       "      <td>0</td>\n",
       "      <td>0</td>\n",
       "      <td>0</td>\n",
       "      <td>0</td>\n",
       "      <td>0</td>\n",
       "      <td>0</td>\n",
       "      <td>0</td>\n",
       "      <td>0</td>\n",
       "      <td>0</td>\n",
       "      <td>...</td>\n",
       "      <td>0</td>\n",
       "      <td>0</td>\n",
       "      <td>0</td>\n",
       "      <td>0</td>\n",
       "      <td>0</td>\n",
       "      <td>0</td>\n",
       "      <td>0</td>\n",
       "      <td>0</td>\n",
       "      <td>0</td>\n",
       "      <td>0</td>\n",
       "    </tr>\n",
       "    <tr>\n",
       "      <td>1</td>\n",
       "      <td>0</td>\n",
       "      <td>0</td>\n",
       "      <td>0</td>\n",
       "      <td>0</td>\n",
       "      <td>0</td>\n",
       "      <td>0</td>\n",
       "      <td>0</td>\n",
       "      <td>0</td>\n",
       "      <td>0</td>\n",
       "      <td>0</td>\n",
       "      <td>...</td>\n",
       "      <td>0</td>\n",
       "      <td>0</td>\n",
       "      <td>0</td>\n",
       "      <td>0</td>\n",
       "      <td>0</td>\n",
       "      <td>0</td>\n",
       "      <td>0</td>\n",
       "      <td>0</td>\n",
       "      <td>0</td>\n",
       "      <td>0</td>\n",
       "    </tr>\n",
       "    <tr>\n",
       "      <td>2</td>\n",
       "      <td>0</td>\n",
       "      <td>0</td>\n",
       "      <td>0</td>\n",
       "      <td>0</td>\n",
       "      <td>0</td>\n",
       "      <td>0</td>\n",
       "      <td>0</td>\n",
       "      <td>0</td>\n",
       "      <td>0</td>\n",
       "      <td>0</td>\n",
       "      <td>...</td>\n",
       "      <td>0</td>\n",
       "      <td>0</td>\n",
       "      <td>0</td>\n",
       "      <td>0</td>\n",
       "      <td>0</td>\n",
       "      <td>0</td>\n",
       "      <td>0</td>\n",
       "      <td>0</td>\n",
       "      <td>0</td>\n",
       "      <td>0</td>\n",
       "    </tr>\n",
       "    <tr>\n",
       "      <td>3</td>\n",
       "      <td>0</td>\n",
       "      <td>0</td>\n",
       "      <td>0</td>\n",
       "      <td>0</td>\n",
       "      <td>0</td>\n",
       "      <td>0</td>\n",
       "      <td>0</td>\n",
       "      <td>0</td>\n",
       "      <td>0</td>\n",
       "      <td>0</td>\n",
       "      <td>...</td>\n",
       "      <td>0</td>\n",
       "      <td>0</td>\n",
       "      <td>0</td>\n",
       "      <td>0</td>\n",
       "      <td>0</td>\n",
       "      <td>0</td>\n",
       "      <td>0</td>\n",
       "      <td>0</td>\n",
       "      <td>0</td>\n",
       "      <td>0</td>\n",
       "    </tr>\n",
       "    <tr>\n",
       "      <td>4</td>\n",
       "      <td>0</td>\n",
       "      <td>0</td>\n",
       "      <td>0</td>\n",
       "      <td>0</td>\n",
       "      <td>0</td>\n",
       "      <td>0</td>\n",
       "      <td>0</td>\n",
       "      <td>0</td>\n",
       "      <td>0</td>\n",
       "      <td>0</td>\n",
       "      <td>...</td>\n",
       "      <td>0</td>\n",
       "      <td>0</td>\n",
       "      <td>0</td>\n",
       "      <td>0</td>\n",
       "      <td>0</td>\n",
       "      <td>0</td>\n",
       "      <td>0</td>\n",
       "      <td>0</td>\n",
       "      <td>0</td>\n",
       "      <td>0</td>\n",
       "    </tr>\n",
       "  </tbody>\n",
       "</table>\n",
       "<p>5 rows × 4719 columns</p>\n",
       "</div>"
      ],
      "text/plain": [
       "   0157  015au  015au amd  03  03 ram  03 samsung  032g  032g bq35  05e  064g  \\\n",
       "0     0      0          0   0       0           0     0          0    0     0   \n",
       "1     0      0          0   0       0           0     0          0    0     0   \n",
       "2     0      0          0   0       0           0     0          0    0     0   \n",
       "3     0      0          0   0       0           0     0          0    0     0   \n",
       "4     0      0          0   0       0           0     0          0    0     0   \n",
       "\n",
       "   ...  zoom lens  zr  zr docomo  zte  zte blade  zte nubia  zte z17  ztoss  \\\n",
       "0  ...          0   0          0    0          0          0        0      0   \n",
       "1  ...          0   0          0    0          0          0        0      0   \n",
       "2  ...          0   0          0    0          0          0        0      0   \n",
       "3  ...          0   0          0    0          0          0        0      0   \n",
       "4  ...          0   0          0    0          0          0        0      0   \n",
       "\n",
       "   ztoss courier  zuk  \n",
       "0              0    0  \n",
       "1              0    0  \n",
       "2              0    0  \n",
       "3              0    0  \n",
       "4              0    0  \n",
       "\n",
       "[5 rows x 4719 columns]"
      ]
     },
     "execution_count": 35,
     "metadata": {},
     "output_type": "execute_result"
    }
   ],
   "source": [
    "# transforming the dataset and putting it into a dataframe, verifying the dataframe\n",
    "words_false = vectorizer_false.fit_transform(mobile_mis[mobile_mis['new_brand_val'] != mobile_mis['pred']]['title'])\n",
    "words_false = pd.DataFrame(words_false.toarray(), columns=vectorizer_false.get_feature_names())\n",
    "words_false.head()"
   ]
  },
  {
   "cell_type": "code",
   "execution_count": 36,
   "metadata": {},
   "outputs": [],
   "source": [
    "# formating the data frame to show frequencies\n",
    "words_false = words_false.T\n",
    "words_false['frequency'] = words_false.sum(axis=1)"
   ]
  },
  {
   "cell_type": "code",
   "execution_count": 37,
   "metadata": {},
   "outputs": [
    {
     "data": {
      "text/html": [
       "<div>\n",
       "<style scoped>\n",
       "    .dataframe tbody tr th:only-of-type {\n",
       "        vertical-align: middle;\n",
       "    }\n",
       "\n",
       "    .dataframe tbody tr th {\n",
       "        vertical-align: top;\n",
       "    }\n",
       "\n",
       "    .dataframe thead th {\n",
       "        text-align: right;\n",
       "    }\n",
       "</style>\n",
       "<table border=\"1\" class=\"dataframe\">\n",
       "  <thead>\n",
       "    <tr style=\"text-align: right;\">\n",
       "      <th></th>\n",
       "      <th>frequency</th>\n",
       "    </tr>\n",
       "  </thead>\n",
       "  <tbody>\n",
       "    <tr>\n",
       "      <td>promo</td>\n",
       "      <td>97</td>\n",
       "    </tr>\n",
       "    <tr>\n",
       "      <td>ram</td>\n",
       "      <td>86</td>\n",
       "    </tr>\n",
       "    <tr>\n",
       "      <td>garansi</td>\n",
       "      <td>65</td>\n",
       "    </tr>\n",
       "    <tr>\n",
       "      <td>64gb</td>\n",
       "      <td>64</td>\n",
       "    </tr>\n",
       "    <tr>\n",
       "      <td>redmi</td>\n",
       "      <td>62</td>\n",
       "    </tr>\n",
       "    <tr>\n",
       "      <td>wa</td>\n",
       "      <td>59</td>\n",
       "    </tr>\n",
       "    <tr>\n",
       "      <td>32gb</td>\n",
       "      <td>59</td>\n",
       "    </tr>\n",
       "    <tr>\n",
       "      <td>4g</td>\n",
       "      <td>48</td>\n",
       "    </tr>\n",
       "    <tr>\n",
       "      <td>4gb</td>\n",
       "      <td>45</td>\n",
       "    </tr>\n",
       "    <tr>\n",
       "      <td>new</td>\n",
       "      <td>42</td>\n",
       "    </tr>\n",
       "    <tr>\n",
       "      <td>resmi</td>\n",
       "      <td>41</td>\n",
       "    </tr>\n",
       "    <tr>\n",
       "      <td>beli</td>\n",
       "      <td>41</td>\n",
       "    </tr>\n",
       "    <tr>\n",
       "      <td>pro</td>\n",
       "      <td>41</td>\n",
       "    </tr>\n",
       "    <tr>\n",
       "      <td>plus</td>\n",
       "      <td>40</td>\n",
       "    </tr>\n",
       "    <tr>\n",
       "      <td>ipad</td>\n",
       "      <td>38</td>\n",
       "    </tr>\n",
       "    <tr>\n",
       "      <td>note</td>\n",
       "      <td>36</td>\n",
       "    </tr>\n",
       "    <tr>\n",
       "      <td>murah</td>\n",
       "      <td>35</td>\n",
       "    </tr>\n",
       "    <tr>\n",
       "      <td>black</td>\n",
       "      <td>33</td>\n",
       "    </tr>\n",
       "    <tr>\n",
       "      <td>chat</td>\n",
       "      <td>32</td>\n",
       "    </tr>\n",
       "    <tr>\n",
       "      <td>wifi</td>\n",
       "      <td>31</td>\n",
       "    </tr>\n",
       "    <tr>\n",
       "      <td>gratis</td>\n",
       "      <td>31</td>\n",
       "    </tr>\n",
       "    <tr>\n",
       "      <td>original</td>\n",
       "      <td>31</td>\n",
       "    </tr>\n",
       "    <tr>\n",
       "      <td>android</td>\n",
       "      <td>30</td>\n",
       "    </tr>\n",
       "    <tr>\n",
       "      <td>garansi resmi</td>\n",
       "      <td>30</td>\n",
       "    </tr>\n",
       "    <tr>\n",
       "      <td>rom</td>\n",
       "      <td>29</td>\n",
       "    </tr>\n",
       "  </tbody>\n",
       "</table>\n",
       "</div>"
      ],
      "text/plain": [
       "               frequency\n",
       "promo                 97\n",
       "ram                   86\n",
       "garansi               65\n",
       "64gb                  64\n",
       "redmi                 62\n",
       "wa                    59\n",
       "32gb                  59\n",
       "4g                    48\n",
       "4gb                   45\n",
       "new                   42\n",
       "resmi                 41\n",
       "beli                  41\n",
       "pro                   41\n",
       "plus                  40\n",
       "ipad                  38\n",
       "note                  36\n",
       "murah                 35\n",
       "black                 33\n",
       "chat                  32\n",
       "wifi                  31\n",
       "gratis                31\n",
       "original              31\n",
       "android               30\n",
       "garansi resmi         30\n",
       "rom                   29"
      ]
     },
     "execution_count": 37,
     "metadata": {},
     "output_type": "execute_result"
    }
   ],
   "source": [
    "# top 25 most frequent words on the misclassified devies \n",
    "words_false[['frequency']].sort_values('frequency', ascending=False).head(25)"
   ]
  },
  {
   "cell_type": "markdown",
   "metadata": {},
   "source": [
    "We will add in the top 25 words into our stopwords to see if we can improve the existing model. \n"
   ]
  },
  {
   "cell_type": "code",
   "execution_count": 38,
   "metadata": {},
   "outputs": [
    {
     "name": "stdout",
     "output_type": "stream",
     "text": [
      "['promo', 'ram', 'garansi', '64gb', 'redmi', 'wa', '32gb', '4g', '4gb', 'new', 'resmi', 'beli', 'pro', 'plus', 'ipad', 'note', 'murah', 'black', 'chat', 'wifi', 'gratis', 'original', 'android', 'garansi resmi', 'rom']\n"
     ]
    }
   ],
   "source": [
    "# creating a custom list of stopwords\n",
    "sw = list(words_false[['frequency']].sort_values('frequency', ascending=False)['frequency'].head(25).keys())\n",
    "print(sw)"
   ]
  },
  {
   "cell_type": "markdown",
   "metadata": {},
   "source": [
    "## Remodeling our Logistic Regression with Stop Words"
   ]
  },
  {
   "cell_type": "markdown",
   "metadata": {},
   "source": [
    "### Using Tfidf Vectorizer with Stop Words"
   ]
  },
  {
   "cell_type": "code",
   "execution_count": 39,
   "metadata": {},
   "outputs": [],
   "source": [
    "vectorizer_sw = TfidfVectorizer(stop_words=sw)"
   ]
  },
  {
   "cell_type": "code",
   "execution_count": 40,
   "metadata": {},
   "outputs": [
    {
     "data": {
      "text/plain": [
       "TfidfVectorizer(analyzer='word', binary=False, decode_error='strict',\n",
       "                dtype=<class 'numpy.float64'>, encoding='utf-8',\n",
       "                input='content', lowercase=True, max_df=1.0, max_features=None,\n",
       "                min_df=1, ngram_range=(1, 1), norm='l2', preprocessor=None,\n",
       "                smooth_idf=True,\n",
       "                stop_words=['promo', 'ram', 'garansi', '64gb', 'redmi', 'wa',\n",
       "                            '32gb', '4g', '4gb', 'new', 'resmi', 'beli', 'pro',\n",
       "                            'plus', 'ipad', 'note', 'murah', 'black', 'chat',\n",
       "                            'wifi', 'gratis', 'original', 'android',\n",
       "                            'garansi resmi', 'rom'],\n",
       "                strip_accents=None, sublinear_tf=False,\n",
       "                token_pattern='(?u)\\\\b\\\\w\\\\w+\\\\b', tokenizer=None, use_idf=True,\n",
       "                vocabulary=None)"
      ]
     },
     "execution_count": 40,
     "metadata": {},
     "output_type": "execute_result"
    }
   ],
   "source": [
    "vectorizer_sw.fit(mobile_brand_filled['title'])"
   ]
  },
  {
   "cell_type": "code",
   "execution_count": 41,
   "metadata": {},
   "outputs": [],
   "source": [
    "X_sw = vectorizer_sw.transform(mobile_brand_filled['title'])\n",
    "y_sw = mobile_brand_filled['new_brand_val']"
   ]
  },
  {
   "cell_type": "code",
   "execution_count": 42,
   "metadata": {},
   "outputs": [],
   "source": [
    "# train test split \n",
    "X_sw_train, X_sw_test, y_sw_train, y_sw_test = train_test_split(X_sw, y_sw, stratify=y_sw, random_state=42)"
   ]
  },
  {
   "cell_type": "markdown",
   "metadata": {},
   "source": [
    "### Logistic Regression with Stop Words"
   ]
  },
  {
   "cell_type": "code",
   "execution_count": 43,
   "metadata": {},
   "outputs": [
    {
     "name": "stderr",
     "output_type": "stream",
     "text": [
      "/Users/russ1337/anaconda3/lib/python3.7/site-packages/sklearn/linear_model/_logistic.py:940: ConvergenceWarning: lbfgs failed to converge (status=1):\n",
      "STOP: TOTAL NO. of ITERATIONS REACHED LIMIT.\n",
      "\n",
      "Increase the number of iterations (max_iter) or scale the data as shown in:\n",
      "    https://scikit-learn.org/stable/modules/preprocessing.html\n",
      "Please also refer to the documentation for alternative solver options:\n",
      "    https://scikit-learn.org/stable/modules/linear_model.html#logistic-regression\n",
      "  extra_warning_msg=_LOGISTIC_SOLVER_CONVERGENCE_MSG)\n"
     ]
    },
    {
     "data": {
      "text/plain": [
       "array([5, 1, 1, ..., 1, 6, 2])"
      ]
     },
     "execution_count": 43,
     "metadata": {},
     "output_type": "execute_result"
    }
   ],
   "source": [
    "# initiating the logistic model, fitting the training set and then predicting on the test set \n",
    "lr_sw = LogisticRegression()\n",
    "lr_sw.fit(X_sw_train,y_sw_train)\n",
    "y_sw_pred = lr_sw.predict(X_sw_test)\n",
    "y_sw_pred"
   ]
  },
  {
   "cell_type": "code",
   "execution_count": 44,
   "metadata": {},
   "outputs": [
    {
     "data": {
      "text/plain": [
       "0.991245119455099"
      ]
     },
     "execution_count": 44,
     "metadata": {},
     "output_type": "execute_result"
    }
   ],
   "source": [
    "# logisitic regression without stop words (baseline)\n",
    "lr.score(X_train, y_train)"
   ]
  },
  {
   "cell_type": "code",
   "execution_count": 45,
   "metadata": {},
   "outputs": [
    {
     "data": {
      "text/plain": [
       "0.9900841087738007"
      ]
     },
     "execution_count": 45,
     "metadata": {},
     "output_type": "execute_result"
    }
   ],
   "source": [
    "# logisitic regression with stop words (baseline)\n",
    "lr_sw.score(X_sw_train, y_sw_train)"
   ]
  },
  {
   "cell_type": "code",
   "execution_count": 46,
   "metadata": {},
   "outputs": [
    {
     "data": {
      "text/plain": [
       "0.9856553147574819"
      ]
     },
     "execution_count": 46,
     "metadata": {},
     "output_type": "execute_result"
    }
   ],
   "source": [
    "# logisitic regression without stop words\n",
    "lr.score(X_test, y_test)"
   ]
  },
  {
   "cell_type": "code",
   "execution_count": 47,
   "metadata": {},
   "outputs": [
    {
     "data": {
      "text/plain": [
       "0.9858359133126935"
      ]
     },
     "execution_count": 47,
     "metadata": {},
     "output_type": "execute_result"
    }
   ],
   "source": [
    "# logisitic regression with stop words\n",
    "lr_sw.score(X_sw_test, y_sw_test)"
   ]
  },
  {
   "cell_type": "markdown",
   "metadata": {},
   "source": [
    "The accuracy of the logistic regression without the stop words seem to be slightly more accurate. Thus, I will stick to the original model to predict and autofill the missing data."
   ]
  },
  {
   "cell_type": "markdown",
   "metadata": {},
   "source": [
    "## Attempt to predict and autofill the missing data"
   ]
  },
  {
   "cell_type": "code",
   "execution_count": 48,
   "metadata": {},
   "outputs": [],
   "source": [
    "# looking at the rows with the missing data\n",
    "mobile_brand_na = mobile_brand.drop(mobile_brand_filled.index)"
   ]
  },
  {
   "cell_type": "code",
   "execution_count": 49,
   "metadata": {},
   "outputs": [],
   "source": [
    "# using tfidf without stop words to transform the data\n",
    "X_na = vectorizer.transform(mobile_brand_na['title'])"
   ]
  },
  {
   "cell_type": "code",
   "execution_count": 50,
   "metadata": {},
   "outputs": [
    {
     "data": {
      "text/plain": [
       "array([ 1,  8,  3, ...,  3, 19,  1])"
      ]
     },
     "execution_count": 50,
     "metadata": {},
     "output_type": "execute_result"
    }
   ],
   "source": [
    "# predicting the missing data\n",
    "y_na_pred = lr.predict(X_na)\n",
    "y_na_pred"
   ]
  },
  {
   "cell_type": "code",
   "execution_count": 51,
   "metadata": {},
   "outputs": [
    {
     "data": {
      "text/plain": [
       "Int64Index([    41,     51,     54,     73,     74,    176,    184,    209,\n",
       "               256,    290,\n",
       "            ...\n",
       "            160128, 160138, 160151, 160158, 160168, 160204, 160235, 160236,\n",
       "            160286, 160320],\n",
       "           dtype='int64', length=5292)"
      ]
     },
     "execution_count": 51,
     "metadata": {},
     "output_type": "execute_result"
    }
   ],
   "source": [
    "mobile_brand_na.index"
   ]
  },
  {
   "cell_type": "code",
   "execution_count": 52,
   "metadata": {},
   "outputs": [
    {
     "data": {
      "text/html": [
       "<div>\n",
       "<style scoped>\n",
       "    .dataframe tbody tr th:only-of-type {\n",
       "        vertical-align: middle;\n",
       "    }\n",
       "\n",
       "    .dataframe tbody tr th {\n",
       "        vertical-align: top;\n",
       "    }\n",
       "\n",
       "    .dataframe thead th {\n",
       "        text-align: right;\n",
       "    }\n",
       "</style>\n",
       "<table border=\"1\" class=\"dataframe\">\n",
       "  <thead>\n",
       "    <tr style=\"text-align: right;\">\n",
       "      <th></th>\n",
       "      <th>itemid</th>\n",
       "      <th>title</th>\n",
       "      <th>Brand</th>\n",
       "    </tr>\n",
       "  </thead>\n",
       "  <tbody>\n",
       "    <tr>\n",
       "      <td>0</td>\n",
       "      <td>2346660</td>\n",
       "      <td>apple iphone 4s back glass spare part original...</td>\n",
       "      <td>1</td>\n",
       "    </tr>\n",
       "    <tr>\n",
       "      <td>1</td>\n",
       "      <td>2816338</td>\n",
       "      <td>iphone 4s 64gb white</td>\n",
       "      <td>1</td>\n",
       "    </tr>\n",
       "    <tr>\n",
       "      <td>2</td>\n",
       "      <td>2847602</td>\n",
       "      <td>samsung sm b310e piton dual sim</td>\n",
       "      <td>0</td>\n",
       "    </tr>\n",
       "    <tr>\n",
       "      <td>3</td>\n",
       "      <td>3116949</td>\n",
       "      <td>samsung caramel gt e1272 dual sim 32 mb putih</td>\n",
       "      <td>0</td>\n",
       "    </tr>\n",
       "    <tr>\n",
       "      <td>4</td>\n",
       "      <td>3794648</td>\n",
       "      <td>garskin sony experia z z1 z2 ultra</td>\n",
       "      <td>7</td>\n",
       "    </tr>\n",
       "  </tbody>\n",
       "</table>\n",
       "</div>"
      ],
      "text/plain": [
       "    itemid                                              title  Brand\n",
       "0  2346660  apple iphone 4s back glass spare part original...      1\n",
       "1  2816338                               iphone 4s 64gb white      1\n",
       "2  2847602                    samsung sm b310e piton dual sim      0\n",
       "3  3116949      samsung caramel gt e1272 dual sim 32 mb putih      0\n",
       "4  3794648                 garskin sony experia z z1 z2 ultra      7"
      ]
     },
     "execution_count": 52,
     "metadata": {},
     "output_type": "execute_result"
    }
   ],
   "source": [
    "# tagging the original data set with the new tags\n",
    "mobile_brand['Brand'] = mobile_brand['Brand'].apply(lambda x : x if x in mobile_top20.keys() else 100)\n",
    "mobile_brand['Brand'] = mobile_brand['Brand'].map(mobile_top20)\n",
    "mobile_brand.head()"
   ]
  },
  {
   "cell_type": "code",
   "execution_count": 53,
   "metadata": {},
   "outputs": [
    {
     "data": {
      "text/html": [
       "<div>\n",
       "<style scoped>\n",
       "    .dataframe tbody tr th:only-of-type {\n",
       "        vertical-align: middle;\n",
       "    }\n",
       "\n",
       "    .dataframe tbody tr th {\n",
       "        vertical-align: top;\n",
       "    }\n",
       "\n",
       "    .dataframe thead th {\n",
       "        text-align: right;\n",
       "    }\n",
       "</style>\n",
       "<table border=\"1\" class=\"dataframe\">\n",
       "  <thead>\n",
       "    <tr style=\"text-align: right;\">\n",
       "      <th></th>\n",
       "      <th>itemid</th>\n",
       "      <th>title</th>\n",
       "      <th>brand_val</th>\n",
       "    </tr>\n",
       "  </thead>\n",
       "  <tbody>\n",
       "    <tr>\n",
       "      <td>41</td>\n",
       "      <td>127935554</td>\n",
       "      <td>ipad 4 white 16gb 4g celluler wifi</td>\n",
       "      <td>1</td>\n",
       "    </tr>\n",
       "    <tr>\n",
       "      <td>51</td>\n",
       "      <td>164424080</td>\n",
       "      <td>blackphone 2 anti sadap nego tipis</td>\n",
       "      <td>8</td>\n",
       "    </tr>\n",
       "    <tr>\n",
       "      <td>54</td>\n",
       "      <td>176338908</td>\n",
       "      <td>xiaumi redmi note 4 3 64</td>\n",
       "      <td>3</td>\n",
       "    </tr>\n",
       "    <tr>\n",
       "      <td>73</td>\n",
       "      <td>228804119</td>\n",
       "      <td>sandisk ultra16gb micro sd 48mb s class 10 sto...</td>\n",
       "      <td>11</td>\n",
       "    </tr>\n",
       "    <tr>\n",
       "      <td>74</td>\n",
       "      <td>228884462</td>\n",
       "      <td>bluetooth vr cardboard gamepad with remote shu...</td>\n",
       "      <td>1</td>\n",
       "    </tr>\n",
       "    <tr>\n",
       "      <td>...</td>\n",
       "      <td>...</td>\n",
       "      <td>...</td>\n",
       "      <td>...</td>\n",
       "    </tr>\n",
       "    <tr>\n",
       "      <td>160204</td>\n",
       "      <td>1347155450</td>\n",
       "      <td>redmi 5 prime 3 32 black garansi 1 tahun</td>\n",
       "      <td>3</td>\n",
       "    </tr>\n",
       "    <tr>\n",
       "      <td>160235</td>\n",
       "      <td>1386882388</td>\n",
       "      <td>mobile china a3s like new</td>\n",
       "      <td>8</td>\n",
       "    </tr>\n",
       "    <tr>\n",
       "      <td>160236</td>\n",
       "      <td>1387140006</td>\n",
       "      <td>new xioami redmi note 5 pro ram 6gb rom 64gb g...</td>\n",
       "      <td>3</td>\n",
       "    </tr>\n",
       "    <tr>\n",
       "      <td>160286</td>\n",
       "      <td>1454084709</td>\n",
       "      <td>murah amazon kindle voyage ereader touchscreen...</td>\n",
       "      <td>19</td>\n",
       "    </tr>\n",
       "    <tr>\n",
       "      <td>160320</td>\n",
       "      <td>1507136447</td>\n",
       "      <td>ipad mini 3 16gb wifi cell 4g lte second fulls...</td>\n",
       "      <td>1</td>\n",
       "    </tr>\n",
       "  </tbody>\n",
       "</table>\n",
       "<p>5292 rows × 3 columns</p>\n",
       "</div>"
      ],
      "text/plain": [
       "            itemid                                              title  \\\n",
       "41       127935554                 ipad 4 white 16gb 4g celluler wifi   \n",
       "51       164424080                 blackphone 2 anti sadap nego tipis   \n",
       "54       176338908                           xiaumi redmi note 4 3 64   \n",
       "73       228804119  sandisk ultra16gb micro sd 48mb s class 10 sto...   \n",
       "74       228884462  bluetooth vr cardboard gamepad with remote shu...   \n",
       "...            ...                                                ...   \n",
       "160204  1347155450           redmi 5 prime 3 32 black garansi 1 tahun   \n",
       "160235  1386882388                          mobile china a3s like new   \n",
       "160236  1387140006  new xioami redmi note 5 pro ram 6gb rom 64gb g...   \n",
       "160286  1454084709  murah amazon kindle voyage ereader touchscreen...   \n",
       "160320  1507136447  ipad mini 3 16gb wifi cell 4g lte second fulls...   \n",
       "\n",
       "        brand_val  \n",
       "41              1  \n",
       "51              8  \n",
       "54              3  \n",
       "73             11  \n",
       "74              1  \n",
       "...           ...  \n",
       "160204          3  \n",
       "160235          8  \n",
       "160236          3  \n",
       "160286         19  \n",
       "160320          1  \n",
       "\n",
       "[5292 rows x 3 columns]"
      ]
     },
     "execution_count": 53,
     "metadata": {},
     "output_type": "execute_result"
    }
   ],
   "source": [
    "# filling up the original data set and merging with the tags\n",
    "for i in range(0, len(mobile_brand_na.index)):\n",
    "    mobile_brand['Brand'].at[mobile_brand_na.index[i]] = y_na_pred[i]\n",
    "mobile_brand.rename(columns={'Brand':'brand_val'}, inplace=True)\n",
    "mobile_brand.loc[mobile_brand_na.index]"
   ]
  },
  {
   "cell_type": "code",
   "execution_count": 54,
   "metadata": {},
   "outputs": [
    {
     "data": {
      "text/html": [
       "<div>\n",
       "<style scoped>\n",
       "    .dataframe tbody tr th:only-of-type {\n",
       "        vertical-align: middle;\n",
       "    }\n",
       "\n",
       "    .dataframe tbody tr th {\n",
       "        vertical-align: top;\n",
       "    }\n",
       "\n",
       "    .dataframe thead th {\n",
       "        text-align: right;\n",
       "    }\n",
       "</style>\n",
       "<table border=\"1\" class=\"dataframe\">\n",
       "  <thead>\n",
       "    <tr style=\"text-align: right;\">\n",
       "      <th></th>\n",
       "      <th>itemid</th>\n",
       "      <th>title</th>\n",
       "      <th>brand_val</th>\n",
       "      <th>brand</th>\n",
       "    </tr>\n",
       "  </thead>\n",
       "  <tbody>\n",
       "    <tr>\n",
       "      <td>0</td>\n",
       "      <td>2346660</td>\n",
       "      <td>apple iphone 4s back glass spare part original...</td>\n",
       "      <td>1</td>\n",
       "      <td>apple</td>\n",
       "    </tr>\n",
       "    <tr>\n",
       "      <td>1</td>\n",
       "      <td>2816338</td>\n",
       "      <td>iphone 4s 64gb white</td>\n",
       "      <td>1</td>\n",
       "      <td>apple</td>\n",
       "    </tr>\n",
       "    <tr>\n",
       "      <td>2</td>\n",
       "      <td>9503620</td>\n",
       "      <td>iphone 4g 8gb</td>\n",
       "      <td>1</td>\n",
       "      <td>apple</td>\n",
       "    </tr>\n",
       "    <tr>\n",
       "      <td>3</td>\n",
       "      <td>40385323</td>\n",
       "      <td>iphone 5 white 16gb fullset mulus</td>\n",
       "      <td>1</td>\n",
       "      <td>apple</td>\n",
       "    </tr>\n",
       "    <tr>\n",
       "      <td>4</td>\n",
       "      <td>50117985</td>\n",
       "      <td>iphone 6s 64gb</td>\n",
       "      <td>1</td>\n",
       "      <td>apple</td>\n",
       "    </tr>\n",
       "  </tbody>\n",
       "</table>\n",
       "</div>"
      ],
      "text/plain": [
       "     itemid                                              title  brand_val  \\\n",
       "0   2346660  apple iphone 4s back glass spare part original...          1   \n",
       "1   2816338                               iphone 4s 64gb white          1   \n",
       "2   9503620                                      iphone 4g 8gb          1   \n",
       "3  40385323                  iphone 5 white 16gb fullset mulus          1   \n",
       "4  50117985                                     iphone 6s 64gb          1   \n",
       "\n",
       "   brand  \n",
       "0  apple  \n",
       "1  apple  \n",
       "2  apple  \n",
       "3  apple  \n",
       "4  apple  "
      ]
     },
     "execution_count": 54,
     "metadata": {},
     "output_type": "execute_result"
    }
   ],
   "source": [
    "# relabelling brand and tags and then merging with final mobile brand\n",
    "mobile_value_counts['brand_val'] = mobile_value_counts['brand_val'].map(mobile_top20)\n",
    "mobile_brand_tags = mobile_value_counts[['brand', 'brand_val']]\n",
    "mobile_brand = mobile_brand.merge(mobile_brand_tags, on='brand_val')\n",
    "mobile_brand.head()"
   ]
  },
  {
   "cell_type": "code",
   "execution_count": 55,
   "metadata": {},
   "outputs": [
    {
     "data": {
      "text/plain": [
       "itemid       0\n",
       "title        0\n",
       "brand_val    0\n",
       "brand        0\n",
       "dtype: int64"
      ]
     },
     "execution_count": 55,
     "metadata": {},
     "output_type": "execute_result"
    }
   ],
   "source": [
    "# verifying the merge\n",
    "mobile_brand.isnull().sum()"
   ]
  },
  {
   "cell_type": "code",
   "execution_count": 56,
   "metadata": {},
   "outputs": [
    {
     "data": {
      "text/plain": [
       "0     33827\n",
       "1     32126\n",
       "2     21856\n",
       "3     15598\n",
       "4     11996\n",
       "5      8170\n",
       "19     7514\n",
       "6      5787\n",
       "7      5773\n",
       "8      3651\n",
       "9      2627\n",
       "10     2524\n",
       "11     1553\n",
       "12     1414\n",
       "13     1186\n",
       "14     1099\n",
       "17      961\n",
       "16      911\n",
       "15      908\n",
       "18      849\n",
       "Name: brand_val, dtype: int64"
      ]
     },
     "execution_count": 56,
     "metadata": {},
     "output_type": "execute_result"
    }
   ],
   "source": [
    "# verifying the merge\n",
    "mobile_brand['brand_val'].value_counts()"
   ]
  },
  {
   "cell_type": "code",
   "execution_count": 57,
   "metadata": {},
   "outputs": [
    {
     "data": {
      "text/plain": [
       "samsung       33827\n",
       "apple         32126\n",
       "oppo          21856\n",
       "xiaomi        15598\n",
       "vivo          11996\n",
       "asus           8170\n",
       "others         7514\n",
       "nokia          5787\n",
       "sony           5773\n",
       "hp             3651\n",
       "lenovo         2627\n",
       "advan          2524\n",
       "blackberry     1553\n",
       "lg             1414\n",
       "huawei         1186\n",
       "evercoss       1099\n",
       "google          961\n",
       "oneplus         911\n",
       "infinix         908\n",
       "smartfren       849\n",
       "Name: brand, dtype: int64"
      ]
     },
     "execution_count": 57,
     "metadata": {},
     "output_type": "execute_result"
    }
   ],
   "source": [
    "# verifying the merge\n",
    "mobile_brand['brand'].value_counts()"
   ]
  },
  {
   "cell_type": "markdown",
   "metadata": {},
   "source": [
    "## Exporting the Results"
   ]
  },
  {
   "cell_type": "code",
   "execution_count": 58,
   "metadata": {},
   "outputs": [],
   "source": [
    "mobile_brand.to_csv('mobile_brand_pred.csv', index=False)"
   ]
  },
  {
   "cell_type": "markdown",
   "metadata": {},
   "source": [
    "## Exporting the Model"
   ]
  },
  {
   "cell_type": "code",
   "execution_count": 59,
   "metadata": {},
   "outputs": [],
   "source": [
    "pickle.dump(lr, open('lr.pkl','wb'))"
   ]
  },
  {
   "cell_type": "markdown",
   "metadata": {},
   "source": [
    "## Conclusions and Findings"
   ]
  },
  {
   "cell_type": "markdown",
   "metadata": {},
   "source": [
    "I was able to obtain a good accuracy score using Logistic regression. An attempt to tune the model did not score as well as expected as it is likely that those words were important to differentiate between most of the different brands. \n",
    "\n",
    "There is some difficulty adding other stop words to the model as the free texts include non english terms. This might be due to the popplarity of Shopee in Malaysia and Indonesia. It was even found to be the preferred app for Indonesian mothers. \n",
    "\n",
    "Source:\n",
    "https://www.marketing-interactive.com/shopee-found-to-be-the-most-popular-e-commerce-site-for-indonesian-mothers"
   ]
  },
  {
   "cell_type": "markdown",
   "metadata": {},
   "source": [
    "The reason for not including brand names or model names in stop words is because some models are exclusive to certain brands, e.g. iPhone for Apple or s8 for Samsung. These words help to better separate the phone brands further, which has likely contributed to the high accuracy of the model. \n",
    "\n",
    "Some ways to further improve categorisation would be for the users to enter their free texts as accurately as possible and in English. For better integration, some human resources should be placed to handle those devices classified under 'Others'. "
   ]
  },
  {
   "cell_type": "code",
   "execution_count": null,
   "metadata": {},
   "outputs": [],
   "source": []
  }
 ],
 "metadata": {
  "kernelspec": {
   "display_name": "Python 3",
   "language": "python",
   "name": "python3"
  },
  "language_info": {
   "codemirror_mode": {
    "name": "ipython",
    "version": 3
   },
   "file_extension": ".py",
   "mimetype": "text/x-python",
   "name": "python",
   "nbconvert_exporter": "python",
   "pygments_lexer": "ipython3",
   "version": "3.7.4"
  }
 },
 "nbformat": 4,
 "nbformat_minor": 2
}

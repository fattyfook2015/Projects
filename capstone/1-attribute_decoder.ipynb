{
 "cells": [
  {
   "cell_type": "markdown",
   "metadata": {},
   "source": [
    "# Attribute Decoder\n",
    "----\n",
    "We have to first look through this document before starting we can correctly interpret the columns in our mobile data set. We will be focusing on the 'Mobile' tab in the excel file and apply the neccessary techniques to organise the data. "
   ]
  },
  {
   "cell_type": "markdown",
   "metadata": {},
   "source": [
    "## Import(s)"
   ]
  },
  {
   "cell_type": "code",
   "execution_count": 1,
   "metadata": {},
   "outputs": [],
   "source": [
    "import pandas as pd"
   ]
  },
  {
   "cell_type": "markdown",
   "metadata": {},
   "source": [
    "## Reading the Excel file"
   ]
  },
  {
   "cell_type": "code",
   "execution_count": 2,
   "metadata": {},
   "outputs": [],
   "source": [
    "xls = pd.ExcelFile('Attribute Decoder.xlsx')"
   ]
  },
  {
   "cell_type": "code",
   "execution_count": 3,
   "metadata": {},
   "outputs": [],
   "source": [
    "tags = pd.read_excel(xls, 'Mobile')"
   ]
  },
  {
   "cell_type": "markdown",
   "metadata": {},
   "source": [
    "## Looking through the Attribute Decoder"
   ]
  },
  {
   "cell_type": "code",
   "execution_count": 4,
   "metadata": {},
   "outputs": [
    {
     "data": {
      "text/html": [
       "<div>\n",
       "<style scoped>\n",
       "    .dataframe tbody tr th:only-of-type {\n",
       "        vertical-align: middle;\n",
       "    }\n",
       "\n",
       "    .dataframe tbody tr th {\n",
       "        vertical-align: top;\n",
       "    }\n",
       "\n",
       "    .dataframe thead th {\n",
       "        text-align: right;\n",
       "    }\n",
       "</style>\n",
       "<table border=\"1\" class=\"dataframe\">\n",
       "  <thead>\n",
       "    <tr style=\"text-align: right;\">\n",
       "      <th></th>\n",
       "      <th>\\t\"Operating System\"</th>\n",
       "      <th>Value</th>\n",
       "      <th>Unnamed: 2</th>\n",
       "      <th>\\t\"Features\"</th>\n",
       "      <th>Value.1</th>\n",
       "      <th>Unnamed: 5</th>\n",
       "      <th>\\t\"Network Connections\"</th>\n",
       "      <th>Value.2</th>\n",
       "      <th>Unnamed: 8</th>\n",
       "      <th>\\t\"Memory RAM\"</th>\n",
       "      <th>...</th>\n",
       "      <th>Value.7</th>\n",
       "      <th>Unnamed: 23</th>\n",
       "      <th>\\t\"Phone Model\"</th>\n",
       "      <th>Value.8</th>\n",
       "      <th>Unnamed: 26</th>\n",
       "      <th>\\t\"Camera\"</th>\n",
       "      <th>Value.9</th>\n",
       "      <th>Unnamed: 29</th>\n",
       "      <th>\\t\"Phone Screen Size\"</th>\n",
       "      <th>Value.10</th>\n",
       "    </tr>\n",
       "  </thead>\n",
       "  <tbody>\n",
       "    <tr>\n",
       "      <td>0</td>\n",
       "      <td>\\t\\t\"symbian\"</td>\n",
       "      <td>2,</td>\n",
       "      <td>NaN</td>\n",
       "      <td>\\t\\t\"expandable memory\"</td>\n",
       "      <td>3,</td>\n",
       "      <td>NaN</td>\n",
       "      <td>\\t\\t\"4g\"</td>\n",
       "      <td>0,</td>\n",
       "      <td>NaN</td>\n",
       "      <td>\\t\\t\"4gb\"</td>\n",
       "      <td>...</td>\n",
       "      <td>4,</td>\n",
       "      <td>NaN</td>\n",
       "      <td>\\t\\t\"samsung gear sport\"</td>\n",
       "      <td>1142,</td>\n",
       "      <td>NaN</td>\n",
       "      <td>\\t\\t\"42mp\"</td>\n",
       "      <td>0,</td>\n",
       "      <td>NaN</td>\n",
       "      <td>\\t\\t\"4.6 to 5 inches\"</td>\n",
       "      <td>0,</td>\n",
       "    </tr>\n",
       "    <tr>\n",
       "      <td>1</td>\n",
       "      <td>\\t\\t\"windows\"</td>\n",
       "      <td>3,</td>\n",
       "      <td>NaN</td>\n",
       "      <td>\\t\\t\"touchscreen\"</td>\n",
       "      <td>0,</td>\n",
       "      <td>NaN</td>\n",
       "      <td>\\t\\t\"2g\"</td>\n",
       "      <td>1,</td>\n",
       "      <td>NaN</td>\n",
       "      <td>\\t\\t\"2gb\"</td>\n",
       "      <td>...</td>\n",
       "      <td>0,</td>\n",
       "      <td>NaN</td>\n",
       "      <td>\\t\\t\"sony xperia xa ultra\"</td>\n",
       "      <td>0,</td>\n",
       "      <td>NaN</td>\n",
       "      <td>\\t\\t\"dua slot\"</td>\n",
       "      <td>1,</td>\n",
       "      <td>NaN</td>\n",
       "      <td>\\t\\t\"4.1 to 4.5 inches\"</td>\n",
       "      <td>3,</td>\n",
       "    </tr>\n",
       "    <tr>\n",
       "      <td>2</td>\n",
       "      <td>\\t\\t\"samsung os\"</td>\n",
       "      <td>4,</td>\n",
       "      <td>NaN</td>\n",
       "      <td>\\t\\t\"fingerprint sensor\"</td>\n",
       "      <td>4,</td>\n",
       "      <td>NaN</td>\n",
       "      <td>\\t\\t\"3g\"</td>\n",
       "      <td>2,</td>\n",
       "      <td>NaN</td>\n",
       "      <td>\\t\\t\"1.5gb\"</td>\n",
       "      <td>...</td>\n",
       "      <td>14,</td>\n",
       "      <td>NaN</td>\n",
       "      <td>\\t\\t\"samsung ua55mu6300\"</td>\n",
       "      <td>1998,</td>\n",
       "      <td>NaN</td>\n",
       "      <td>\\t\\t\"5 mp\"</td>\n",
       "      <td>2,</td>\n",
       "      <td>NaN</td>\n",
       "      <td>\\t\\t\"less than 3.5 inches\"</td>\n",
       "      <td>4,</td>\n",
       "    </tr>\n",
       "    <tr>\n",
       "      <td>3</td>\n",
       "      <td>\\t\\t\"blackberry os\"</td>\n",
       "      <td>5,</td>\n",
       "      <td>NaN</td>\n",
       "      <td>\\t\\t\"dustproof\"</td>\n",
       "      <td>6,</td>\n",
       "      <td>NaN</td>\n",
       "      <td>\\t\\t\"3.5g\"</td>\n",
       "      <td>3</td>\n",
       "      <td>NaN</td>\n",
       "      <td>\\t\\t\"16gb\"</td>\n",
       "      <td>...</td>\n",
       "      <td>15,</td>\n",
       "      <td>NaN</td>\n",
       "      <td>\\t\\t\"apple ipad mini wi fi cellular\"</td>\n",
       "      <td>1224,</td>\n",
       "      <td>NaN</td>\n",
       "      <td>\\t\\t\"3 mp\"</td>\n",
       "      <td>3,</td>\n",
       "      <td>NaN</td>\n",
       "      <td>\\t\\t\"3.6 to 4 inches\"</td>\n",
       "      <td>1,</td>\n",
       "    </tr>\n",
       "    <tr>\n",
       "      <td>4</td>\n",
       "      <td>\\t\\t\"nokia os\"</td>\n",
       "      <td>0,</td>\n",
       "      <td>NaN</td>\n",
       "      <td>\\t\\t\"waterproof\"</td>\n",
       "      <td>1,</td>\n",
       "      <td>NaN</td>\n",
       "      <td>NaN</td>\n",
       "      <td>NaN</td>\n",
       "      <td>NaN</td>\n",
       "      <td>\\t\\t\"512mb\"</td>\n",
       "      <td>...</td>\n",
       "      <td>1,</td>\n",
       "      <td>NaN</td>\n",
       "      <td>\\t\\t\"coocaa 55s3a12g\"</td>\n",
       "      <td>1144,</td>\n",
       "      <td>NaN</td>\n",
       "      <td>\\t\\t\"1 mp\"</td>\n",
       "      <td>4,</td>\n",
       "      <td>NaN</td>\n",
       "      <td>\\t\\t\"more than 5.6 inches\"</td>\n",
       "      <td>2,</td>\n",
       "    </tr>\n",
       "  </tbody>\n",
       "</table>\n",
       "<p>5 rows × 32 columns</p>\n",
       "</div>"
      ],
      "text/plain": [
       "  \\t\"Operating System\" Value  Unnamed: 2              \\t\"Features\" Value.1  \\\n",
       "0        \\t\\t\"symbian\"    2,         NaN   \\t\\t\"expandable memory\"      3,   \n",
       "1        \\t\\t\"windows\"    3,         NaN         \\t\\t\"touchscreen\"      0,   \n",
       "2     \\t\\t\"samsung os\"    4,         NaN  \\t\\t\"fingerprint sensor\"      4,   \n",
       "3  \\t\\t\"blackberry os\"    5,         NaN           \\t\\t\"dustproof\"      6,   \n",
       "4       \\t\\t\"nokia os\"    0,         NaN          \\t\\t\"waterproof\"      1,   \n",
       "\n",
       "   Unnamed: 5 \\t\"Network Connections\" Value.2  Unnamed: 8 \\t\"Memory RAM\"  ...  \\\n",
       "0         NaN                \\t\\t\"4g\"      0,         NaN      \\t\\t\"4gb\"  ...   \n",
       "1         NaN                \\t\\t\"2g\"      1,         NaN      \\t\\t\"2gb\"  ...   \n",
       "2         NaN                \\t\\t\"3g\"      2,         NaN    \\t\\t\"1.5gb\"  ...   \n",
       "3         NaN              \\t\\t\"3.5g\"       3         NaN     \\t\\t\"16gb\"  ...   \n",
       "4         NaN                     NaN     NaN         NaN    \\t\\t\"512mb\"  ...   \n",
       "\n",
       "  Value.7  Unnamed: 23                       \\t\"Phone Model\" Value.8  \\\n",
       "0      4,          NaN              \\t\\t\"samsung gear sport\"   1142,   \n",
       "1      0,          NaN            \\t\\t\"sony xperia xa ultra\"      0,   \n",
       "2     14,          NaN              \\t\\t\"samsung ua55mu6300\"   1998,   \n",
       "3     15,          NaN  \\t\\t\"apple ipad mini wi fi cellular\"   1224,   \n",
       "4      1,          NaN                 \\t\\t\"coocaa 55s3a12g\"   1144,   \n",
       "\n",
       "   Unnamed: 26      \\t\"Camera\" Value.9  Unnamed: 29  \\\n",
       "0          NaN      \\t\\t\"42mp\"      0,          NaN   \n",
       "1          NaN  \\t\\t\"dua slot\"      1,          NaN   \n",
       "2          NaN      \\t\\t\"5 mp\"      2,          NaN   \n",
       "3          NaN      \\t\\t\"3 mp\"      3,          NaN   \n",
       "4          NaN      \\t\\t\"1 mp\"      4,          NaN   \n",
       "\n",
       "        \\t\"Phone Screen Size\" Value.10  \n",
       "0       \\t\\t\"4.6 to 5 inches\"       0,  \n",
       "1     \\t\\t\"4.1 to 4.5 inches\"       3,  \n",
       "2  \\t\\t\"less than 3.5 inches\"       4,  \n",
       "3       \\t\\t\"3.6 to 4 inches\"       1,  \n",
       "4  \\t\\t\"more than 5.6 inches\"       2,  \n",
       "\n",
       "[5 rows x 32 columns]"
      ]
     },
     "execution_count": 4,
     "metadata": {},
     "output_type": "execute_result"
    }
   ],
   "source": [
    "# first look at the dataset\n",
    "tags.head()"
   ]
  },
  {
   "cell_type": "code",
   "execution_count": 5,
   "metadata": {},
   "outputs": [
    {
     "data": {
      "text/plain": [
       "Index(['\\t\"Operating System\"', 'Value', 'Unnamed: 2', '\\t\"Features\"',\n",
       "       'Value.1', 'Unnamed: 5', '\\t\"Network Connections\"', 'Value.2',\n",
       "       'Unnamed: 8', '\\t\"Memory RAM\"', 'Value.3', 'Unnamed: 11', '\\t\"Brand\"',\n",
       "       'Value.4', 'Unnamed: 14', '\\t\"Warranty Period\"', 'Value.5',\n",
       "       'Unnamed: 17', '\\t\"Storage Capacity\"', 'Value.6', 'Unnamed: 20',\n",
       "       '\\t\"Color Family\"', 'Value.7', 'Unnamed: 23', '\\t\"Phone Model\"',\n",
       "       'Value.8', 'Unnamed: 26', '\\t\"Camera\"', 'Value.9', 'Unnamed: 29',\n",
       "       '\\t\"Phone Screen Size\"', 'Value.10'],\n",
       "      dtype='object')"
      ]
     },
     "execution_count": 5,
     "metadata": {},
     "output_type": "execute_result"
    }
   ],
   "source": [
    "# looking through the columns\n",
    "tags.columns"
   ]
  },
  {
   "cell_type": "code",
   "execution_count": 6,
   "metadata": {},
   "outputs": [
    {
     "data": {
      "text/plain": [
       "\\t\"Operating System\"       2273\n",
       "Value                      2273\n",
       "Unnamed: 2                 2280\n",
       "\\t\"Features\"               2273\n",
       "Value.1                    2273\n",
       "Unnamed: 5                 2280\n",
       "\\t\"Network Connections\"    2276\n",
       "Value.2                    2276\n",
       "Unnamed: 8                 2280\n",
       "\\t\"Memory RAM\"             2270\n",
       "Value.3                    2270\n",
       "Unnamed: 11                2280\n",
       "\\t\"Brand\"                  2224\n",
       "Value.4                    2224\n",
       "Unnamed: 14                2280\n",
       "\\t\"Warranty Period\"        2266\n",
       "Value.5                    2266\n",
       "Unnamed: 17                2280\n",
       "\\t\"Storage Capacity\"       2262\n",
       "Value.6                    2262\n",
       "Unnamed: 20                2280\n",
       "\\t\"Color Family\"           2254\n",
       "Value.7                    2254\n",
       "Unnamed: 23                2280\n",
       "\\t\"Phone Model\"               0\n",
       "Value.8                       0\n",
       "Unnamed: 26                2280\n",
       "\\t\"Camera\"                 2265\n",
       "Value.9                    2265\n",
       "Unnamed: 29                2280\n",
       "\\t\"Phone Screen Size\"      2274\n",
       "Value.10                   2274\n",
       "dtype: int64"
      ]
     },
     "execution_count": 6,
     "metadata": {},
     "output_type": "execute_result"
    }
   ],
   "source": [
    "# checking for nulls \n",
    "tags.isnull().sum()"
   ]
  },
  {
   "cell_type": "markdown",
   "metadata": {},
   "source": [
    "There are many empty rows in the data set except for 'Phone Model'. This is because only 'Phone Model' has 2280 unique rows while the other columns have less unqiue rows."
   ]
  },
  {
   "cell_type": "code",
   "execution_count": 7,
   "metadata": {},
   "outputs": [
    {
     "data": {
      "text/plain": [
       "['Unnamed: 2',\n",
       " 'Unnamed: 5',\n",
       " 'Unnamed: 8',\n",
       " 'Unnamed: 11',\n",
       " 'Unnamed: 14',\n",
       " 'Unnamed: 17',\n",
       " 'Unnamed: 20',\n",
       " 'Unnamed: 23',\n",
       " 'Unnamed: 26',\n",
       " 'Unnamed: 29']"
      ]
     },
     "execution_count": 7,
     "metadata": {},
     "output_type": "execute_result"
    }
   ],
   "source": [
    "# extracting the blank columns\n",
    "unnamed_cols = [col for col in tags.columns if 'Unnamed' in col]\n",
    "unnamed_cols"
   ]
  },
  {
   "cell_type": "code",
   "execution_count": 8,
   "metadata": {},
   "outputs": [],
   "source": [
    "# dropping the unnamed cols\n",
    "tags = tags.drop(columns=unnamed_cols)"
   ]
  },
  {
   "cell_type": "code",
   "execution_count": 9,
   "metadata": {},
   "outputs": [
    {
     "data": {
      "text/plain": [
       "Index(['\\t\"Operating System\"', 'Value', '\\t\"Features\"', 'Value.1',\n",
       "       '\\t\"Network Connections\"', 'Value.2', '\\t\"Memory RAM\"', 'Value.3',\n",
       "       '\\t\"Brand\"', 'Value.4', '\\t\"Warranty Period\"', 'Value.5',\n",
       "       '\\t\"Storage Capacity\"', 'Value.6', '\\t\"Color Family\"', 'Value.7',\n",
       "       '\\t\"Phone Model\"', 'Value.8', '\\t\"Camera\"', 'Value.9',\n",
       "       '\\t\"Phone Screen Size\"', 'Value.10'],\n",
       "      dtype='object')"
      ]
     },
     "execution_count": 9,
     "metadata": {},
     "output_type": "execute_result"
    }
   ],
   "source": [
    "# verifying the changes\n",
    "tags.columns"
   ]
  },
  {
   "cell_type": "code",
   "execution_count": 10,
   "metadata": {},
   "outputs": [],
   "source": [
    "# defining dict for new column names\n",
    "tags_dict = {'\\t\"Operating System\"':'os', 'Value':'os_val',\n",
    "             '\\t\"Features\"':'features', 'Value.1':'features_val',\n",
    "             '\\t\"Network Connections\"':'network_con', 'Value.2':'network_con_val',\n",
    "             '\\t\"Memory RAM\"':'ram', 'Value.3':'ram_val',\n",
    "             '\\t\"Brand\"':'brand', 'Value.4':'brand_val',\n",
    "             '\\t\"Warranty Period\"':'warranty', 'Value.5':'warranty_val',\n",
    "             '\\t\"Storage Capacity\"':'storage', 'Value.6':'storage_val',\n",
    "             '\\t\"Color Family\"':'color', 'Value.7':'color_val',\n",
    "             '\\t\"Phone Model\"':'model', 'Value.8':'model_val',\n",
    "             '\\t\"Camera\"':'camera', 'Value.9':'camera_val',\n",
    "             '\\t\"Phone Screen Size\"':'screen_size', 'Value.10':'screen_size_val'}"
   ]
  },
  {
   "cell_type": "code",
   "execution_count": 11,
   "metadata": {},
   "outputs": [],
   "source": [
    "# renaming columns\n",
    "tags = tags.rename(columns=tags_dict)"
   ]
  },
  {
   "cell_type": "code",
   "execution_count": 12,
   "metadata": {},
   "outputs": [],
   "source": [
    "# function to remove noise from each entry\n",
    "def clean(x):\n",
    "    try:\n",
    "        return x.split('\\t\\t\"')[1].split('\"')[0]\n",
    "    except:\n",
    "        return x\n",
    "\n",
    "# function to remove commas    \n",
    "def remove_comma(x):\n",
    "    try:\n",
    "        return x.strip(',')\n",
    "    except:\n",
    "        return x"
   ]
  },
  {
   "cell_type": "code",
   "execution_count": 13,
   "metadata": {},
   "outputs": [],
   "source": [
    "# cleaning the dataset \n",
    "for i in tags.columns:\n",
    "    tags[i] = tags[i].apply(lambda x : remove_comma(clean(x)))"
   ]
  },
  {
   "cell_type": "code",
   "execution_count": 14,
   "metadata": {},
   "outputs": [
    {
     "data": {
      "text/html": [
       "<div>\n",
       "<style scoped>\n",
       "    .dataframe tbody tr th:only-of-type {\n",
       "        vertical-align: middle;\n",
       "    }\n",
       "\n",
       "    .dataframe tbody tr th {\n",
       "        vertical-align: top;\n",
       "    }\n",
       "\n",
       "    .dataframe thead th {\n",
       "        text-align: right;\n",
       "    }\n",
       "</style>\n",
       "<table border=\"1\" class=\"dataframe\">\n",
       "  <thead>\n",
       "    <tr style=\"text-align: right;\">\n",
       "      <th></th>\n",
       "      <th>os</th>\n",
       "      <th>os_val</th>\n",
       "      <th>features</th>\n",
       "      <th>features_val</th>\n",
       "      <th>network_con</th>\n",
       "      <th>network_con_val</th>\n",
       "      <th>ram</th>\n",
       "      <th>ram_val</th>\n",
       "      <th>brand</th>\n",
       "      <th>brand_val</th>\n",
       "      <th>...</th>\n",
       "      <th>storage</th>\n",
       "      <th>storage_val</th>\n",
       "      <th>color</th>\n",
       "      <th>color_val</th>\n",
       "      <th>model</th>\n",
       "      <th>model_val</th>\n",
       "      <th>camera</th>\n",
       "      <th>camera_val</th>\n",
       "      <th>screen_size</th>\n",
       "      <th>screen_size_val</th>\n",
       "    </tr>\n",
       "  </thead>\n",
       "  <tbody>\n",
       "    <tr>\n",
       "      <td>0</td>\n",
       "      <td>symbian</td>\n",
       "      <td>2</td>\n",
       "      <td>expandable memory</td>\n",
       "      <td>3</td>\n",
       "      <td>4g</td>\n",
       "      <td>0</td>\n",
       "      <td>4gb</td>\n",
       "      <td>5</td>\n",
       "      <td>google</td>\n",
       "      <td>0</td>\n",
       "      <td>...</td>\n",
       "      <td>256gb</td>\n",
       "      <td>16</td>\n",
       "      <td>blue</td>\n",
       "      <td>4</td>\n",
       "      <td>samsung gear sport</td>\n",
       "      <td>1142</td>\n",
       "      <td>42mp</td>\n",
       "      <td>0</td>\n",
       "      <td>4.6 to 5 inches</td>\n",
       "      <td>0</td>\n",
       "    </tr>\n",
       "    <tr>\n",
       "      <td>1</td>\n",
       "      <td>windows</td>\n",
       "      <td>3</td>\n",
       "      <td>touchscreen</td>\n",
       "      <td>0</td>\n",
       "      <td>2g</td>\n",
       "      <td>1</td>\n",
       "      <td>2gb</td>\n",
       "      <td>6</td>\n",
       "      <td>htc</td>\n",
       "      <td>1</td>\n",
       "      <td>...</td>\n",
       "      <td>1.5gb</td>\n",
       "      <td>0</td>\n",
       "      <td>gold</td>\n",
       "      <td>0</td>\n",
       "      <td>sony xperia xa ultra</td>\n",
       "      <td>0</td>\n",
       "      <td>dua slot</td>\n",
       "      <td>1</td>\n",
       "      <td>4.1 to 4.5 inches</td>\n",
       "      <td>3</td>\n",
       "    </tr>\n",
       "    <tr>\n",
       "      <td>2</td>\n",
       "      <td>samsung os</td>\n",
       "      <td>4</td>\n",
       "      <td>fingerprint sensor</td>\n",
       "      <td>4</td>\n",
       "      <td>3g</td>\n",
       "      <td>2</td>\n",
       "      <td>1.5gb</td>\n",
       "      <td>0</td>\n",
       "      <td>apple</td>\n",
       "      <td>2</td>\n",
       "      <td>...</td>\n",
       "      <td>128gb</td>\n",
       "      <td>1</td>\n",
       "      <td>brown</td>\n",
       "      <td>14</td>\n",
       "      <td>samsung ua55mu6300</td>\n",
       "      <td>1998</td>\n",
       "      <td>5 mp</td>\n",
       "      <td>2</td>\n",
       "      <td>less than 3.5 inches</td>\n",
       "      <td>4</td>\n",
       "    </tr>\n",
       "    <tr>\n",
       "      <td>3</td>\n",
       "      <td>blackberry os</td>\n",
       "      <td>5</td>\n",
       "      <td>dustproof</td>\n",
       "      <td>6</td>\n",
       "      <td>3.5g</td>\n",
       "      <td>3</td>\n",
       "      <td>16gb</td>\n",
       "      <td>9</td>\n",
       "      <td>wiko</td>\n",
       "      <td>3</td>\n",
       "      <td>...</td>\n",
       "      <td>512mb</td>\n",
       "      <td>2</td>\n",
       "      <td>navy blue</td>\n",
       "      <td>15</td>\n",
       "      <td>apple ipad mini wi fi cellular</td>\n",
       "      <td>1224</td>\n",
       "      <td>3 mp</td>\n",
       "      <td>3</td>\n",
       "      <td>3.6 to 4 inches</td>\n",
       "      <td>1</td>\n",
       "    </tr>\n",
       "    <tr>\n",
       "      <td>4</td>\n",
       "      <td>nokia os</td>\n",
       "      <td>0</td>\n",
       "      <td>waterproof</td>\n",
       "      <td>1</td>\n",
       "      <td>NaN</td>\n",
       "      <td>NaN</td>\n",
       "      <td>512mb</td>\n",
       "      <td>1</td>\n",
       "      <td>polytron</td>\n",
       "      <td>4</td>\n",
       "      <td>...</td>\n",
       "      <td>64gb</td>\n",
       "      <td>3</td>\n",
       "      <td>yellow</td>\n",
       "      <td>1</td>\n",
       "      <td>coocaa 55s3a12g</td>\n",
       "      <td>1144</td>\n",
       "      <td>1 mp</td>\n",
       "      <td>4</td>\n",
       "      <td>more than 5.6 inches</td>\n",
       "      <td>2</td>\n",
       "    </tr>\n",
       "  </tbody>\n",
       "</table>\n",
       "<p>5 rows × 22 columns</p>\n",
       "</div>"
      ],
      "text/plain": [
       "              os os_val            features features_val network_con  \\\n",
       "0        symbian      2   expandable memory            3          4g   \n",
       "1        windows      3         touchscreen            0          2g   \n",
       "2     samsung os      4  fingerprint sensor            4          3g   \n",
       "3  blackberry os      5           dustproof            6        3.5g   \n",
       "4       nokia os      0          waterproof            1         NaN   \n",
       "\n",
       "  network_con_val    ram ram_val     brand brand_val  ... storage storage_val  \\\n",
       "0               0    4gb       5    google         0  ...   256gb          16   \n",
       "1               1    2gb       6       htc         1  ...   1.5gb           0   \n",
       "2               2  1.5gb       0     apple         2  ...   128gb           1   \n",
       "3               3   16gb       9      wiko         3  ...   512mb           2   \n",
       "4             NaN  512mb       1  polytron         4  ...    64gb           3   \n",
       "\n",
       "       color color_val                           model model_val    camera  \\\n",
       "0       blue         4              samsung gear sport      1142      42mp   \n",
       "1       gold         0            sony xperia xa ultra         0  dua slot   \n",
       "2      brown        14              samsung ua55mu6300      1998      5 mp   \n",
       "3  navy blue        15  apple ipad mini wi fi cellular      1224      3 mp   \n",
       "4     yellow         1                 coocaa 55s3a12g      1144      1 mp   \n",
       "\n",
       "  camera_val           screen_size screen_size_val  \n",
       "0          0       4.6 to 5 inches               0  \n",
       "1          1     4.1 to 4.5 inches               3  \n",
       "2          2  less than 3.5 inches               4  \n",
       "3          3       3.6 to 4 inches               1  \n",
       "4          4  more than 5.6 inches               2  \n",
       "\n",
       "[5 rows x 22 columns]"
      ]
     },
     "execution_count": 14,
     "metadata": {},
     "output_type": "execute_result"
    }
   ],
   "source": [
    "# verifying the changes\n",
    "tags.head()"
   ]
  },
  {
   "cell_type": "code",
   "execution_count": 16,
   "metadata": {},
   "outputs": [
    {
     "data": {
      "text/plain": [
       "0       7 months\n",
       "1       4 months\n",
       "2       6 months\n",
       "3       3 months\n",
       "4       10 years\n",
       "          ...   \n",
       "2275         NaN\n",
       "2276         NaN\n",
       "2277         NaN\n",
       "2278         NaN\n",
       "2279         NaN\n",
       "Name: warranty, Length: 2280, dtype: object"
      ]
     },
     "execution_count": 16,
     "metadata": {},
     "output_type": "execute_result"
    }
   ],
   "source": [
    "tags['warranty']"
   ]
  },
  {
   "cell_type": "markdown",
   "metadata": {},
   "source": [
    "## Export"
   ]
  },
  {
   "cell_type": "code",
   "execution_count": null,
   "metadata": {},
   "outputs": [],
   "source": [
    "tags.to_csv('tags.csv', index=False)"
   ]
  }
 ],
 "metadata": {
  "kernelspec": {
   "display_name": "Python 3",
   "language": "python",
   "name": "python3"
  },
  "language_info": {
   "codemirror_mode": {
    "name": "ipython",
    "version": 3
   },
   "file_extension": ".py",
   "mimetype": "text/x-python",
   "name": "python",
   "nbconvert_exporter": "python",
   "pygments_lexer": "ipython3",
   "version": "3.7.4"
  }
 },
 "nbformat": 4,
 "nbformat_minor": 2
}

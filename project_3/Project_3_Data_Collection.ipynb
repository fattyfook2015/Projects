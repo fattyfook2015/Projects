{
 "cells": [
  {
   "cell_type": "markdown",
   "metadata": {},
   "source": [
    "## Data Collection "
   ]
  },
  {
   "cell_type": "code",
   "execution_count": 1,
   "metadata": {},
   "outputs": [],
   "source": [
    "# imports\n",
    "import requests\n",
    "import pandas as pd\n",
    "import time\n",
    "import random"
   ]
  },
  {
   "cell_type": "markdown",
   "metadata": {},
   "source": [
    "## Scrapping"
   ]
  },
  {
   "cell_type": "code",
   "execution_count": 12,
   "metadata": {},
   "outputs": [],
   "source": [
    "# function that takes in reddit url and returns a dataframe of scrapped data\n",
    "def reddit_scrape(url):\n",
    "    posts = []\n",
    "    after = None\n",
    "\n",
    "    for a in range(40):\n",
    "        if after == None:\n",
    "            current_url = url\n",
    "        else:\n",
    "            current_url = url + '?after=' + after\n",
    "        res = requests.get(current_url, headers={'User-agent': 'Russ1337'})\n",
    "    \n",
    "        if res.status_code != 200:\n",
    "            print('Status error', res.status_code)\n",
    "            break\n",
    "    \n",
    "        current_dict = res.json()\n",
    "        current_posts = [p['data'] for p in current_dict['data']['children']]\n",
    "        posts.extend(current_posts)\n",
    "        after = current_dict['data']['after']\n",
    "    \n",
    "        # generate a random sleep duration to look more 'natural'\n",
    "        sleep_duration = random.randint(2,5)\n",
    "        time.sleep(sleep_duration)\n",
    "    df = pd.DataFrame(posts)\n",
    "    return df"
   ]
  },
  {
   "cell_type": "markdown",
   "metadata": {},
   "source": [
    "## Subreddit Thread: History"
   ]
  },
  {
   "cell_type": "code",
   "execution_count": 13,
   "metadata": {},
   "outputs": [],
   "source": [
    "# subreddit thread history\n",
    "url_hist = 'https://www.reddit.com/r/history.json'"
   ]
  },
  {
   "cell_type": "code",
   "execution_count": 16,
   "metadata": {},
   "outputs": [],
   "source": [
    "# scrapping history\n",
    "df_hist = reddit_scrape(url_hist)"
   ]
  },
  {
   "cell_type": "code",
   "execution_count": 20,
   "metadata": {},
   "outputs": [],
   "source": [
    "# removing duplicate posts, if any\n",
    "df_hist = df_hist.drop_duplicates(subset='title')"
   ]
  },
  {
   "cell_type": "code",
   "execution_count": 32,
   "metadata": {},
   "outputs": [],
   "source": [
    "# keeping relevant columns\n",
    "df_hist = df_hist[['title', 'selftext', 'subreddit']]"
   ]
  },
  {
   "cell_type": "code",
   "execution_count": 57,
   "metadata": {},
   "outputs": [
    {
     "data": {
      "text/plain": [
       "(1000, 3)"
      ]
     },
     "execution_count": 57,
     "metadata": {},
     "output_type": "execute_result"
    }
   ],
   "source": [
    "# shape of dataframe\n",
    "df_hist.shape"
   ]
  },
  {
   "cell_type": "code",
   "execution_count": 48,
   "metadata": {},
   "outputs": [
    {
     "data": {
      "text/html": [
       "<div>\n",
       "<style scoped>\n",
       "    .dataframe tbody tr th:only-of-type {\n",
       "        vertical-align: middle;\n",
       "    }\n",
       "\n",
       "    .dataframe tbody tr th {\n",
       "        vertical-align: top;\n",
       "    }\n",
       "\n",
       "    .dataframe thead th {\n",
       "        text-align: right;\n",
       "    }\n",
       "</style>\n",
       "<table border=\"1\" class=\"dataframe\">\n",
       "  <thead>\n",
       "    <tr style=\"text-align: right;\">\n",
       "      <th></th>\n",
       "      <th>title</th>\n",
       "      <th>selftext</th>\n",
       "      <th>subreddit</th>\n",
       "    </tr>\n",
       "  </thead>\n",
       "  <tbody>\n",
       "    <tr>\n",
       "      <td>0</td>\n",
       "      <td>Silly Questions Saturday, January 25, 2020</td>\n",
       "      <td>Do you have a question about history and have ...</td>\n",
       "      <td>history</td>\n",
       "    </tr>\n",
       "    <tr>\n",
       "      <td>1</td>\n",
       "      <td>75 years since Auschwitz: Survivors share stor...</td>\n",
       "      <td></td>\n",
       "      <td>history</td>\n",
       "    </tr>\n",
       "    <tr>\n",
       "      <td>2</td>\n",
       "      <td>Forty five years ago, eight Soviet women climb...</td>\n",
       "      <td></td>\n",
       "      <td>history</td>\n",
       "    </tr>\n",
       "    <tr>\n",
       "      <td>3</td>\n",
       "      <td>Why is it so uncommon for U.S. Presidents to c...</td>\n",
       "      <td>It's really quite surprising to me that only 3...</td>\n",
       "      <td>history</td>\n",
       "    </tr>\n",
       "    <tr>\n",
       "      <td>4</td>\n",
       "      <td>According to a study done by the United States...</td>\n",
       "      <td>[https://encyclopedia.ushmm.org/content/en/ar...</td>\n",
       "      <td>history</td>\n",
       "    </tr>\n",
       "  </tbody>\n",
       "</table>\n",
       "</div>"
      ],
      "text/plain": [
       "                                               title  \\\n",
       "0         Silly Questions Saturday, January 25, 2020   \n",
       "1  75 years since Auschwitz: Survivors share stor...   \n",
       "2  Forty five years ago, eight Soviet women climb...   \n",
       "3  Why is it so uncommon for U.S. Presidents to c...   \n",
       "4  According to a study done by the United States...   \n",
       "\n",
       "                                            selftext subreddit  \n",
       "0  Do you have a question about history and have ...   history  \n",
       "1                                                      history  \n",
       "2                                                      history  \n",
       "3  It's really quite surprising to me that only 3...   history  \n",
       "4   [https://encyclopedia.ushmm.org/content/en/ar...   history  "
      ]
     },
     "execution_count": 48,
     "metadata": {},
     "output_type": "execute_result"
    }
   ],
   "source": [
    "# checking the dataframe after filter\n",
    "df_hist.head()"
   ]
  },
  {
   "cell_type": "code",
   "execution_count": 46,
   "metadata": {},
   "outputs": [
    {
     "data": {
      "text/plain": [
       "title        0\n",
       "selftext     0\n",
       "subreddit    0\n",
       "dtype: int64"
      ]
     },
     "execution_count": 46,
     "metadata": {},
     "output_type": "execute_result"
    }
   ],
   "source": [
    "# checking for null\n",
    "df_hist.isnull().sum()"
   ]
  },
  {
   "cell_type": "markdown",
   "metadata": {},
   "source": [
    "## Subreddit Thread: No such thing as stupid questions"
   ]
  },
  {
   "cell_type": "code",
   "execution_count": 15,
   "metadata": {},
   "outputs": [],
   "source": [
    "# subreddit thread no such thing as stupid questions\n",
    "url_nsq = 'https://www.reddit.com/r/NoStupidQuestions.json' "
   ]
  },
  {
   "cell_type": "code",
   "execution_count": 17,
   "metadata": {},
   "outputs": [],
   "source": [
    "# scrapping no such thing as stupid questions\n",
    "df_nsq = reddit_scrape(url_nsq)"
   ]
  },
  {
   "cell_type": "code",
   "execution_count": 34,
   "metadata": {},
   "outputs": [],
   "source": [
    "# removing duplicate posts, if any\n",
    "df_nsq = df_nsq.drop_duplicates(subset='title')"
   ]
  },
  {
   "cell_type": "code",
   "execution_count": 37,
   "metadata": {},
   "outputs": [],
   "source": [
    "# keeping relevant columns\n",
    "df_nsq = df_nsq[['title', 'selftext', 'subreddit']]"
   ]
  },
  {
   "cell_type": "code",
   "execution_count": 56,
   "metadata": {},
   "outputs": [
    {
     "data": {
      "text/plain": [
       "(947, 3)"
      ]
     },
     "execution_count": 56,
     "metadata": {},
     "output_type": "execute_result"
    }
   ],
   "source": [
    "# shape of dataframe\n",
    "df_nsq.shape"
   ]
  },
  {
   "cell_type": "code",
   "execution_count": 49,
   "metadata": {},
   "outputs": [
    {
     "data": {
      "text/html": [
       "<div>\n",
       "<style scoped>\n",
       "    .dataframe tbody tr th:only-of-type {\n",
       "        vertical-align: middle;\n",
       "    }\n",
       "\n",
       "    .dataframe tbody tr th {\n",
       "        vertical-align: top;\n",
       "    }\n",
       "\n",
       "    .dataframe thead th {\n",
       "        text-align: right;\n",
       "    }\n",
       "</style>\n",
       "<table border=\"1\" class=\"dataframe\">\n",
       "  <thead>\n",
       "    <tr style=\"text-align: right;\">\n",
       "      <th></th>\n",
       "      <th>title</th>\n",
       "      <th>selftext</th>\n",
       "      <th>subreddit</th>\n",
       "    </tr>\n",
       "  </thead>\n",
       "  <tbody>\n",
       "    <tr>\n",
       "      <td>0</td>\n",
       "      <td>Impeachment Megathread</td>\n",
       "      <td>So, when the \"Why hasn't Trump been impeached ...</td>\n",
       "      <td>NoStupidQuestions</td>\n",
       "    </tr>\n",
       "    <tr>\n",
       "      <td>1</td>\n",
       "      <td>The Best of No Stupid Questions 2019</td>\n",
       "      <td>Thanks to everyone who participated and contri...</td>\n",
       "      <td>NoStupidQuestions</td>\n",
       "    </tr>\n",
       "    <tr>\n",
       "      <td>2</td>\n",
       "      <td>Why can't I sensor political content from my R...</td>\n",
       "      <td>I come to this website to relax and laugh.  I ...</td>\n",
       "      <td>NoStupidQuestions</td>\n",
       "    </tr>\n",
       "    <tr>\n",
       "      <td>3</td>\n",
       "      <td>What's the correct way to have a through shower?</td>\n",
       "      <td>I grew up neglected and abused. I have never t...</td>\n",
       "      <td>NoStupidQuestions</td>\n",
       "    </tr>\n",
       "    <tr>\n",
       "      <td>4</td>\n",
       "      <td>Is it normal to check the faces of friends and...</td>\n",
       "      <td>Ever since I was a kid I always found myself t...</td>\n",
       "      <td>NoStupidQuestions</td>\n",
       "    </tr>\n",
       "  </tbody>\n",
       "</table>\n",
       "</div>"
      ],
      "text/plain": [
       "                                               title  \\\n",
       "0                             Impeachment Megathread   \n",
       "1               The Best of No Stupid Questions 2019   \n",
       "2  Why can't I sensor political content from my R...   \n",
       "3   What's the correct way to have a through shower?   \n",
       "4  Is it normal to check the faces of friends and...   \n",
       "\n",
       "                                            selftext          subreddit  \n",
       "0  So, when the \"Why hasn't Trump been impeached ...  NoStupidQuestions  \n",
       "1  Thanks to everyone who participated and contri...  NoStupidQuestions  \n",
       "2  I come to this website to relax and laugh.  I ...  NoStupidQuestions  \n",
       "3  I grew up neglected and abused. I have never t...  NoStupidQuestions  \n",
       "4  Ever since I was a kid I always found myself t...  NoStupidQuestions  "
      ]
     },
     "execution_count": 49,
     "metadata": {},
     "output_type": "execute_result"
    }
   ],
   "source": [
    "# checking the dataframe after filter\n",
    "df_nsq.head()"
   ]
  },
  {
   "cell_type": "code",
   "execution_count": 50,
   "metadata": {},
   "outputs": [
    {
     "data": {
      "text/plain": [
       "title        0\n",
       "selftext     0\n",
       "subreddit    0\n",
       "dtype: int64"
      ]
     },
     "execution_count": 50,
     "metadata": {},
     "output_type": "execute_result"
    }
   ],
   "source": [
    "# checking for null\n",
    "df_nsq.isnull().sum()"
   ]
  },
  {
   "cell_type": "markdown",
   "metadata": {},
   "source": [
    "## Merging the Datasets"
   ]
  },
  {
   "cell_type": "code",
   "execution_count": 51,
   "metadata": {},
   "outputs": [],
   "source": [
    "# concatenating the 2 datasets\n",
    "df_reddit = pd.concat([df_hist, df_nsq], ignore_index=True)"
   ]
  },
  {
   "cell_type": "code",
   "execution_count": 53,
   "metadata": {},
   "outputs": [
    {
     "data": {
      "text/html": [
       "<div>\n",
       "<style scoped>\n",
       "    .dataframe tbody tr th:only-of-type {\n",
       "        vertical-align: middle;\n",
       "    }\n",
       "\n",
       "    .dataframe tbody tr th {\n",
       "        vertical-align: top;\n",
       "    }\n",
       "\n",
       "    .dataframe thead th {\n",
       "        text-align: right;\n",
       "    }\n",
       "</style>\n",
       "<table border=\"1\" class=\"dataframe\">\n",
       "  <thead>\n",
       "    <tr style=\"text-align: right;\">\n",
       "      <th></th>\n",
       "      <th>title</th>\n",
       "      <th>selftext</th>\n",
       "      <th>subreddit</th>\n",
       "    </tr>\n",
       "  </thead>\n",
       "  <tbody>\n",
       "    <tr>\n",
       "      <td>0</td>\n",
       "      <td>Silly Questions Saturday, January 25, 2020</td>\n",
       "      <td>Do you have a question about history and have ...</td>\n",
       "      <td>history</td>\n",
       "    </tr>\n",
       "    <tr>\n",
       "      <td>1</td>\n",
       "      <td>75 years since Auschwitz: Survivors share stor...</td>\n",
       "      <td></td>\n",
       "      <td>history</td>\n",
       "    </tr>\n",
       "    <tr>\n",
       "      <td>2</td>\n",
       "      <td>Forty five years ago, eight Soviet women climb...</td>\n",
       "      <td></td>\n",
       "      <td>history</td>\n",
       "    </tr>\n",
       "    <tr>\n",
       "      <td>3</td>\n",
       "      <td>Why is it so uncommon for U.S. Presidents to c...</td>\n",
       "      <td>It's really quite surprising to me that only 3...</td>\n",
       "      <td>history</td>\n",
       "    </tr>\n",
       "    <tr>\n",
       "      <td>4</td>\n",
       "      <td>According to a study done by the United States...</td>\n",
       "      <td>[https://encyclopedia.ushmm.org/content/en/ar...</td>\n",
       "      <td>history</td>\n",
       "    </tr>\n",
       "    <tr>\n",
       "      <td>...</td>\n",
       "      <td>...</td>\n",
       "      <td>...</td>\n",
       "      <td>...</td>\n",
       "    </tr>\n",
       "    <tr>\n",
       "      <td>1942</td>\n",
       "      <td>Why was Columbus such a dumbass?</td>\n",
       "      <td></td>\n",
       "      <td>NoStupidQuestions</td>\n",
       "    </tr>\n",
       "    <tr>\n",
       "      <td>1943</td>\n",
       "      <td>Why arent there any younger children coming ou...</td>\n",
       "      <td></td>\n",
       "      <td>NoStupidQuestions</td>\n",
       "    </tr>\n",
       "    <tr>\n",
       "      <td>1944</td>\n",
       "      <td>Of the last hundred days with a 1% chance of r...</td>\n",
       "      <td>Am I mangling both meteorology and math here...</td>\n",
       "      <td>NoStupidQuestions</td>\n",
       "    </tr>\n",
       "    <tr>\n",
       "      <td>1945</td>\n",
       "      <td>Too satisfying = nervous?</td>\n",
       "      <td>So occationally, when I'm seeing something bee...</td>\n",
       "      <td>NoStupidQuestions</td>\n",
       "    </tr>\n",
       "    <tr>\n",
       "      <td>1946</td>\n",
       "      <td>If you get indefinitely banned from a place as...</td>\n",
       "      <td></td>\n",
       "      <td>NoStupidQuestions</td>\n",
       "    </tr>\n",
       "  </tbody>\n",
       "</table>\n",
       "<p>1947 rows × 3 columns</p>\n",
       "</div>"
      ],
      "text/plain": [
       "                                                  title  \\\n",
       "0            Silly Questions Saturday, January 25, 2020   \n",
       "1     75 years since Auschwitz: Survivors share stor...   \n",
       "2     Forty five years ago, eight Soviet women climb...   \n",
       "3     Why is it so uncommon for U.S. Presidents to c...   \n",
       "4     According to a study done by the United States...   \n",
       "...                                                 ...   \n",
       "1942                   Why was Columbus such a dumbass?   \n",
       "1943  Why arent there any younger children coming ou...   \n",
       "1944  Of the last hundred days with a 1% chance of r...   \n",
       "1945                          Too satisfying = nervous?   \n",
       "1946  If you get indefinitely banned from a place as...   \n",
       "\n",
       "                                               selftext          subreddit  \n",
       "0     Do you have a question about history and have ...            history  \n",
       "1                                                                  history  \n",
       "2                                                                  history  \n",
       "3     It's really quite surprising to me that only 3...            history  \n",
       "4      [https://encyclopedia.ushmm.org/content/en/ar...            history  \n",
       "...                                                 ...                ...  \n",
       "1942                                                     NoStupidQuestions  \n",
       "1943                                                     NoStupidQuestions  \n",
       "1944    Am I mangling both meteorology and math here...  NoStupidQuestions  \n",
       "1945  So occationally, when I'm seeing something bee...  NoStupidQuestions  \n",
       "1946                                                     NoStupidQuestions  \n",
       "\n",
       "[1947 rows x 3 columns]"
      ]
     },
     "execution_count": 53,
     "metadata": {},
     "output_type": "execute_result"
    }
   ],
   "source": [
    "# verifying the concatenation\n",
    "df_reddit"
   ]
  },
  {
   "cell_type": "markdown",
   "metadata": {},
   "source": [
    "## Exporting Combined Dataset"
   ]
  },
  {
   "cell_type": "code",
   "execution_count": 55,
   "metadata": {},
   "outputs": [],
   "source": [
    "# saving to csv\n",
    "df_reddit.to_csv('subreddit_combined.csv')"
   ]
  }
 ],
 "metadata": {
  "kernelspec": {
   "display_name": "Python 3",
   "language": "python",
   "name": "python3"
  },
  "language_info": {
   "codemirror_mode": {
    "name": "ipython",
    "version": 3
   },
   "file_extension": ".py",
   "mimetype": "text/x-python",
   "name": "python",
   "nbconvert_exporter": "python",
   "pygments_lexer": "ipython3",
   "version": "3.7.4"
  }
 },
 "nbformat": 4,
 "nbformat_minor": 2
}
